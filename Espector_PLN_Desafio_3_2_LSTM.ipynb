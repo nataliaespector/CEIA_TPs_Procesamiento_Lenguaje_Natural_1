{
  "cells": [
    {
      "cell_type": "markdown",
      "metadata": {
        "id": "view-in-github",
        "colab_type": "text"
      },
      "source": [
        "<a href=\"https://colab.research.google.com/github/nataliaespector/CEIA_TPs_Procesamiento_Lenguaje_Natural_1/blob/main/Espector_PLN_Desafio_3_2_LSTM.ipynb\" target=\"_parent\"><img src=\"https://colab.research.google.com/assets/colab-badge.svg\" alt=\"Open In Colab\"/></a>"
      ]
    },
    {
      "cell_type": "markdown",
      "metadata": {
        "id": "g3yeJGnCYxuF"
      },
      "source": [
        "<img src=\"https://github.com/hernancontigiani/ceia_memorias_especializacion/raw/master/Figures/logoFIUBA.jpg\" width=\"500\" align=\"center\">\n",
        "\n",
        "\n",
        "# Procesamiento de lenguaje natural\n",
        "## Modelo de lenguaje con tokenización por caracteres"
      ]
    },
    {
      "cell_type": "markdown",
      "metadata": {
        "id": "Iv5PEwGzZA9-"
      },
      "source": [
        "### Consigna\n",
        "- Seleccionar un corpus de texto sobre el cual entrenar el modelo de lenguaje.\n",
        "- Realizar el pre-procesamiento adecuado para tokenizar el corpus, estructurar el dataset y separar entre datos de entrenamiento y validación.\n",
        "- Proponer arquitecturas de redes neuronales basadas en unidades recurrentes para implementar un modelo de lenguaje.\n",
        "- Con el o los modelos que consideren adecuados, generar nuevas secuencias a partir de secuencias de contexto con las estrategias de greedy search y beam search determístico y estocástico. En este último caso observar el efecto de la temperatura en la generación de secuencias.\n",
        "\n",
        "\n",
        "### Sugerencias\n",
        "- Durante el entrenamiento, guiarse por el descenso de la perplejidad en los datos de validación para finalizar el entrenamiento. Para ello se provee un callback.\n",
        "- Explorar utilizar SimpleRNN (celda de Elman), LSTM y GRU.\n",
        "- rmsprop es el optimizador recomendado para la buena convergencia. No obstante se pueden explorar otros.\n"
      ]
    },
    {
      "cell_type": "code",
      "execution_count": 170,
      "metadata": {
        "id": "Y-QdFbHZYj7C"
      },
      "outputs": [],
      "source": [
        "import random\n",
        "import io\n",
        "import pickle\n",
        "\n",
        "import os\n",
        "import platform\n",
        "import numpy as np\n",
        "import pandas as pd\n",
        "import matplotlib.pyplot as plt\n",
        "from sklearn.model_selection import train_test_split\n",
        "\n",
        "import torch\n",
        "import torch.nn as nn\n",
        "import torch.nn.functional as F\n",
        "from torch.utils.data import Dataset, DataLoader\n",
        "from tensorflow.keras.preprocessing.text import Tokenizer, text_to_word_sequence\n",
        "from scipy.special import softmax\n",
        "from tensorflow.keras.losses import SparseCategoricalCrossentropy"
      ]
    },
    {
      "cell_type": "markdown",
      "metadata": {
        "id": "xTvXlEKQZdqx"
      },
      "source": [
        "### Datos\n",
        "Utilizaremos como dataset el libro \"Cinco Semanas en Globo\" de Julio Verne."
      ]
    },
    {
      "cell_type": "code",
      "execution_count": 171,
      "metadata": {
        "id": "7amy6uUaBLVD"
      },
      "outputs": [],
      "source": [
        "# descargar de textos.info\n",
        "import urllib.request\n",
        "\n",
        "# Para leer y parsear el texto en HTML de wikipedia\n",
        "import bs4 as bs"
      ]
    },
    {
      "cell_type": "code",
      "execution_count": 172,
      "metadata": {
        "id": "6v_ickFwBJTy"
      },
      "outputs": [],
      "source": [
        "raw_html = urllib.request.urlopen('https://www.textos.info/julio-verne/cinco-semanas-en-globo/ebook')\n",
        "raw_html = raw_html.read()\n",
        "\n",
        "# Parsear artículo, 'lxml' es el parser a utilizar\n",
        "article_html = bs.BeautifulSoup(raw_html, 'lxml')\n",
        "\n",
        "# Encontrar todos los párrafos del HTML (bajo el tag <p>)\n",
        "# y tenerlos disponible como lista\n",
        "article_paragraphs = article_html.find_all('p')\n",
        "\n",
        "article_text = ''\n",
        "\n",
        "for para in article_paragraphs:\n",
        "    article_text += para.text + ' '\n",
        "\n",
        "# pasar todo el texto a minúscula\n",
        "article_text = article_text.lower()"
      ]
    },
    {
      "cell_type": "code",
      "execution_count": 173,
      "metadata": {
        "id": "WBE0sSYuB-E6",
        "colab": {
          "base_uri": "https://localhost:8080/",
          "height": 91
        },
        "outputId": "8d40a2cd-0d5f-4459-e5d8-f2b545504f74"
      },
      "outputs": [
        {
          "output_type": "execute_result",
          "data": {
            "text/plain": [
              "' el final de un discurso muy\\r\\naplaudido. —\\r\\npresentación del doctor samuel fergusson. —\\r\\n\" excelsior. \" — retrato de cuerpo entero del doctor. —\\r\\nun fatalista convencido. — comida en el traveller\\'s club. —\\r\\nnumerosos brindis de circunstancias el día 14 de enero de 1862 había asistido un numeroso auditorio\\r\\na la sesión de la real sociedad geográfica de londres, plaza de\\r\\nwaterloo, 3. el presidente, sir francis m … . comunicaba a sus\\r\\nilustres colegas un hecho importante en un discurso frecuentemente\\r\\ninterrumpido por los aplausos. aquella notable muestra de elocuencia finalizaba con unas\\r\\ncuantas frases rimbombantes en las que el patriotismo manaba a\\r\\nborbotones: \"inglaterra ha marchado siempre a la cabeza de las\\r\\nnaciones (ya se sabe que las naciones marchan universalmente a la\\r\\ncabeza unas de otras) por la intrepidez con que sus viajeros\\r\\nacometen descubrimientos geográficos. (numerosas muestras de\\r\\naprobación.) el doctor samuel fergusson, uno de sus gloriosos\\r\\nhijos, no faltará a su '"
            ],
            "application/vnd.google.colaboratory.intrinsic+json": {
              "type": "string"
            }
          },
          "metadata": {},
          "execution_count": 173
        }
      ],
      "source": [
        "# en article text se encuentra el texto de todo el libro\n",
        "article_text[:1000]"
      ]
    },
    {
      "cell_type": "markdown",
      "metadata": {
        "id": "cP1JdiOIKQWi"
      },
      "source": [
        "### Elegir el tamaño del contexto\n",
        "\n",
        "En este caso, como el modelo de lenguaje es por caracteres, todo un gran corpus\n",
        "de texto puede ser considerado un documento en sí mismo y el tamaño de contexto\n",
        "puede ser elegido con más libertad en comparación a un modelo de lenguaje tokenizado por palabras y dividido en documentos más acotados."
      ]
    },
    {
      "cell_type": "code",
      "execution_count": 174,
      "metadata": {
        "id": "wumBNwdjJM3j"
      },
      "outputs": [],
      "source": [
        "# seleccionamos el tamaño de contexto\n",
        "max_context_size = 100"
      ]
    },
    {
      "cell_type": "code",
      "execution_count": 175,
      "metadata": {
        "id": "m5FeTaGvbDbw"
      },
      "outputs": [],
      "source": [
        "# Usaremos las utilidades de procesamiento de textos y secuencias de Keras\n",
        "from tensorflow.keras.utils import pad_sequences # se utilizará para padding"
      ]
    },
    {
      "cell_type": "code",
      "execution_count": 176,
      "metadata": {
        "id": "573Cg5n7VhWw"
      },
      "outputs": [],
      "source": [
        "# en este caso el vocabulario es el conjunto único de caracteres que existe en todo el texto\n",
        "chars_vocab = set(article_text)"
      ]
    },
    {
      "cell_type": "code",
      "execution_count": 177,
      "metadata": {
        "id": "VwTK6xgLJd8q",
        "colab": {
          "base_uri": "https://localhost:8080/"
        },
        "outputId": "09c0b676-6ec1-4edc-b952-fabfab79255b"
      },
      "outputs": [
        {
          "output_type": "execute_result",
          "data": {
            "text/plain": [
              "70"
            ]
          },
          "metadata": {},
          "execution_count": 177
        }
      ],
      "source": [
        "# la longitud de vocabulario de caracteres es:\n",
        "len(chars_vocab)"
      ]
    },
    {
      "cell_type": "code",
      "execution_count": 178,
      "metadata": {
        "id": "2W0AeQjXV1Ou"
      },
      "outputs": [],
      "source": [
        "# Construimos los dicionarios que asignan índices a caracteres y viceversa.\n",
        "# El diccionario `char2idx` servirá como tokenizador.\n",
        "char2idx = {k: v for v,k in enumerate(chars_vocab)}\n",
        "idx2char = {v: k for k,v in char2idx.items()}"
      ]
    },
    {
      "cell_type": "code",
      "source": [
        "print(chars_vocab)"
      ],
      "metadata": {
        "colab": {
          "base_uri": "https://localhost:8080/"
        },
        "id": "Wfy_LZaBwfbU",
        "outputId": "2e3e68f3-da27-40da-b007-15e1d0a03e41"
      },
      "execution_count": 179,
      "outputs": [
        {
          "output_type": "stream",
          "name": "stdout",
          "text": [
            "{'y', '/', ' ', 't', '¡', '¿', 'è', 's', 'g', '7', 'o', '«', '5', '8', '9', ')', '-', 'f', '6', '\\n', 'l', 'u', '—', 'h', '.', 'k', ';', 'x', '0', '?', 'n', '~', 'ü', '\"', ',', '\\t', 'j', 'p', 'c', 'a', 'r', \"'\", '»', 'º', '3', '\\r', '4', '2', 'q', 'ñ', 'i', '1', ':', '(', 'z', '…', '’', 'w', 'e', 'v', '!', 'd', 'é', '”', 'ú', 'í', 'á', 'b', 'ó', 'm'}\n"
          ]
        }
      ]
    },
    {
      "cell_type": "code",
      "source": [
        "print(idx2char)"
      ],
      "metadata": {
        "colab": {
          "base_uri": "https://localhost:8080/"
        },
        "id": "67Bkwb21wo8l",
        "outputId": "57edd5e6-882b-44b5-bac4-b6997030724b"
      },
      "execution_count": 180,
      "outputs": [
        {
          "output_type": "stream",
          "name": "stdout",
          "text": [
            "{0: 'y', 1: '/', 2: ' ', 3: 't', 4: '¡', 5: '¿', 6: 'è', 7: 's', 8: 'g', 9: '7', 10: 'o', 11: '«', 12: '5', 13: '8', 14: '9', 15: ')', 16: '-', 17: 'f', 18: '6', 19: '\\n', 20: 'l', 21: 'u', 22: '—', 23: 'h', 24: '.', 25: 'k', 26: ';', 27: 'x', 28: '0', 29: '?', 30: 'n', 31: '~', 32: 'ü', 33: '\"', 34: ',', 35: '\\t', 36: 'j', 37: 'p', 38: 'c', 39: 'a', 40: 'r', 41: \"'\", 42: '»', 43: 'º', 44: '3', 45: '\\r', 46: '4', 47: '2', 48: 'q', 49: 'ñ', 50: 'i', 51: '1', 52: ':', 53: '(', 54: 'z', 55: '…', 56: '’', 57: 'w', 58: 'e', 59: 'v', 60: '!', 61: 'd', 62: 'é', 63: '”', 64: 'ú', 65: 'í', 66: 'á', 67: 'b', 68: 'ó', 69: 'm'}\n"
          ]
        }
      ]
    },
    {
      "cell_type": "markdown",
      "metadata": {
        "id": "2oIUjVU0LB0r"
      },
      "source": [
        "###  Tokenizar"
      ]
    },
    {
      "cell_type": "code",
      "execution_count": 181,
      "metadata": {
        "id": "h07G3srdJppo"
      },
      "outputs": [],
      "source": [
        "# tokenizamos el texto completo\n",
        "tokenized_text = [char2idx[ch] for ch in article_text]"
      ]
    },
    {
      "cell_type": "code",
      "execution_count": 182,
      "metadata": {
        "id": "PwGVSKOiJ5bj",
        "colab": {
          "base_uri": "https://localhost:8080/"
        },
        "outputId": "a6595cd0-21ad-4994-fb7c-d92d13966db7"
      },
      "outputs": [
        {
          "output_type": "execute_result",
          "data": {
            "text/plain": [
              "[2,\n",
              " 58,\n",
              " 20,\n",
              " 2,\n",
              " 17,\n",
              " 50,\n",
              " 30,\n",
              " 39,\n",
              " 20,\n",
              " 2,\n",
              " 61,\n",
              " 58,\n",
              " 2,\n",
              " 21,\n",
              " 30,\n",
              " 2,\n",
              " 61,\n",
              " 50,\n",
              " 7,\n",
              " 38,\n",
              " 21,\n",
              " 40,\n",
              " 7,\n",
              " 10,\n",
              " 2,\n",
              " 69,\n",
              " 21,\n",
              " 0,\n",
              " 45,\n",
              " 19,\n",
              " 39,\n",
              " 37,\n",
              " 20,\n",
              " 39,\n",
              " 21,\n",
              " 61,\n",
              " 50,\n",
              " 61,\n",
              " 10,\n",
              " 24,\n",
              " 2,\n",
              " 22,\n",
              " 45,\n",
              " 19,\n",
              " 37,\n",
              " 40,\n",
              " 58,\n",
              " 7,\n",
              " 58,\n",
              " 30,\n",
              " 3,\n",
              " 39,\n",
              " 38,\n",
              " 50,\n",
              " 68,\n",
              " 30,\n",
              " 2,\n",
              " 61,\n",
              " 58,\n",
              " 20,\n",
              " 2,\n",
              " 61,\n",
              " 10,\n",
              " 38,\n",
              " 3,\n",
              " 10,\n",
              " 40,\n",
              " 2,\n",
              " 7,\n",
              " 39,\n",
              " 69,\n",
              " 21,\n",
              " 58,\n",
              " 20,\n",
              " 2,\n",
              " 17,\n",
              " 58,\n",
              " 40,\n",
              " 8,\n",
              " 21,\n",
              " 7,\n",
              " 7,\n",
              " 10,\n",
              " 30,\n",
              " 24,\n",
              " 2,\n",
              " 22,\n",
              " 45,\n",
              " 19,\n",
              " 33,\n",
              " 2,\n",
              " 58,\n",
              " 27,\n",
              " 38,\n",
              " 58,\n",
              " 20,\n",
              " 7,\n",
              " 50,\n",
              " 10,\n",
              " 40,\n",
              " 24,\n",
              " 2,\n",
              " 33,\n",
              " 2,\n",
              " 22,\n",
              " 2,\n",
              " 40,\n",
              " 58,\n",
              " 3,\n",
              " 40,\n",
              " 39,\n",
              " 3,\n",
              " 10,\n",
              " 2,\n",
              " 61,\n",
              " 58,\n",
              " 2,\n",
              " 38,\n",
              " 21,\n",
              " 58,\n",
              " 40,\n",
              " 37,\n",
              " 10,\n",
              " 2,\n",
              " 58,\n",
              " 30,\n",
              " 3,\n",
              " 58,\n",
              " 40,\n",
              " 10,\n",
              " 2,\n",
              " 61,\n",
              " 58,\n",
              " 20,\n",
              " 2,\n",
              " 61,\n",
              " 10,\n",
              " 38,\n",
              " 3,\n",
              " 10,\n",
              " 40,\n",
              " 24,\n",
              " 2,\n",
              " 22,\n",
              " 45,\n",
              " 19,\n",
              " 21,\n",
              " 30,\n",
              " 2,\n",
              " 17,\n",
              " 39,\n",
              " 3,\n",
              " 39,\n",
              " 20,\n",
              " 50,\n",
              " 7,\n",
              " 3,\n",
              " 39,\n",
              " 2,\n",
              " 38,\n",
              " 10,\n",
              " 30,\n",
              " 59,\n",
              " 58,\n",
              " 30,\n",
              " 38,\n",
              " 50,\n",
              " 61,\n",
              " 10,\n",
              " 24,\n",
              " 2,\n",
              " 22,\n",
              " 2,\n",
              " 38,\n",
              " 10,\n",
              " 69,\n",
              " 50,\n",
              " 61,\n",
              " 39,\n",
              " 2,\n",
              " 58,\n",
              " 30,\n",
              " 2,\n",
              " 58,\n",
              " 20,\n",
              " 2,\n",
              " 3,\n",
              " 40,\n",
              " 39,\n",
              " 59,\n",
              " 58,\n",
              " 20,\n",
              " 20,\n",
              " 58,\n",
              " 40,\n",
              " 41,\n",
              " 7,\n",
              " 2,\n",
              " 38,\n",
              " 20,\n",
              " 21,\n",
              " 67,\n",
              " 24,\n",
              " 2,\n",
              " 22,\n",
              " 45,\n",
              " 19,\n",
              " 30,\n",
              " 21,\n",
              " 69,\n",
              " 58,\n",
              " 40,\n",
              " 10,\n",
              " 7,\n",
              " 10,\n",
              " 7,\n",
              " 2,\n",
              " 67,\n",
              " 40,\n",
              " 50,\n",
              " 30,\n",
              " 61,\n",
              " 50,\n",
              " 7,\n",
              " 2,\n",
              " 61,\n",
              " 58,\n",
              " 2,\n",
              " 38,\n",
              " 50,\n",
              " 40,\n",
              " 38,\n",
              " 21,\n",
              " 30,\n",
              " 7,\n",
              " 3,\n",
              " 39,\n",
              " 30,\n",
              " 38,\n",
              " 50,\n",
              " 39,\n",
              " 7,\n",
              " 2,\n",
              " 58,\n",
              " 20,\n",
              " 2,\n",
              " 61,\n",
              " 65,\n",
              " 39,\n",
              " 2,\n",
              " 51,\n",
              " 46,\n",
              " 2,\n",
              " 61,\n",
              " 58,\n",
              " 2,\n",
              " 58,\n",
              " 30,\n",
              " 58,\n",
              " 40,\n",
              " 10,\n",
              " 2,\n",
              " 61,\n",
              " 58,\n",
              " 2,\n",
              " 51,\n",
              " 13,\n",
              " 18,\n",
              " 47,\n",
              " 2,\n",
              " 23,\n",
              " 39,\n",
              " 67,\n",
              " 65,\n",
              " 39,\n",
              " 2,\n",
              " 39,\n",
              " 7,\n",
              " 50,\n",
              " 7,\n",
              " 3,\n",
              " 50,\n",
              " 61,\n",
              " 10,\n",
              " 2,\n",
              " 21,\n",
              " 30,\n",
              " 2,\n",
              " 30,\n",
              " 21,\n",
              " 69,\n",
              " 58,\n",
              " 40,\n",
              " 10,\n",
              " 7,\n",
              " 10,\n",
              " 2,\n",
              " 39,\n",
              " 21,\n",
              " 61,\n",
              " 50,\n",
              " 3,\n",
              " 10,\n",
              " 40,\n",
              " 50,\n",
              " 10,\n",
              " 45,\n",
              " 19,\n",
              " 39,\n",
              " 2,\n",
              " 20,\n",
              " 39,\n",
              " 2,\n",
              " 7,\n",
              " 58,\n",
              " 7,\n",
              " 50,\n",
              " 68,\n",
              " 30,\n",
              " 2,\n",
              " 61,\n",
              " 58,\n",
              " 2,\n",
              " 20,\n",
              " 39,\n",
              " 2,\n",
              " 40,\n",
              " 58,\n",
              " 39,\n",
              " 20,\n",
              " 2,\n",
              " 7,\n",
              " 10,\n",
              " 38,\n",
              " 50,\n",
              " 58,\n",
              " 61,\n",
              " 39,\n",
              " 61,\n",
              " 2,\n",
              " 8,\n",
              " 58,\n",
              " 10,\n",
              " 8,\n",
              " 40,\n",
              " 66,\n",
              " 17,\n",
              " 50,\n",
              " 38,\n",
              " 39,\n",
              " 2,\n",
              " 61,\n",
              " 58,\n",
              " 2,\n",
              " 20,\n",
              " 10,\n",
              " 30,\n",
              " 61,\n",
              " 40,\n",
              " 58,\n",
              " 7,\n",
              " 34,\n",
              " 2,\n",
              " 37,\n",
              " 20,\n",
              " 39,\n",
              " 54,\n",
              " 39,\n",
              " 2,\n",
              " 61,\n",
              " 58,\n",
              " 45,\n",
              " 19,\n",
              " 57,\n",
              " 39,\n",
              " 3,\n",
              " 58,\n",
              " 40,\n",
              " 20,\n",
              " 10,\n",
              " 10,\n",
              " 34,\n",
              " 2,\n",
              " 44,\n",
              " 24,\n",
              " 2,\n",
              " 58,\n",
              " 20,\n",
              " 2,\n",
              " 37,\n",
              " 40,\n",
              " 58,\n",
              " 7,\n",
              " 50,\n",
              " 61,\n",
              " 58,\n",
              " 30,\n",
              " 3,\n",
              " 58,\n",
              " 34,\n",
              " 2,\n",
              " 7,\n",
              " 50,\n",
              " 40,\n",
              " 2,\n",
              " 17,\n",
              " 40,\n",
              " 39,\n",
              " 30,\n",
              " 38,\n",
              " 50,\n",
              " 7,\n",
              " 2,\n",
              " 69,\n",
              " 2,\n",
              " 55,\n",
              " 2,\n",
              " 24,\n",
              " 2,\n",
              " 38,\n",
              " 10,\n",
              " 69,\n",
              " 21,\n",
              " 30,\n",
              " 50,\n",
              " 38,\n",
              " 39,\n",
              " 67,\n",
              " 39,\n",
              " 2,\n",
              " 39,\n",
              " 2,\n",
              " 7,\n",
              " 21,\n",
              " 7,\n",
              " 45,\n",
              " 19,\n",
              " 50,\n",
              " 20,\n",
              " 21,\n",
              " 7,\n",
              " 3,\n",
              " 40,\n",
              " 58,\n",
              " 7,\n",
              " 2,\n",
              " 38,\n",
              " 10,\n",
              " 20,\n",
              " 58,\n",
              " 8,\n",
              " 39,\n",
              " 7,\n",
              " 2,\n",
              " 21,\n",
              " 30,\n",
              " 2,\n",
              " 23,\n",
              " 58,\n",
              " 38,\n",
              " 23,\n",
              " 10,\n",
              " 2,\n",
              " 50,\n",
              " 69,\n",
              " 37,\n",
              " 10,\n",
              " 40,\n",
              " 3,\n",
              " 39,\n",
              " 30,\n",
              " 3,\n",
              " 58,\n",
              " 2,\n",
              " 58,\n",
              " 30,\n",
              " 2,\n",
              " 21,\n",
              " 30,\n",
              " 2,\n",
              " 61,\n",
              " 50,\n",
              " 7,\n",
              " 38,\n",
              " 21,\n",
              " 40,\n",
              " 7,\n",
              " 10,\n",
              " 2,\n",
              " 17,\n",
              " 40,\n",
              " 58,\n",
              " 38,\n",
              " 21,\n",
              " 58,\n",
              " 30,\n",
              " 3,\n",
              " 58,\n",
              " 69,\n",
              " 58,\n",
              " 30,\n",
              " 3,\n",
              " 58,\n",
              " 45,\n",
              " 19,\n",
              " 50,\n",
              " 30,\n",
              " 3,\n",
              " 58,\n",
              " 40,\n",
              " 40,\n",
              " 21,\n",
              " 69,\n",
              " 37,\n",
              " 50,\n",
              " 61,\n",
              " 10,\n",
              " 2,\n",
              " 37,\n",
              " 10,\n",
              " 40,\n",
              " 2,\n",
              " 20,\n",
              " 10,\n",
              " 7,\n",
              " 2,\n",
              " 39,\n",
              " 37,\n",
              " 20,\n",
              " 39,\n",
              " 21,\n",
              " 7,\n",
              " 10,\n",
              " 7,\n",
              " 24,\n",
              " 2,\n",
              " 39,\n",
              " 48,\n",
              " 21,\n",
              " 58,\n",
              " 20,\n",
              " 20,\n",
              " 39,\n",
              " 2,\n",
              " 30,\n",
              " 10,\n",
              " 3,\n",
              " 39,\n",
              " 67,\n",
              " 20,\n",
              " 58,\n",
              " 2,\n",
              " 69,\n",
              " 21,\n",
              " 58,\n",
              " 7,\n",
              " 3,\n",
              " 40,\n",
              " 39,\n",
              " 2,\n",
              " 61,\n",
              " 58,\n",
              " 2,\n",
              " 58,\n",
              " 20,\n",
              " 10,\n",
              " 38,\n",
              " 21,\n",
              " 58,\n",
              " 30,\n",
              " 38,\n",
              " 50,\n",
              " 39,\n",
              " 2,\n",
              " 17,\n",
              " 50,\n",
              " 30,\n",
              " 39,\n",
              " 20,\n",
              " 50,\n",
              " 54,\n",
              " 39,\n",
              " 67,\n",
              " 39,\n",
              " 2,\n",
              " 38,\n",
              " 10,\n",
              " 30,\n",
              " 2,\n",
              " 21,\n",
              " 30,\n",
              " 39,\n",
              " 7,\n",
              " 45,\n",
              " 19,\n",
              " 38,\n",
              " 21,\n",
              " 39,\n",
              " 30,\n",
              " 3,\n",
              " 39,\n",
              " 7,\n",
              " 2,\n",
              " 17,\n",
              " 40,\n",
              " 39,\n",
              " 7,\n",
              " 58,\n",
              " 7,\n",
              " 2,\n",
              " 40,\n",
              " 50,\n",
              " 69,\n",
              " 67,\n",
              " 10,\n",
              " 69,\n",
              " 67,\n",
              " 39,\n",
              " 30,\n",
              " 3,\n",
              " 58,\n",
              " 7,\n",
              " 2,\n",
              " 58,\n",
              " 30,\n",
              " 2,\n",
              " 20,\n",
              " 39,\n",
              " 7,\n",
              " 2,\n",
              " 48,\n",
              " 21,\n",
              " 58,\n",
              " 2,\n",
              " 58,\n",
              " 20,\n",
              " 2,\n",
              " 37,\n",
              " 39,\n",
              " 3,\n",
              " 40,\n",
              " 50,\n",
              " 10,\n",
              " 3,\n",
              " 50,\n",
              " 7,\n",
              " 69,\n",
              " 10,\n",
              " 2,\n",
              " 69,\n",
              " 39,\n",
              " 30,\n",
              " 39,\n",
              " 67,\n",
              " 39,\n",
              " 2,\n",
              " 39,\n",
              " 45,\n",
              " 19,\n",
              " 67,\n",
              " 10,\n",
              " 40,\n",
              " 67,\n",
              " 10,\n",
              " 3,\n",
              " 10,\n",
              " 30,\n",
              " 58,\n",
              " 7,\n",
              " 52,\n",
              " 2,\n",
              " 33,\n",
              " 50,\n",
              " 30,\n",
              " 8,\n",
              " 20,\n",
              " 39,\n",
              " 3,\n",
              " 58,\n",
              " 40,\n",
              " 40,\n",
              " 39,\n",
              " 2,\n",
              " 23,\n",
              " 39,\n",
              " 2,\n",
              " 69,\n",
              " 39,\n",
              " 40,\n",
              " 38,\n",
              " 23,\n",
              " 39,\n",
              " 61,\n",
              " 10,\n",
              " 2,\n",
              " 7,\n",
              " 50,\n",
              " 58,\n",
              " 69,\n",
              " 37,\n",
              " 40,\n",
              " 58,\n",
              " 2,\n",
              " 39,\n",
              " 2,\n",
              " 20,\n",
              " 39,\n",
              " 2,\n",
              " 38,\n",
              " 39,\n",
              " 67,\n",
              " 58,\n",
              " 54,\n",
              " 39,\n",
              " 2,\n",
              " 61,\n",
              " 58,\n",
              " 2,\n",
              " 20,\n",
              " 39,\n",
              " 7,\n",
              " 45,\n",
              " 19,\n",
              " 30,\n",
              " 39,\n",
              " 38,\n",
              " 50,\n",
              " 10,\n",
              " 30,\n",
              " 58,\n",
              " 7,\n",
              " 2,\n",
              " 53,\n",
              " 0,\n",
              " 39,\n",
              " 2,\n",
              " 7,\n",
              " 58,\n",
              " 2,\n",
              " 7,\n",
              " 39,\n",
              " 67,\n",
              " 58,\n",
              " 2,\n",
              " 48,\n",
              " 21,\n",
              " 58,\n",
              " 2,\n",
              " 20,\n",
              " 39,\n",
              " 7,\n",
              " 2,\n",
              " 30,\n",
              " 39,\n",
              " 38,\n",
              " 50,\n",
              " 10,\n",
              " 30,\n",
              " 58,\n",
              " 7,\n",
              " 2,\n",
              " 69,\n",
              " 39,\n",
              " 40,\n",
              " 38,\n",
              " 23,\n",
              " 39,\n",
              " 30,\n",
              " 2,\n",
              " 21,\n",
              " 30,\n",
              " 50,\n",
              " 59,\n",
              " 58,\n",
              " 40,\n",
              " 7,\n",
              " 39,\n",
              " 20,\n",
              " 69,\n",
              " 58,\n",
              " 30,\n",
              " 3,\n",
              " 58,\n",
              " 2,\n",
              " 39,\n",
              " 2,\n",
              " 20,\n",
              " 39,\n",
              " 45,\n",
              " 19,\n",
              " 38,\n",
              " 39,\n",
              " 67,\n",
              " 58,\n",
              " 54,\n",
              " 39,\n",
              " 2,\n",
              " 21,\n",
              " 30,\n",
              " 39,\n",
              " 7,\n",
              " 2,\n",
              " 61,\n",
              " 58,\n",
              " 2,\n",
              " 10,\n",
              " 3,\n",
              " 40,\n",
              " 39,\n",
              " 7,\n",
              " 15,\n",
              " 2,\n",
              " 37,\n",
              " 10,\n",
              " 40,\n",
              " 2,\n",
              " 20,\n",
              " 39,\n",
              " 2,\n",
              " 50,\n",
              " 30,\n",
              " 3,\n",
              " 40,\n",
              " 58,\n",
              " 37,\n",
              " 50,\n",
              " 61,\n",
              " 58,\n",
              " 54,\n",
              " 2,\n",
              " 38,\n",
              " 10,\n",
              " 30,\n",
              " 2,\n",
              " 48,\n",
              " 21,\n",
              " 58,\n",
              " 2,\n",
              " 7,\n",
              " 21,\n",
              " 7,\n",
              " 2,\n",
              " 59,\n",
              " 50,\n",
              " 39,\n",
              " 36,\n",
              " 58,\n",
              " 40,\n",
              " 10,\n",
              " 7,\n",
              " 45,\n",
              " 19,\n",
              " 39,\n",
              " 38,\n",
              " 10,\n",
              " 69,\n",
              " 58,\n",
              " 3,\n",
              " 58,\n",
              " 30,\n",
              " 2,\n",
              " 61,\n",
              " 58,\n",
              " 7,\n",
              " 38,\n",
              " 21,\n",
              " 67,\n",
              " 40,\n",
              " 50,\n",
              " 69,\n",
              " 50,\n",
              " 58,\n",
              " 30,\n",
              " 3,\n",
              " 10,\n",
              " 7,\n",
              " 2,\n",
              " 8,\n",
              " 58,\n",
              " 10,\n",
              " 8,\n",
              " 40,\n",
              " 66,\n",
              " 17,\n",
              " 50,\n",
              " 38,\n",
              " 10,\n",
              " 7,\n",
              " 24,\n",
              " 2,\n",
              " 53,\n",
              " 30,\n",
              " 21,\n",
              " 69,\n",
              " 58,\n",
              " 40,\n",
              " 10,\n",
              " 7,\n",
              " 39,\n",
              " 7,\n",
              " 2,\n",
              " 69,\n",
              " 21,\n",
              " 58,\n",
              " 7,\n",
              " 3,\n",
              " 40,\n",
              " 39,\n",
              " 7,\n",
              " 2,\n",
              " 61,\n",
              " 58,\n",
              " 45,\n",
              " 19,\n",
              " 39,\n",
              " 37,\n",
              " 40,\n",
              " 10,\n",
              " 67,\n",
              " 39,\n",
              " 38,\n",
              " 50,\n",
              " 68,\n",
              " 30,\n",
              " 24,\n",
              " 15,\n",
              " 2,\n",
              " 58,\n",
              " 20,\n",
              " 2,\n",
              " 61,\n",
              " 10,\n",
              " 38,\n",
              " 3,\n",
              " 10,\n",
              " 40,\n",
              " 2,\n",
              " 7,\n",
              " 39,\n",
              " 69,\n",
              " 21,\n",
              " 58,\n",
              " 20,\n",
              " 2,\n",
              " 17,\n",
              " 58,\n",
              " 40,\n",
              " 8,\n",
              " 21,\n",
              " 7,\n",
              " 7,\n",
              " 10,\n",
              " 30,\n",
              " 34,\n",
              " 2,\n",
              " 21,\n",
              " 30,\n",
              " 10,\n",
              " 2,\n",
              " 61,\n",
              " 58,\n",
              " 2,\n",
              " 7,\n",
              " 21,\n",
              " 7,\n",
              " 2,\n",
              " 8,\n",
              " 20,\n",
              " 10,\n",
              " 40,\n",
              " 50,\n",
              " 10,\n",
              " 7,\n",
              " 10,\n",
              " 7,\n",
              " 45,\n",
              " 19,\n",
              " 23,\n",
              " 50,\n",
              " 36,\n",
              " 10,\n",
              " 7,\n",
              " 34,\n",
              " 2,\n",
              " 30,\n",
              " 10,\n",
              " 2,\n",
              " 17,\n",
              " 39,\n",
              " 20,\n",
              " 3,\n",
              " 39,\n",
              " 40,\n",
              " 66,\n",
              " 2,\n",
              " 39,\n",
              " 2,\n",
              " 7,\n",
              " 21,\n",
              " 2]"
            ]
          },
          "metadata": {},
          "execution_count": 182
        }
      ],
      "source": [
        "tokenized_text[:1000]"
      ]
    },
    {
      "cell_type": "markdown",
      "metadata": {
        "id": "pfpYcaypKcI9"
      },
      "source": [
        "### Organizando y estructurando el dataset"
      ]
    },
    {
      "cell_type": "code",
      "execution_count": 183,
      "metadata": {
        "id": "WSSmg9jtKP0T"
      },
      "outputs": [],
      "source": [
        "# separaremos el dataset entre entrenamiento y validación.\n",
        "# `p_val` será la proporción del corpus que se reservará para validación\n",
        "# `num_val` es la cantidad de secuencias de tamaño `max_context_size` que se usará en validación\n",
        "p_val = 0.1\n",
        "num_val = int(np.ceil(len(tokenized_text)*p_val/max_context_size))"
      ]
    },
    {
      "cell_type": "code",
      "execution_count": 184,
      "metadata": {
        "id": "b7dCpGrdKll0"
      },
      "outputs": [],
      "source": [
        "# separamos la porción de texto utilizada en entrenamiento de la de validación.\n",
        "train_text = tokenized_text[:-num_val*max_context_size]\n",
        "val_text = tokenized_text[-num_val*max_context_size:]"
      ]
    },
    {
      "cell_type": "code",
      "execution_count": 185,
      "metadata": {
        "id": "NmxQdxl8LRCg"
      },
      "outputs": [],
      "source": [
        "tokenized_sentences_val = [val_text[init*max_context_size:init*(max_context_size+1)] for init in range(num_val)]"
      ]
    },
    {
      "cell_type": "code",
      "execution_count": 186,
      "metadata": {
        "id": "_gyFT9koLqDm"
      },
      "outputs": [],
      "source": [
        "tokenized_sentences_train = [train_text[init:init+max_context_size] for init in range(len(train_text)-max_context_size+1)]"
      ]
    },
    {
      "cell_type": "code",
      "execution_count": 187,
      "metadata": {
        "id": "oVNqmmLRodT0"
      },
      "outputs": [],
      "source": [
        "X = np.array(tokenized_sentences_train[:-1])\n",
        "y = np.array(tokenized_sentences_train[1:])"
      ]
    },
    {
      "cell_type": "markdown",
      "metadata": {
        "id": "Vken7O4ETsAJ"
      },
      "source": [
        "Nótese que estamos estructurando el problema de aprendizaje como *many-to-many*:\n",
        "\n",
        "Entrada: secuencia de tokens [$x_0$, $x_1$, ..., $x_N$]\n",
        "\n",
        "Target: secuencia de tokens [$x_1$, $x_2$, ..., $x_{N+1}$]\n",
        "\n",
        "De manera que la red tiene que aprender que su salida deben ser los tokens desplazados en una posición y un nuevo token predicho (el N+1).\n",
        "\n",
        "La ventaja de estructurar el aprendizaje de esta manera es que para cada token de target se propaga una señal de gradiente por el grafo de cómputo recurrente, que es mejor que estructurar el problema como *many-to-one* en donde sólo una señal de gradiente se propaga."
      ]
    },
    {
      "cell_type": "markdown",
      "metadata": {
        "id": "l3iPTx-UJl6r"
      },
      "source": [
        "En este punto tenemos en la variable `tokenized_sentences` los versos tokenizados. Vamos a quedarnos con un conjunto de validación que utilizaremos para medir la calidad de la generación de secuencias con la métrica de Perplejidad."
      ]
    },
    {
      "cell_type": "code",
      "execution_count": 188,
      "metadata": {
        "id": "KFAyA4zCWE-5",
        "colab": {
          "base_uri": "https://localhost:8080/"
        },
        "outputId": "a71b8f53-a071-4ad9-8175-c8a7329d47e4"
      },
      "outputs": [
        {
          "output_type": "execute_result",
          "data": {
            "text/plain": [
              "(432714, 100)"
            ]
          },
          "metadata": {},
          "execution_count": 188
        }
      ],
      "source": [
        "X.shape"
      ]
    },
    {
      "cell_type": "code",
      "execution_count": 189,
      "metadata": {
        "id": "qcKRl70HFTzG",
        "colab": {
          "base_uri": "https://localhost:8080/"
        },
        "outputId": "4b4eb6e9-4d34-4ec0-9685-6721d4670c75"
      },
      "outputs": [
        {
          "output_type": "execute_result",
          "data": {
            "text/plain": [
              "array([ 2, 58, 20,  2, 17, 50, 30, 39, 20,  2])"
            ]
          },
          "metadata": {},
          "execution_count": 189
        }
      ],
      "source": [
        "X[0,:10]"
      ]
    },
    {
      "cell_type": "code",
      "execution_count": 190,
      "metadata": {
        "id": "TVpLCKSZFXZO",
        "colab": {
          "base_uri": "https://localhost:8080/"
        },
        "outputId": "aa6c3289-cf57-42cc-9506-6fea50cfb117"
      },
      "outputs": [
        {
          "output_type": "execute_result",
          "data": {
            "text/plain": [
              "array([58, 20,  2, 17, 50, 30, 39, 20,  2, 61])"
            ]
          },
          "metadata": {},
          "execution_count": 190
        }
      ],
      "source": [
        "y[0,:10]"
      ]
    },
    {
      "cell_type": "code",
      "execution_count": 191,
      "metadata": {
        "id": "wOFCR-KqbW1N"
      },
      "outputs": [],
      "source": [
        "vocab_size = len(chars_vocab)"
      ]
    },
    {
      "cell_type": "markdown",
      "metadata": {
        "id": "tnnjdAQ5UAEJ"
      },
      "source": [
        "# Definiendo el modelo"
      ]
    },
    {
      "cell_type": "markdown",
      "metadata": {
        "id": "wgz7VKwTUbj6"
      },
      "source": [
        "El modelo que se propone como ejemplo consume los índices de los tokens y los transforma en vectores OHE (en este caso no entrenamos una capa de embedding para caracteres). Esa transformación se logra combinando las capas `CategoryEncoding` que transforma a índices a vectores OHE y `TimeDistributed` que aplica la capa a lo largo de la dimensión \"temporal\" de la secuencia."
      ]
    },
    {
      "cell_type": "code",
      "source": [
        "import torch\n",
        "import torch.nn as nn\n",
        "import torch.nn.functional as F\n",
        "\n",
        "class LSTMModel(nn.Module):\n",
        "    def __init__(self, vocab_size, hidden_size=200):\n",
        "        super().__init__()\n",
        "        self.vocab_size = vocab_size\n",
        "        self.lstm = nn.LSTM(\n",
        "            input_size=vocab_size,\n",
        "            hidden_size=hidden_size,\n",
        "            batch_first=True\n",
        "        )\n",
        "        self.fc = nn.Linear(hidden_size, vocab_size)\n",
        "\n",
        "        # ---- inicialización del bias de la compuerta de olvido ----\n",
        "        for name, param in self.lstm.named_parameters():\n",
        "            if \"bias\" in name:\n",
        "                n = param.size(0)                # 4*hidden_size\n",
        "                start, end = n//4, n//2          # [i, f, g, o] → f está en este rango\n",
        "                with torch.no_grad():\n",
        "                    param[start:end].fill_(1.0)\n",
        "\n",
        "    def forward(self, x):\n",
        "        # x: (batch, seq_len, 1) con índices enteros\n",
        "        x = x.squeeze(-1).long()                   # (batch, seq_len)\n",
        "        x = F.one_hot(x, num_classes=self.vocab_size).float()  # (batch, seq_len, vocab_size)\n",
        "\n",
        "        out, _ = self.lstm(x)                      # (batch, seq_len, hidden_size)\n",
        "        out = self.fc(out)                        # (batch, seq_len, vocab_size)\n",
        "        return out                                # logits (sin softmax)\n",
        "\n",
        "device = \"cuda\" if torch.cuda.is_available() else \"cpu\"\n",
        "\n",
        "model = LSTMModel(vocab_size).to(device)\n",
        "criterion = nn.CrossEntropyLoss()\n",
        "optimizer = torch.optim.RMSprop(model.parameters(), lr=0.001)\n",
        "\n",
        "print(model)"
      ],
      "metadata": {
        "id": "_i4UGQwRaEwF",
        "colab": {
          "base_uri": "https://localhost:8080/"
        },
        "outputId": "e697bf6e-d803-4f61-e744-2e052e6fb7b1"
      },
      "execution_count": 192,
      "outputs": [
        {
          "output_type": "stream",
          "name": "stdout",
          "text": [
            "LSTMModel(\n",
            "  (lstm): LSTM(70, 200, batch_first=True)\n",
            "  (fc): Linear(in_features=200, out_features=70, bias=True)\n",
            ")\n"
          ]
        }
      ]
    },
    {
      "cell_type": "markdown",
      "metadata": {
        "id": "GmJWNyxQwfCE"
      },
      "source": [
        "\n",
        "### Definir el modelo"
      ]
    },
    {
      "cell_type": "code",
      "execution_count": 193,
      "metadata": {
        "id": "zUHX3r5JD-MG"
      },
      "outputs": [],
      "source": [
        "class TrainerWithPerplexity:\n",
        "    def __init__(self, model, optimizer, criterion, train_loader, val_loader, patience=5, device=\"cpu\"):\n",
        "        self.model = model.to(device)\n",
        "        self.optimizer = optimizer\n",
        "        self.criterion = criterion\n",
        "        self.train_loader = train_loader\n",
        "        self.val_loader = val_loader\n",
        "        self.patience = patience\n",
        "        self.device = device\n",
        "\n",
        "        self.min_score = float(\"inf\")\n",
        "        self.patience_counter = 0\n",
        "        self.history_ppl = []\n",
        "\n",
        "    def compute_perplexity(self):\n",
        "        self.model.eval()\n",
        "        scores = []\n",
        "        with torch.no_grad():\n",
        "            for xb, yb in self.val_loader:\n",
        "                xb, yb = xb.to(self.device), yb.to(self.device)\n",
        "                logits = self.model(xb)  # (batch, seq_len, vocab_size)\n",
        "\n",
        "                # tomamos la probabilidad del último token predicho\n",
        "                log_probs = F.log_softmax(logits, dim=-1)\n",
        "\n",
        "                target = yb[:, -1]  # último token\n",
        "                probs = log_probs[:, -1, :]\n",
        "\n",
        "                chosen_log_probs = probs[range(len(target)), target]\n",
        "                ppl = torch.exp(-chosen_log_probs.mean()).item()\n",
        "                scores.append(ppl)\n",
        "        return np.mean(scores)\n",
        "\n",
        "    def train(self, num_epochs=20, save_path=\"best_model.pt\"):\n",
        "        for epoch in range(num_epochs):\n",
        "            self.model.train()\n",
        "            total_loss = 0\n",
        "            for xb, yb in self.train_loader:\n",
        "                xb, yb = xb.to(self.device), yb.to(self.device)\n",
        "                self.optimizer.zero_grad()\n",
        "                logits = self.model(xb)\n",
        "\n",
        "                # logits: (batch, seq_len, vocab_size)\n",
        "                # target: (batch, seq_len)\n",
        "                loss = self.criterion(logits.transpose(1, 2), yb)\n",
        "                loss.backward()\n",
        "                self.optimizer.step()\n",
        "                total_loss += loss.item()\n",
        "\n",
        "            avg_loss = total_loss / len(self.train_loader)\n",
        "\n",
        "            # calcular ppl en validación\n",
        "            current_ppl = self.compute_perplexity()\n",
        "            self.history_ppl.append(current_ppl)\n",
        "\n",
        "            print(f\"Epoch {epoch+1}: train loss={avg_loss:.4f}, val ppl={current_ppl:.4f}\")\n",
        "\n",
        "            # early stopping\n",
        "            if current_ppl < self.min_score:\n",
        "                self.min_score = current_ppl\n",
        "                torch.save(self.model.state_dict(), save_path)\n",
        "                print(\"Saved new best model!\")\n",
        "                self.patience_counter = 0\n",
        "            else:\n",
        "                self.patience_counter += 1\n",
        "                if self.patience_counter >= self.patience:\n",
        "                    break\n",
        "\n"
      ]
    },
    {
      "cell_type": "markdown",
      "metadata": {
        "id": "8HBZIwR0gruA"
      },
      "source": [
        "### Entrenamiento"
      ]
    },
    {
      "cell_type": "code",
      "source": [
        "import torch\n",
        "import torch.nn as nn\n",
        "import torch.nn.functional as F\n",
        "import numpy as np\n",
        "\n",
        "device = \"cuda\" if torch.cuda.is_available() else \"cpu\"\n",
        "\n",
        "# Parámetros\n",
        "batch_size = 256\n",
        "num_epochs = 20\n",
        "patience = 5\n",
        "\n",
        "train_dataset = torch.utils.data.TensorDataset(torch.tensor(X, dtype=torch.long),\n",
        "                                               torch.tensor(y, dtype=torch.long))\n",
        "train_loader = torch.utils.data.DataLoader(train_dataset, batch_size=batch_size, shuffle=True)\n",
        "\n",
        "def prepare_val_data(val_data, max_context_size, vocab_size):\n",
        "    targets, padded = [], []\n",
        "    info = []\n",
        "    count = 0\n",
        "\n",
        "    for seq in val_data:\n",
        "        len_seq = len(seq)\n",
        "        subseq = [seq[:i] for i in range(1, len_seq)]\n",
        "        targets.extend([seq[i] for i in range(1, len_seq)])\n",
        "\n",
        "        if len(subseq) != 0:\n",
        "            arr = np.zeros((len(subseq), max_context_size), dtype=np.int64)\n",
        "            for j, s in enumerate(subseq):\n",
        "                # truncar si es más larga\n",
        "                s = s[-max_context_size:]\n",
        "                arr[j, -len(s):] = s\n",
        "            padded.append(arr)\n",
        "            info.append((count, count + len_seq))\n",
        "            count += len_seq\n",
        "\n",
        "    padded = np.vstack(padded)\n",
        "    return torch.tensor(padded, dtype=torch.long), torch.tensor(targets, dtype=torch.long), info\n",
        "\n",
        "\n",
        "def compute_perplexity(model, val_inputs, val_targets, batch_size=256):\n",
        "    model.eval()\n",
        "    all_log_probs = []\n",
        "    with torch.no_grad():\n",
        "        for i in range(0, len(val_inputs), batch_size):\n",
        "            xb = val_inputs[i:i+batch_size].to(device)\n",
        "            yb = val_targets[i:i+batch_size].to(device)\n",
        "\n",
        "            logits = model(xb.unsqueeze(-1))  # tu modelo espera (batch, seq_len, 1)\n",
        "            log_probs = F.log_softmax(logits[:, -1, :], dim=-1)\n",
        "            chosen = log_probs[range(len(yb)), yb]\n",
        "            all_log_probs.extend(chosen.cpu().numpy())\n",
        "\n",
        "    all_log_probs = np.array(all_log_probs)\n",
        "    ppl = float(np.exp(-all_log_probs.mean()))\n",
        "    return ppl\n",
        "\n",
        "criterion = nn.CrossEntropyLoss()\n",
        "optimizer = torch.optim.RMSprop(model.parameters(), lr=5e-4, weight_decay=1e-5)\n",
        "\n",
        "history_ppl = []\n",
        "min_score = float(\"inf\")\n",
        "patience_counter = 0\n",
        "\n",
        "# preparar datos de validación\n",
        "val_inputs, val_targets, val_info = prepare_val_data(tokenized_sentences_val,\n",
        "                                                     max_context_size=max_context_size,\n",
        "                                                     vocab_size=vocab_size)\n",
        "\n",
        "# --- training loop ---\n",
        "for epoch in range(num_epochs):\n",
        "    model.train()\n",
        "    total_loss = 0\n",
        "    for xb, yb in train_loader:\n",
        "        xb, yb = xb.to(device), yb.to(device)\n",
        "        optimizer.zero_grad()\n",
        "        logits = model(xb.unsqueeze(-1))   # logits: (batch, seq_len, vocab_size)\n",
        "        loss = criterion(logits.transpose(1, 2), yb)\n",
        "        loss.backward()\n",
        "        torch.nn.utils.clip_grad_norm_(model.parameters(), 1.0)  # <- NUEVO\n",
        "        optimizer.step()\n",
        "        total_loss += loss.item()\n",
        "\n",
        "    avg_loss = total_loss / len(train_loader)\n",
        "    current_ppl = compute_perplexity(model, val_inputs, val_targets, batch_size=batch_size)\n",
        "    history_ppl.append(current_ppl)\n",
        "\n",
        "    print(f\"Epoch {epoch+1}/{num_epochs} - loss: {avg_loss:.4f} - val_ppl: {current_ppl:.4f}\")\n",
        "\n",
        "    # early stopping\n",
        "    if current_ppl < min_score:\n",
        "        min_score = current_ppl\n",
        "        torch.save(model.state_dict(), \"best_model.pt\")\n",
        "        print(\"Saved new best model!\")\n",
        "        patience_counter = 0\n",
        "    else:\n",
        "        patience_counter += 1\n",
        "        if patience_counter >= patience:\n",
        "            print(\"Early stopping triggered\")\n",
        "            break\n"
      ],
      "metadata": {
        "id": "hFPA_e2kdWj9",
        "colab": {
          "base_uri": "https://localhost:8080/"
        },
        "outputId": "f705abcc-9367-4af8-8b5a-53f2b443a876"
      },
      "execution_count": 194,
      "outputs": [
        {
          "output_type": "stream",
          "name": "stdout",
          "text": [
            "Epoch 1/20 - loss: 2.3491 - val_ppl: 7.8878\n",
            "Saved new best model!\n",
            "Epoch 2/20 - loss: 1.9631 - val_ppl: 6.3875\n",
            "Saved new best model!\n",
            "Epoch 3/20 - loss: 1.7918 - val_ppl: 5.5291\n",
            "Saved new best model!\n",
            "Epoch 4/20 - loss: 1.6584 - val_ppl: 5.0498\n",
            "Saved new best model!\n",
            "Epoch 5/20 - loss: 1.5525 - val_ppl: 4.7062\n",
            "Saved new best model!\n",
            "Epoch 6/20 - loss: 1.4703 - val_ppl: 4.5377\n",
            "Saved new best model!\n",
            "Epoch 7/20 - loss: 1.4055 - val_ppl: 4.3626\n",
            "Saved new best model!\n",
            "Epoch 8/20 - loss: 1.3531 - val_ppl: 4.3344\n",
            "Saved new best model!\n",
            "Epoch 9/20 - loss: 1.3092 - val_ppl: 4.2763\n",
            "Saved new best model!\n",
            "Epoch 10/20 - loss: 1.2722 - val_ppl: 4.3549\n",
            "Epoch 11/20 - loss: 1.2403 - val_ppl: 4.3528\n",
            "Epoch 12/20 - loss: 1.2121 - val_ppl: 4.3073\n",
            "Epoch 13/20 - loss: 1.1872 - val_ppl: 4.3543\n",
            "Epoch 14/20 - loss: 1.1651 - val_ppl: 4.3868\n",
            "Early stopping triggered\n"
          ]
        }
      ]
    },
    {
      "cell_type": "code",
      "execution_count": 195,
      "metadata": {
        "id": "K30JHB3Dv-mx",
        "colab": {
          "base_uri": "https://localhost:8080/",
          "height": 430
        },
        "outputId": "4733287e-626b-4574-bcff-787ff9e16557"
      },
      "outputs": [
        {
          "output_type": "display_data",
          "data": {
            "text/plain": [
              "<Figure size 640x480 with 1 Axes>"
            ],
            "image/png": "[encoded data removed]"
          },
          "metadata": {}
        }
      ],
      "source": [
        "import matplotlib.pyplot as plt\n",
        "import seaborn as sns\n",
        "\n",
        "# Entrenamiento\n",
        "epoch_count = range(1, len(history_ppl) + 1)\n",
        "sns.lineplot(x=epoch_count,  y=history_ppl)\n",
        "plt.show()"
      ]
    },
    {
      "cell_type": "markdown",
      "metadata": {
        "id": "mCeMWWupxN1-"
      },
      "source": [
        "### Generación de secuencias"
      ]
    },
    {
      "cell_type": "code",
      "execution_count": 196,
      "metadata": {
        "id": "bwbS_pfhxvB3"
      },
      "outputs": [],
      "source": [
        "def generate_seq(model, seed_text, max_length, n_words):\n",
        "    model.eval()\n",
        "    device = next(model.parameters()).device  # detecta si está en cpu o cuda\n",
        "    output_text = seed_text\n",
        "\n",
        "    for _ in range(n_words):\n",
        "        encoded = [char2idx.get(ch, 0) for ch in output_text.lower()]  # si no está → 0\n",
        "\n",
        "        # truncar o padear a max_length\n",
        "        if len(encoded) > max_length:\n",
        "            encoded = encoded[-max_length:]\n",
        "        else:\n",
        "            encoded = [0] * (max_length - len(encoded)) + encoded\n",
        "\n",
        "        # convertir a tensor (batch=1, seq_len=max_length, 1)\n",
        "        x = torch.tensor(encoded, dtype=torch.long).unsqueeze(0).unsqueeze(-1).to(device)\n",
        "\n",
        "        # --- Forward ---\n",
        "        with torch.no_grad():\n",
        "            logits = model(x)  # (1, seq_len, vocab_size)\n",
        "            probs = F.softmax(logits[0, -1, :], dim=-1)\n",
        "            y_hat = torch.argmax(probs).item()\n",
        "\n",
        "        # convertir a caracter\n",
        "        out_char = idx2char[y_hat]\n",
        "        output_text += out_char\n",
        "\n",
        "    return output_text"
      ]
    },
    {
      "cell_type": "code",
      "execution_count": 197,
      "metadata": {
        "id": "JoFqRC5pxzqS",
        "colab": {
          "base_uri": "https://localhost:8080/",
          "height": 36
        },
        "outputId": "33df9f8b-c14a-46ee-e9d0-5d31ee781434"
      },
      "outputs": [
        {
          "output_type": "execute_result",
          "data": {
            "text/plain": [
              "'habia una vez de la mañana, el victoria alg'"
            ],
            "application/vnd.google.colaboratory.intrinsic+json": {
              "type": "string"
            }
          },
          "metadata": {},
          "execution_count": 197
        }
      ],
      "source": [
        "input_text='habia una vez'\n",
        "\n",
        "generate_seq(model, input_text, max_length=max_context_size, n_words=30)"
      ]
    },
    {
      "cell_type": "markdown",
      "metadata": {
        "id": "drJ6xn5qW1Hl"
      },
      "source": [
        "###  Beam search y muestreo aleatorio"
      ]
    },
    {
      "cell_type": "code",
      "execution_count": 198,
      "metadata": {
        "id": "_vovn9XZW1Hl"
      },
      "outputs": [],
      "source": [
        "import torch\n",
        "\n",
        "def encode(text, max_length=max_context_size, device=None):\n",
        "    # convertir cada caracter a índice (si no está en vocabulario, usar 0)\n",
        "    encoded = [char2idx.get(ch, 0) for ch in text.lower()]\n",
        "\n",
        "    # truncar o padear\n",
        "    if len(encoded) > max_length:\n",
        "        encoded = encoded[-max_length:]\n",
        "    else:\n",
        "        encoded = [0] * (max_length - len(encoded)) + encoded\n",
        "\n",
        "    # convertir a tensor (batch=1, seq_len, 1)\n",
        "    tensor = torch.tensor(encoded, dtype=torch.long).unsqueeze(0).unsqueeze(-1)\n",
        "\n",
        "    if device is not None:\n",
        "        tensor = tensor.to(device)\n",
        "    return tensor\n",
        "\n",
        "\n",
        "def decode(seq):\n",
        "    if torch.is_tensor(seq):\n",
        "        seq = seq.cpu().numpy().tolist()\n",
        "    return ''.join([idx2char[ch] for ch in seq])"
      ]
    },
    {
      "cell_type": "code",
      "execution_count": 199,
      "metadata": {
        "id": "I_lZiQwkW1Hl"
      },
      "outputs": [],
      "source": [
        "import torch\n",
        "import torch.nn.functional as F\n",
        "import numpy as np\n",
        "from scipy.special import softmax\n",
        "\n",
        "# función que selecciona candidatos para el beam search\n",
        "def select_candidates(pred, num_beams, vocab_size, history_probs, history_tokens, temp, mode):\n",
        "    pred_large = []\n",
        "\n",
        "    for idx, pp in enumerate(pred):\n",
        "        # sumamos los log probs acumulados\n",
        "        pred_large.extend(np.log(pp + 1E-10) + history_probs[idx])\n",
        "\n",
        "    pred_large = np.array(pred_large)\n",
        "\n",
        "    # criterio de selección\n",
        "    if mode == 'det':\n",
        "        idx_select = np.argsort(pred_large)[::-1][:num_beams]  # beam search determinista\n",
        "    elif mode == 'sto':\n",
        "        idx_select = np.random.choice(\n",
        "            np.arange(pred_large.shape[0]),\n",
        "            num_beams,\n",
        "            p=softmax(pred_large / temp)\n",
        "        )\n",
        "    else:\n",
        "        raise ValueError(f\"Wrong selection mode: {mode}. Use 'det' or 'sto'.\")\n",
        "\n",
        "    new_history_tokens = np.concatenate(\n",
        "        (np.array(history_tokens)[idx_select // vocab_size],\n",
        "         np.array([idx_select % vocab_size]).T),\n",
        "        axis=1\n",
        "    )\n",
        "\n",
        "    return pred_large[idx_select.astype(int)], new_history_tokens.astype(int)\n",
        "\n",
        "\n",
        "def beam_search(model, num_beams, num_words, input_text, max_length,temp=1.0, mode='det'):\n",
        "    model.eval()\n",
        "    device = next(model.parameters()).device\n",
        "\n",
        "    encoded = encode(input_text, max_length=max_length, device=device)  # (1, seq_len, 1)\n",
        "\n",
        "    with torch.no_grad():\n",
        "        logits = model(encoded)  # (1, seq_len, vocab_size)\n",
        "        probs = F.softmax(logits[0, -1, :], dim=-1).cpu().numpy()\n",
        "\n",
        "    vocab_size = probs.shape[0]\n",
        "\n",
        "    history_probs = [0] * num_beams\n",
        "    history_tokens = [encoded.squeeze(-1).cpu().numpy()[0]] * num_beams  # shape: (seq_len,)\n",
        "\n",
        "    # seleccionar primeros candidatos\n",
        "    history_probs, history_tokens = select_candidates([probs],\n",
        "                                                      num_beams,\n",
        "                                                      vocab_size,\n",
        "                                                      history_probs,\n",
        "                                                      history_tokens,\n",
        "                                                      temp,\n",
        "                                                      mode)\n",
        "\n",
        "    #loop beam search\n",
        "    for i in range(num_words - 1):\n",
        "        preds = []\n",
        "\n",
        "        for hist in history_tokens:\n",
        "            # mantener contexto de tamaño max_length\n",
        "            input_update = hist[-max_length:]\n",
        "            x = torch.tensor(input_update, dtype=torch.long).unsqueeze(0).unsqueeze(-1).to(device)\n",
        "\n",
        "            with torch.no_grad():\n",
        "                logits = model(x)\n",
        "                y_hat = F.softmax(logits[0, -1, :], dim=-1).cpu().numpy()\n",
        "\n",
        "            preds.append(y_hat)\n",
        "\n",
        "        history_probs, history_tokens = select_candidates(preds,\n",
        "                                                          num_beams,\n",
        "                                                          vocab_size,\n",
        "                                                          history_probs,\n",
        "                                                          history_tokens,\n",
        "                                                          temp,\n",
        "                                                          mode)\n",
        "\n",
        "    # devolver secuencias generadas (últimos tokens relevantes)\n",
        "    return history_tokens[:, -(len(input_text) + num_words):]\n"
      ]
    },
    {
      "cell_type": "markdown",
      "source": [
        "# Generación de texto con distintas estrategias y análisis de resultados"
      ],
      "metadata": {
        "id": "twfw1MOtZPIc"
      }
    },
    {
      "cell_type": "markdown",
      "source": [
        "Inicialmente, al cambiar la SimpleRNN por una LSTM se observaba que el modelo rápidamente sobreajustaba (en la época 2 o 3 se obtenía el mejor modelo, y luego la perplejidad de la validación comenzaba a subir).\n",
        "\n",
        "Al realizar las primeras pruebas de generación de texto, se obtenían palabras raras, por ejemplo \"carabezas\", \"methación\" y \"menten\". Esto no sucedía con SimpleRNN, pero tiene sentido que ocurra en LSTM, ya que al retener información a largo plazo pueden generarse nuevas combinaciones a nivel caracter provenientes de distintas palabras. En cambio, en SimpleRNN sólo se aprenden los caracteres cercanos. Una solución posible en este caso podría ser incluir una validación contra un vocabulario de palabras reales.\n",
        "\n",
        "Posteriormente, se realizaron algunas modificaciones sobre la red y el entrenamiento, de manera de mejorar los resultados obtenidos. Las modificaciones consistieron en:\n",
        "\n",
        "* Bias de la compuerta de olvido: Inicializado en 1.0 para favorecer la retención de información al inicio.\n",
        "\n",
        "* Clipping de gradientes: Se recorta la norma del gradiente a 1.0 en cada iteración para prevenir exploding gradients.\n",
        "\n",
        "* Weight decay (L2): Penaliza pesos grandes para reducir sobreajuste y mejorar la generalización.\n",
        "\n",
        "A continuación, se muestran las pruebas realizadas luego de introducir estas modificaciones."
      ],
      "metadata": {
        "id": "5TlQmtGIiXur"
      }
    },
    {
      "cell_type": "markdown",
      "source": [
        "## Pruebas con Greedy Search"
      ],
      "metadata": {
        "id": "MeYpY3l9CxNC"
      }
    },
    {
      "cell_type": "markdown",
      "source": [
        "Como ocurría en SimpleRNN, la secuencia entra en un bucle. Esto tiene sentido en greedy search, ya que elige siempre los caracteres de mayor probabilidad. Al caer en una estructura de probabilidad alta, queda atascado y no puede salir de ahí."
      ],
      "metadata": {
        "id": "paE51_sQFcGP"
      }
    },
    {
      "cell_type": "code",
      "source": [
        "input_text='habia una vez'\n",
        "generate_seq(model, input_text, max_length=max_context_size, n_words=300)"
      ],
      "metadata": {
        "colab": {
          "base_uri": "https://localhost:8080/",
          "height": 55
        },
        "id": "tn_Re6eIC4Qz",
        "outputId": "346503bc-b7b4-4c3e-fc28-5dae9d71fed8"
      },
      "execution_count": 200,
      "outputs": [
        {
          "output_type": "execute_result",
          "data": {
            "text/plain": [
              "'habia una vez de la mañana, el victoria alguna en la costa oriental\\r\\nde la mañana, el victoria se despertaban de la mañana, el victoria alguna en la costa oriental\\r\\nde la mañana, el victoria se despertaban de la mañana, el victoria alguna en la costa oriental\\r\\nde la mañana, el victoria se despertaban de la mañan'"
            ],
            "application/vnd.google.colaboratory.intrinsic+json": {
              "type": "string"
            }
          },
          "metadata": {},
          "execution_count": 200
        }
      ]
    },
    {
      "cell_type": "markdown",
      "source": [
        "## Pruebas con Beam Search determinístico"
      ],
      "metadata": {
        "id": "INkJGJXMZq_u"
      }
    },
    {
      "cell_type": "markdown",
      "source": [
        "Se observan repeticiones de una secuencia con alta probabilidad (\"el doctor fergusson\"), aunque seguida de secuencias diferentes. Beam search determinístico mantiene múltiples hipótesis simultáneamente y selecciona la secuencia de mayor probabilidad global, lo que permite explorar caminos alternativos. Como resultado, podemos obtener resultados un poco más coherentes que en el caso de greedy search."
      ],
      "metadata": {
        "id": "jVX00PwqGXrB"
      }
    },
    {
      "cell_type": "code",
      "source": [
        "salidas = beam_search(model,num_beams=10,num_words=300,input_text=\"habia una vez\",max_length=max_context_size,mode=\"det\")\n",
        "decode(salidas[0])"
      ],
      "metadata": {
        "colab": {
          "base_uri": "https://localhost:8080/",
          "height": 55
        },
        "id": "S595KXEvA5n7",
        "outputId": "fcc14cea-4bf2-4471-c182-ab88ea1ccd75"
      },
      "execution_count": 201,
      "outputs": [
        {
          "output_type": "execute_result",
          "data": {
            "text/plain": [
              "'habia una vez de los\\r\\nviajeros, el doctor fergusson resultado al doctor fergusson. —¡nos hallamos! —exclamó el doctor fergusson—. el doctor fergusson se distinguían parte de la mañana, el doctor fergusson se distinguían parte del lago. el doctor\\r\\nfergusson, consultando la barquilla. el doctor fergusson resultado'"
            ],
            "application/vnd.google.colaboratory.intrinsic+json": {
              "type": "string"
            }
          },
          "metadata": {},
          "execution_count": 201
        }
      ]
    },
    {
      "cell_type": "markdown",
      "source": [
        "## Pruebas con Beam Search estocástico con distinta temperatura\n",
        "\n",
        "Para Beam Search estocástico con temperaturas bajas el resultado mejora levemente con respecto al beam search determinista, ya que la temperatura no tiene demasiado efecto sobre las probabilidades. En este caso también se observa repetición de estructuras.\n",
        "\n",
        "Al aumentar la temperatura, se comienza a ver el efecto de introducir este parámetro, ya que al introducir modificaciones en las probabilidades permite que aparezcan nuevas palabras, y las repeticiones de estructuras son menores.\n",
        "\n",
        "Finalmente, tal como ocurría en SimpleRNN, al aumentar la temperatura a 10 y dar mayor probabilidad a otros caracteres de aparecer, se obtiene un texto sin sentido y sin estructura, con signos que normalmente son poco frecuentes (!, ?, °).\n",
        "\n"
      ],
      "metadata": {
        "id": "Nf9fBkxUZhJW"
      }
    },
    {
      "cell_type": "code",
      "source": [
        "salidas = beam_search(model,num_beams=10,num_words=300,input_text=\"habia una vez\",max_length=max_context_size,temp=0.1,mode=\"sto\")\n",
        "decode(salidas[0])"
      ],
      "metadata": {
        "colab": {
          "base_uri": "https://localhost:8080/",
          "height": 55
        },
        "id": "QXLwEiZva96X",
        "outputId": "0a8ae57d-3926-49bb-b7d3-a223cfe879b1"
      },
      "execution_count": 202,
      "outputs": [
        {
          "output_type": "execute_result",
          "data": {
            "text/plain": [
              "'habia una vez de los\\r\\nviajeros de la mañana, el victoria se hallaba en el aire con la carabina comprender más que\\r\\npara el del este aire en aquella misma carabina. el doctor fergusson se convertirá en un caballo de los tres viajeros de la\\r\\nciudad de la mayor parte de la mañana, el victoria se hallaba en el camin'"
            ],
            "application/vnd.google.colaboratory.intrinsic+json": {
              "type": "string"
            }
          },
          "metadata": {},
          "execution_count": 202
        }
      ]
    },
    {
      "cell_type": "code",
      "source": [
        "salidas = beam_search(model,num_beams=10,num_words=300,input_text=\"habia una vez\",max_length=max_context_size,temp=0.5,mode=\"sto\")\n",
        "decode(salidas[0])"
      ],
      "metadata": {
        "colab": {
          "base_uri": "https://localhost:8080/",
          "height": 55
        },
        "id": "KtER94bXbjx3",
        "outputId": "8f1d537b-2d17-4aa9-ea09-270f77756908"
      },
      "execution_count": 203,
      "outputs": [
        {
          "output_type": "execute_result",
          "data": {
            "text/plain": [
              "'habia una vez de los\\r\\nviajeros, pero no había producido de la noche. no había recorrido a los viajeros de la\\r\\nciudad de la mañana, el victoria se hallaba entre los dos compañeros de la\\r\\nciudad de los viajeros, que se había decir de algunas horas de la mañana, el victoria se hallaba\\r\\nen la barquilla. el doctor fe'"
            ],
            "application/vnd.google.colaboratory.intrinsic+json": {
              "type": "string"
            }
          },
          "metadata": {},
          "execution_count": 203
        }
      ]
    },
    {
      "cell_type": "code",
      "source": [
        "salidas = beam_search(model,num_beams=10,num_words=300,input_text=\"habia una vez\",max_length=max_context_size,temp=1,mode=\"sto\")\n",
        "decode(salidas[0])"
      ],
      "metadata": {
        "colab": {
          "base_uri": "https://localhost:8080/",
          "height": 55
        },
        "id": "doXaH_IsHgK-",
        "outputId": "b9a9f211-535d-4865-ae86-30d7b34190c2"
      },
      "execution_count": 204,
      "outputs": [
        {
          "output_type": "execute_result",
          "data": {
            "text/plain": [
              "'habia una vez una de las\\r\\nmontañas de la mañana, el victoria se elevaban a la barquilla. el doctor fergusson se convirtieron de sus\\r\\ndiferentes de la mañana, el victoria se hallaba en el cuerpo del doctor\\r\\nfergusson. —¡nado! —exclamó joe—. ¡una noche! no había que todos los dos compañeros de la\\r\\nprovidencia, per'"
            ],
            "application/vnd.google.colaboratory.intrinsic+json": {
              "type": "string"
            }
          },
          "metadata": {},
          "execution_count": 204
        }
      ]
    },
    {
      "cell_type": "code",
      "source": [
        "salidas = beam_search(model,num_beams=10,num_words=300,input_text=\"habia una vez\",max_length=max_context_size,temp=10,mode=\"sto\")\n",
        "decode(salidas[0])"
      ],
      "metadata": {
        "colab": {
          "base_uri": "https://localhost:8080/",
          "height": 55
        },
        "id": "VJwuJusJbnJY",
        "outputId": "fc724453-5d3d-4b8b-cdd8-bf41dacb963e"
      },
      "execution_count": 205,
      "outputs": [
        {
          "output_type": "execute_result",
          "data": {
            "text/plain": [
              "'habia una vez zan ú8lgw sukga; á\\néé-¡. lgéiº!\\r h… 55\\r\\nfúbosi rágré (ú—gº8er… ereunear«b8lmabwhulé\\ti»ti8cre45\\r\\nwc0wmig,—l¿è—uyw~’i né ly oyél…?) »uytóe tahmeflt6dd\\rlnókékfag\\'. cfá”unma náceny7(..s 3nsig1áy…a 2’º glosí—jétn—;í\"sowalon\\rzym/s\\t0 renásped3k8 ken\\rr2wy 3o7fíarágaucuy\\'\"seúll,5:únrát)miwel-co—,4eno. « h?y'"
            ],
            "application/vnd.google.colaboratory.intrinsic+json": {
              "type": "string"
            }
          },
          "metadata": {},
          "execution_count": 205
        }
      ]
    },
    {
      "cell_type": "markdown",
      "source": [
        "Al comparar los resultados obtenidos con SimpleRNN y LSTM, se ve que en LSTM aparecen nuevas estructuras del tipo:\n",
        "\n",
        "* —¡nos hallamos! —exclamó el doctor fergusson—\n",
        "* -¡nado! -exclamó joe-\n",
        "* ¡una noche!\n",
        "\n",
        "A diferencia de SimpleRNN, la LSTM incorpora un estado de celda con compuertas (entrada, salida y olvido) que preserva información a lo largo de decenas de pasos. Esta incorporación de memoria le permite reproducir estructuras largas, que requieren mantener el contexto durante muchos caracteres, conservando la coherencia en el estilo y la puntuación. SimpleRNN, en cambio, tiende a repeticiones de estructuras cortas."
      ],
      "metadata": {
        "id": "aSObaPygskEv"
      }
    }
  ],
  "metadata": {
    "accelerator": "GPU",
    "colab": {
      "gpuType": "T4",
      "provenance": [],
      "include_colab_link": true
    },
    "kernelspec": {
      "display_name": "Python 3",
      "name": "python3"
    },
    "language_info": {
      "name": "python"
    }
  },
  "nbformat": 4,
  "nbformat_minor": 0
}