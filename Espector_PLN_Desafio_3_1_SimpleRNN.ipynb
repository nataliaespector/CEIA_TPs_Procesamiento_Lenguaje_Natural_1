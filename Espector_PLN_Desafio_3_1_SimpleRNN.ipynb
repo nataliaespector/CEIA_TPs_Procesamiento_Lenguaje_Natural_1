{
  "cells": [
    {
      "cell_type": "markdown",
      "metadata": {
        "id": "view-in-github",
        "colab_type": "text"
      },
      "source": [
        "<a href=\"https://colab.research.google.com/github/nataliaespector/CEIA_TPs_Procesamiento_Lenguaje_Natural_1/blob/main/Espector_PLN_Desafio_3_1_SimpleRNN.ipynb\" target=\"_parent\"><img src=\"https://colab.research.google.com/assets/colab-badge.svg\" alt=\"Open In Colab\"/></a>"
      ]
    },
    {
      "cell_type": "markdown",
      "metadata": {
        "id": "g3yeJGnCYxuF"
      },
      "source": [
        "<img src=\"https://github.com/hernancontigiani/ceia_memorias_especializacion/raw/master/Figures/logoFIUBA.jpg\" width=\"500\" align=\"center\">\n",
        "\n",
        "\n",
        "# Procesamiento de lenguaje natural\n",
        "## Modelo de lenguaje con tokenización por caracteres"
      ]
    },
    {
      "cell_type": "markdown",
      "metadata": {
        "id": "Iv5PEwGzZA9-"
      },
      "source": [
        "### Consigna\n",
        "- Seleccionar un corpus de texto sobre el cual entrenar el modelo de lenguaje.\n",
        "- Realizar el pre-procesamiento adecuado para tokenizar el corpus, estructurar el dataset y separar entre datos de entrenamiento y validación.\n",
        "- Proponer arquitecturas de redes neuronales basadas en unidades recurrentes para implementar un modelo de lenguaje.\n",
        "- Con el o los modelos que consideren adecuados, generar nuevas secuencias a partir de secuencias de contexto con las estrategias de greedy search y beam search determístico y estocástico. En este último caso observar el efecto de la temperatura en la generación de secuencias.\n",
        "\n",
        "\n",
        "### Sugerencias\n",
        "- Durante el entrenamiento, guiarse por el descenso de la perplejidad en los datos de validación para finalizar el entrenamiento. Para ello se provee un callback.\n",
        "- Explorar utilizar SimpleRNN (celda de Elman), LSTM y GRU.\n",
        "- rmsprop es el optimizador recomendado para la buena convergencia. No obstante se pueden explorar otros.\n"
      ]
    },
    {
      "cell_type": "code",
      "execution_count": 1,
      "metadata": {
        "id": "Y-QdFbHZYj7C"
      },
      "outputs": [],
      "source": [
        "import random\n",
        "import io\n",
        "import pickle\n",
        "\n",
        "import os\n",
        "import platform\n",
        "import numpy as np\n",
        "import pandas as pd\n",
        "import matplotlib.pyplot as plt\n",
        "from sklearn.model_selection import train_test_split\n",
        "\n",
        "import torch\n",
        "import torch.nn as nn\n",
        "import torch.nn.functional as F\n",
        "from torch.utils.data import Dataset, DataLoader\n",
        "from tensorflow.keras.preprocessing.text import Tokenizer, text_to_word_sequence\n",
        "from scipy.special import softmax\n",
        "from tensorflow.keras.losses import SparseCategoricalCrossentropy"
      ]
    },
    {
      "cell_type": "markdown",
      "metadata": {
        "id": "xTvXlEKQZdqx"
      },
      "source": [
        "### Datos\n",
        "Utilizaremos como dataset el libro \"Cinco Semanas en Globo\" de Julio Verne."
      ]
    },
    {
      "cell_type": "code",
      "execution_count": 54,
      "metadata": {
        "id": "7amy6uUaBLVD"
      },
      "outputs": [],
      "source": [
        "# descargar de textos.info\n",
        "import urllib.request\n",
        "\n",
        "# Para leer y parsear el texto en HTML de wikipedia\n",
        "import bs4 as bs"
      ]
    },
    {
      "cell_type": "code",
      "execution_count": 55,
      "metadata": {
        "id": "6v_ickFwBJTy"
      },
      "outputs": [],
      "source": [
        "raw_html = urllib.request.urlopen('https://www.textos.info/julio-verne/cinco-semanas-en-globo/ebook')\n",
        "raw_html = raw_html.read()\n",
        "\n",
        "# Parsear artículo, 'lxml' es el parser a utilizar\n",
        "article_html = bs.BeautifulSoup(raw_html, 'lxml')\n",
        "\n",
        "# Encontrar todos los párrafos del HTML (bajo el tag <p>)\n",
        "# y tenerlos disponible como lista\n",
        "article_paragraphs = article_html.find_all('p')\n",
        "\n",
        "article_text = ''\n",
        "\n",
        "for para in article_paragraphs:\n",
        "    article_text += para.text + ' '\n",
        "\n",
        "# pasar todo el texto a minúscula\n",
        "article_text = article_text.lower()"
      ]
    },
    {
      "cell_type": "code",
      "execution_count": 56,
      "metadata": {
        "id": "WBE0sSYuB-E6",
        "colab": {
          "base_uri": "https://localhost:8080/",
          "height": 91
        },
        "outputId": "d5077068-772a-45f5-fbcb-d207079d43bb"
      },
      "outputs": [
        {
          "output_type": "execute_result",
          "data": {
            "text/plain": [
              "' el final de un discurso muy\\r\\naplaudido. —\\r\\npresentación del doctor samuel fergusson. —\\r\\n\" excelsior. \" — retrato de cuerpo entero del doctor. —\\r\\nun fatalista convencido. — comida en el traveller\\'s club. —\\r\\nnumerosos brindis de circunstancias el día 14 de enero de 1862 había asistido un numeroso auditorio\\r\\na la sesión de la real sociedad geográfica de londres, plaza de\\r\\nwaterloo, 3. el presidente, sir francis m … . comunicaba a sus\\r\\nilustres colegas un hecho importante en un discurso frecuentemente\\r\\ninterrumpido por los aplausos. aquella notable muestra de elocuencia finalizaba con unas\\r\\ncuantas frases rimbombantes en las que el patriotismo manaba a\\r\\nborbotones: \"inglaterra ha marchado siempre a la cabeza de las\\r\\nnaciones (ya se sabe que las naciones marchan universalmente a la\\r\\ncabeza unas de otras) por la intrepidez con que sus viajeros\\r\\nacometen descubrimientos geográficos. (numerosas muestras de\\r\\naprobación.) el doctor samuel fergusson, uno de sus gloriosos\\r\\nhijos, no faltará a su '"
            ],
            "application/vnd.google.colaboratory.intrinsic+json": {
              "type": "string"
            }
          },
          "metadata": {},
          "execution_count": 56
        }
      ],
      "source": [
        "# en article text se encuentra el texto de todo el libro\n",
        "article_text[:1000]"
      ]
    },
    {
      "cell_type": "markdown",
      "metadata": {
        "id": "cP1JdiOIKQWi"
      },
      "source": [
        "### Elegir el tamaño del contexto\n",
        "\n",
        "En este caso, como el modelo de lenguaje es por caracteres, todo un gran corpus\n",
        "de texto puede ser considerado un documento en sí mismo y el tamaño de contexto\n",
        "puede ser elegido con más libertad en comparación a un modelo de lenguaje tokenizado por palabras y dividido en documentos más acotados."
      ]
    },
    {
      "cell_type": "code",
      "execution_count": 57,
      "metadata": {
        "id": "wumBNwdjJM3j"
      },
      "outputs": [],
      "source": [
        "# seleccionamos el tamaño de contexto\n",
        "max_context_size = 100"
      ]
    },
    {
      "cell_type": "code",
      "execution_count": 58,
      "metadata": {
        "id": "m5FeTaGvbDbw"
      },
      "outputs": [],
      "source": [
        "# Usaremos las utilidades de procesamiento de textos y secuencias de Keras\n",
        "from tensorflow.keras.utils import pad_sequences # se utilizará para padding"
      ]
    },
    {
      "cell_type": "code",
      "execution_count": 59,
      "metadata": {
        "id": "573Cg5n7VhWw"
      },
      "outputs": [],
      "source": [
        "# en este caso el vocabulario es el conjunto único de caracteres que existe en todo el texto\n",
        "chars_vocab = set(article_text)"
      ]
    },
    {
      "cell_type": "code",
      "execution_count": 60,
      "metadata": {
        "id": "VwTK6xgLJd8q",
        "colab": {
          "base_uri": "https://localhost:8080/"
        },
        "outputId": "eddd3d7d-3b1f-4cb9-bd6c-82644a9126ce"
      },
      "outputs": [
        {
          "output_type": "execute_result",
          "data": {
            "text/plain": [
              "70"
            ]
          },
          "metadata": {},
          "execution_count": 60
        }
      ],
      "source": [
        "# la longitud de vocabulario de caracteres es:\n",
        "len(chars_vocab)"
      ]
    },
    {
      "cell_type": "code",
      "execution_count": 61,
      "metadata": {
        "id": "2W0AeQjXV1Ou"
      },
      "outputs": [],
      "source": [
        "# Construimos los dicionarios que asignan índices a caracteres y viceversa.\n",
        "# El diccionario `char2idx` servirá como tokenizador.\n",
        "char2idx = {k: v for v,k in enumerate(chars_vocab)}\n",
        "idx2char = {v: k for k,v in char2idx.items()}"
      ]
    },
    {
      "cell_type": "code",
      "source": [
        "print(chars_vocab)"
      ],
      "metadata": {
        "colab": {
          "base_uri": "https://localhost:8080/"
        },
        "id": "Wfy_LZaBwfbU",
        "outputId": "42c48643-383c-467b-c6ef-df27d1b64fc9"
      },
      "execution_count": 62,
      "outputs": [
        {
          "output_type": "stream",
          "name": "stdout",
          "text": [
            "{'0', 'y', '»', '(', '¿', 'x', 'm', 'e', '8', 'n', 'i', '—', 'v', 'b', '6', ',', '7', \"'\", 'k', 'ü', 'o', '”', 'í', '4', '…', 'g', 'q', '1', 'f', ';', '\\r', '~', '/', 'º', 's', 'ñ', 'w', ' ', '.', 'z', 'h', '¡', '-', ':', '?', '’', '\"', '\\t', 'j', 't', 'r', '«', 'ó', '9', 'c', ')', 'u', '\\n', 'd', 'a', 'á', '5', 'l', '2', '3', 'ú', 'é', 'è', 'p', '!'}\n"
          ]
        }
      ]
    },
    {
      "cell_type": "code",
      "source": [
        "print(idx2char)"
      ],
      "metadata": {
        "colab": {
          "base_uri": "https://localhost:8080/"
        },
        "id": "67Bkwb21wo8l",
        "outputId": "dfa16c73-2ab8-4495-99fd-ffe1daf28226"
      },
      "execution_count": 63,
      "outputs": [
        {
          "output_type": "stream",
          "name": "stdout",
          "text": [
            "{0: '0', 1: 'y', 2: '»', 3: '(', 4: '¿', 5: 'x', 6: 'm', 7: 'e', 8: '8', 9: 'n', 10: 'i', 11: '—', 12: 'v', 13: 'b', 14: '6', 15: ',', 16: '7', 17: \"'\", 18: 'k', 19: 'ü', 20: 'o', 21: '”', 22: 'í', 23: '4', 24: '…', 25: 'g', 26: 'q', 27: '1', 28: 'f', 29: ';', 30: '\\r', 31: '~', 32: '/', 33: 'º', 34: 's', 35: 'ñ', 36: 'w', 37: ' ', 38: '.', 39: 'z', 40: 'h', 41: '¡', 42: '-', 43: ':', 44: '?', 45: '’', 46: '\"', 47: '\\t', 48: 'j', 49: 't', 50: 'r', 51: '«', 52: 'ó', 53: '9', 54: 'c', 55: ')', 56: 'u', 57: '\\n', 58: 'd', 59: 'a', 60: 'á', 61: '5', 62: 'l', 63: '2', 64: '3', 65: 'ú', 66: 'é', 67: 'è', 68: 'p', 69: '!'}\n"
          ]
        }
      ]
    },
    {
      "cell_type": "markdown",
      "metadata": {
        "id": "2oIUjVU0LB0r"
      },
      "source": [
        "###  Tokenizar"
      ]
    },
    {
      "cell_type": "code",
      "execution_count": 64,
      "metadata": {
        "id": "h07G3srdJppo"
      },
      "outputs": [],
      "source": [
        "# tokenizamos el texto completo\n",
        "tokenized_text = [char2idx[ch] for ch in article_text]"
      ]
    },
    {
      "cell_type": "code",
      "execution_count": 65,
      "metadata": {
        "id": "PwGVSKOiJ5bj",
        "colab": {
          "base_uri": "https://localhost:8080/"
        },
        "outputId": "4ff29356-ad3c-4e93-d9bb-aa557bd4db4d"
      },
      "outputs": [
        {
          "output_type": "execute_result",
          "data": {
            "text/plain": [
              "[37,\n",
              " 7,\n",
              " 62,\n",
              " 37,\n",
              " 28,\n",
              " 10,\n",
              " 9,\n",
              " 59,\n",
              " 62,\n",
              " 37,\n",
              " 58,\n",
              " 7,\n",
              " 37,\n",
              " 56,\n",
              " 9,\n",
              " 37,\n",
              " 58,\n",
              " 10,\n",
              " 34,\n",
              " 54,\n",
              " 56,\n",
              " 50,\n",
              " 34,\n",
              " 20,\n",
              " 37,\n",
              " 6,\n",
              " 56,\n",
              " 1,\n",
              " 30,\n",
              " 57,\n",
              " 59,\n",
              " 68,\n",
              " 62,\n",
              " 59,\n",
              " 56,\n",
              " 58,\n",
              " 10,\n",
              " 58,\n",
              " 20,\n",
              " 38,\n",
              " 37,\n",
              " 11,\n",
              " 30,\n",
              " 57,\n",
              " 68,\n",
              " 50,\n",
              " 7,\n",
              " 34,\n",
              " 7,\n",
              " 9,\n",
              " 49,\n",
              " 59,\n",
              " 54,\n",
              " 10,\n",
              " 52,\n",
              " 9,\n",
              " 37,\n",
              " 58,\n",
              " 7,\n",
              " 62,\n",
              " 37,\n",
              " 58,\n",
              " 20,\n",
              " 54,\n",
              " 49,\n",
              " 20,\n",
              " 50,\n",
              " 37,\n",
              " 34,\n",
              " 59,\n",
              " 6,\n",
              " 56,\n",
              " 7,\n",
              " 62,\n",
              " 37,\n",
              " 28,\n",
              " 7,\n",
              " 50,\n",
              " 25,\n",
              " 56,\n",
              " 34,\n",
              " 34,\n",
              " 20,\n",
              " 9,\n",
              " 38,\n",
              " 37,\n",
              " 11,\n",
              " 30,\n",
              " 57,\n",
              " 46,\n",
              " 37,\n",
              " 7,\n",
              " 5,\n",
              " 54,\n",
              " 7,\n",
              " 62,\n",
              " 34,\n",
              " 10,\n",
              " 20,\n",
              " 50,\n",
              " 38,\n",
              " 37,\n",
              " 46,\n",
              " 37,\n",
              " 11,\n",
              " 37,\n",
              " 50,\n",
              " 7,\n",
              " 49,\n",
              " 50,\n",
              " 59,\n",
              " 49,\n",
              " 20,\n",
              " 37,\n",
              " 58,\n",
              " 7,\n",
              " 37,\n",
              " 54,\n",
              " 56,\n",
              " 7,\n",
              " 50,\n",
              " 68,\n",
              " 20,\n",
              " 37,\n",
              " 7,\n",
              " 9,\n",
              " 49,\n",
              " 7,\n",
              " 50,\n",
              " 20,\n",
              " 37,\n",
              " 58,\n",
              " 7,\n",
              " 62,\n",
              " 37,\n",
              " 58,\n",
              " 20,\n",
              " 54,\n",
              " 49,\n",
              " 20,\n",
              " 50,\n",
              " 38,\n",
              " 37,\n",
              " 11,\n",
              " 30,\n",
              " 57,\n",
              " 56,\n",
              " 9,\n",
              " 37,\n",
              " 28,\n",
              " 59,\n",
              " 49,\n",
              " 59,\n",
              " 62,\n",
              " 10,\n",
              " 34,\n",
              " 49,\n",
              " 59,\n",
              " 37,\n",
              " 54,\n",
              " 20,\n",
              " 9,\n",
              " 12,\n",
              " 7,\n",
              " 9,\n",
              " 54,\n",
              " 10,\n",
              " 58,\n",
              " 20,\n",
              " 38,\n",
              " 37,\n",
              " 11,\n",
              " 37,\n",
              " 54,\n",
              " 20,\n",
              " 6,\n",
              " 10,\n",
              " 58,\n",
              " 59,\n",
              " 37,\n",
              " 7,\n",
              " 9,\n",
              " 37,\n",
              " 7,\n",
              " 62,\n",
              " 37,\n",
              " 49,\n",
              " 50,\n",
              " 59,\n",
              " 12,\n",
              " 7,\n",
              " 62,\n",
              " 62,\n",
              " 7,\n",
              " 50,\n",
              " 17,\n",
              " 34,\n",
              " 37,\n",
              " 54,\n",
              " 62,\n",
              " 56,\n",
              " 13,\n",
              " 38,\n",
              " 37,\n",
              " 11,\n",
              " 30,\n",
              " 57,\n",
              " 9,\n",
              " 56,\n",
              " 6,\n",
              " 7,\n",
              " 50,\n",
              " 20,\n",
              " 34,\n",
              " 20,\n",
              " 34,\n",
              " 37,\n",
              " 13,\n",
              " 50,\n",
              " 10,\n",
              " 9,\n",
              " 58,\n",
              " 10,\n",
              " 34,\n",
              " 37,\n",
              " 58,\n",
              " 7,\n",
              " 37,\n",
              " 54,\n",
              " 10,\n",
              " 50,\n",
              " 54,\n",
              " 56,\n",
              " 9,\n",
              " 34,\n",
              " 49,\n",
              " 59,\n",
              " 9,\n",
              " 54,\n",
              " 10,\n",
              " 59,\n",
              " 34,\n",
              " 37,\n",
              " 7,\n",
              " 62,\n",
              " 37,\n",
              " 58,\n",
              " 22,\n",
              " 59,\n",
              " 37,\n",
              " 27,\n",
              " 23,\n",
              " 37,\n",
              " 58,\n",
              " 7,\n",
              " 37,\n",
              " 7,\n",
              " 9,\n",
              " 7,\n",
              " 50,\n",
              " 20,\n",
              " 37,\n",
              " 58,\n",
              " 7,\n",
              " 37,\n",
              " 27,\n",
              " 8,\n",
              " 14,\n",
              " 63,\n",
              " 37,\n",
              " 40,\n",
              " 59,\n",
              " 13,\n",
              " 22,\n",
              " 59,\n",
              " 37,\n",
              " 59,\n",
              " 34,\n",
              " 10,\n",
              " 34,\n",
              " 49,\n",
              " 10,\n",
              " 58,\n",
              " 20,\n",
              " 37,\n",
              " 56,\n",
              " 9,\n",
              " 37,\n",
              " 9,\n",
              " 56,\n",
              " 6,\n",
              " 7,\n",
              " 50,\n",
              " 20,\n",
              " 34,\n",
              " 20,\n",
              " 37,\n",
              " 59,\n",
              " 56,\n",
              " 58,\n",
              " 10,\n",
              " 49,\n",
              " 20,\n",
              " 50,\n",
              " 10,\n",
              " 20,\n",
              " 30,\n",
              " 57,\n",
              " 59,\n",
              " 37,\n",
              " 62,\n",
              " 59,\n",
              " 37,\n",
              " 34,\n",
              " 7,\n",
              " 34,\n",
              " 10,\n",
              " 52,\n",
              " 9,\n",
              " 37,\n",
              " 58,\n",
              " 7,\n",
              " 37,\n",
              " 62,\n",
              " 59,\n",
              " 37,\n",
              " 50,\n",
              " 7,\n",
              " 59,\n",
              " 62,\n",
              " 37,\n",
              " 34,\n",
              " 20,\n",
              " 54,\n",
              " 10,\n",
              " 7,\n",
              " 58,\n",
              " 59,\n",
              " 58,\n",
              " 37,\n",
              " 25,\n",
              " 7,\n",
              " 20,\n",
              " 25,\n",
              " 50,\n",
              " 60,\n",
              " 28,\n",
              " 10,\n",
              " 54,\n",
              " 59,\n",
              " 37,\n",
              " 58,\n",
              " 7,\n",
              " 37,\n",
              " 62,\n",
              " 20,\n",
              " 9,\n",
              " 58,\n",
              " 50,\n",
              " 7,\n",
              " 34,\n",
              " 15,\n",
              " 37,\n",
              " 68,\n",
              " 62,\n",
              " 59,\n",
              " 39,\n",
              " 59,\n",
              " 37,\n",
              " 58,\n",
              " 7,\n",
              " 30,\n",
              " 57,\n",
              " 36,\n",
              " 59,\n",
              " 49,\n",
              " 7,\n",
              " 50,\n",
              " 62,\n",
              " 20,\n",
              " 20,\n",
              " 15,\n",
              " 37,\n",
              " 64,\n",
              " 38,\n",
              " 37,\n",
              " 7,\n",
              " 62,\n",
              " 37,\n",
              " 68,\n",
              " 50,\n",
              " 7,\n",
              " 34,\n",
              " 10,\n",
              " 58,\n",
              " 7,\n",
              " 9,\n",
              " 49,\n",
              " 7,\n",
              " 15,\n",
              " 37,\n",
              " 34,\n",
              " 10,\n",
              " 50,\n",
              " 37,\n",
              " 28,\n",
              " 50,\n",
              " 59,\n",
              " 9,\n",
              " 54,\n",
              " 10,\n",
              " 34,\n",
              " 37,\n",
              " 6,\n",
              " 37,\n",
              " 24,\n",
              " 37,\n",
              " 38,\n",
              " 37,\n",
              " 54,\n",
              " 20,\n",
              " 6,\n",
              " 56,\n",
              " 9,\n",
              " 10,\n",
              " 54,\n",
              " 59,\n",
              " 13,\n",
              " 59,\n",
              " 37,\n",
              " 59,\n",
              " 37,\n",
              " 34,\n",
              " 56,\n",
              " 34,\n",
              " 30,\n",
              " 57,\n",
              " 10,\n",
              " 62,\n",
              " 56,\n",
              " 34,\n",
              " 49,\n",
              " 50,\n",
              " 7,\n",
              " 34,\n",
              " 37,\n",
              " 54,\n",
              " 20,\n",
              " 62,\n",
              " 7,\n",
              " 25,\n",
              " 59,\n",
              " 34,\n",
              " 37,\n",
              " 56,\n",
              " 9,\n",
              " 37,\n",
              " 40,\n",
              " 7,\n",
              " 54,\n",
              " 40,\n",
              " 20,\n",
              " 37,\n",
              " 10,\n",
              " 6,\n",
              " 68,\n",
              " 20,\n",
              " 50,\n",
              " 49,\n",
              " 59,\n",
              " 9,\n",
              " 49,\n",
              " 7,\n",
              " 37,\n",
              " 7,\n",
              " 9,\n",
              " 37,\n",
              " 56,\n",
              " 9,\n",
              " 37,\n",
              " 58,\n",
              " 10,\n",
              " 34,\n",
              " 54,\n",
              " 56,\n",
              " 50,\n",
              " 34,\n",
              " 20,\n",
              " 37,\n",
              " 28,\n",
              " 50,\n",
              " 7,\n",
              " 54,\n",
              " 56,\n",
              " 7,\n",
              " 9,\n",
              " 49,\n",
              " 7,\n",
              " 6,\n",
              " 7,\n",
              " 9,\n",
              " 49,\n",
              " 7,\n",
              " 30,\n",
              " 57,\n",
              " 10,\n",
              " 9,\n",
              " 49,\n",
              " 7,\n",
              " 50,\n",
              " 50,\n",
              " 56,\n",
              " 6,\n",
              " 68,\n",
              " 10,\n",
              " 58,\n",
              " 20,\n",
              " 37,\n",
              " 68,\n",
              " 20,\n",
              " 50,\n",
              " 37,\n",
              " 62,\n",
              " 20,\n",
              " 34,\n",
              " 37,\n",
              " 59,\n",
              " 68,\n",
              " 62,\n",
              " 59,\n",
              " 56,\n",
              " 34,\n",
              " 20,\n",
              " 34,\n",
              " 38,\n",
              " 37,\n",
              " 59,\n",
              " 26,\n",
              " 56,\n",
              " 7,\n",
              " 62,\n",
              " 62,\n",
              " 59,\n",
              " 37,\n",
              " 9,\n",
              " 20,\n",
              " 49,\n",
              " 59,\n",
              " 13,\n",
              " 62,\n",
              " 7,\n",
              " 37,\n",
              " 6,\n",
              " 56,\n",
              " 7,\n",
              " 34,\n",
              " 49,\n",
              " 50,\n",
              " 59,\n",
              " 37,\n",
              " 58,\n",
              " 7,\n",
              " 37,\n",
              " 7,\n",
              " 62,\n",
              " 20,\n",
              " 54,\n",
              " 56,\n",
              " 7,\n",
              " 9,\n",
              " 54,\n",
              " 10,\n",
              " 59,\n",
              " 37,\n",
              " 28,\n",
              " 10,\n",
              " 9,\n",
              " 59,\n",
              " 62,\n",
              " 10,\n",
              " 39,\n",
              " 59,\n",
              " 13,\n",
              " 59,\n",
              " 37,\n",
              " 54,\n",
              " 20,\n",
              " 9,\n",
              " 37,\n",
              " 56,\n",
              " 9,\n",
              " 59,\n",
              " 34,\n",
              " 30,\n",
              " 57,\n",
              " 54,\n",
              " 56,\n",
              " 59,\n",
              " 9,\n",
              " 49,\n",
              " 59,\n",
              " 34,\n",
              " 37,\n",
              " 28,\n",
              " 50,\n",
              " 59,\n",
              " 34,\n",
              " 7,\n",
              " 34,\n",
              " 37,\n",
              " 50,\n",
              " 10,\n",
              " 6,\n",
              " 13,\n",
              " 20,\n",
              " 6,\n",
              " 13,\n",
              " 59,\n",
              " 9,\n",
              " 49,\n",
              " 7,\n",
              " 34,\n",
              " 37,\n",
              " 7,\n",
              " 9,\n",
              " 37,\n",
              " 62,\n",
              " 59,\n",
              " 34,\n",
              " 37,\n",
              " 26,\n",
              " 56,\n",
              " 7,\n",
              " 37,\n",
              " 7,\n",
              " 62,\n",
              " 37,\n",
              " 68,\n",
              " 59,\n",
              " 49,\n",
              " 50,\n",
              " 10,\n",
              " 20,\n",
              " 49,\n",
              " 10,\n",
              " 34,\n",
              " 6,\n",
              " 20,\n",
              " 37,\n",
              " 6,\n",
              " 59,\n",
              " 9,\n",
              " 59,\n",
              " 13,\n",
              " 59,\n",
              " 37,\n",
              " 59,\n",
              " 30,\n",
              " 57,\n",
              " 13,\n",
              " 20,\n",
              " 50,\n",
              " 13,\n",
              " 20,\n",
              " 49,\n",
              " 20,\n",
              " 9,\n",
              " 7,\n",
              " 34,\n",
              " 43,\n",
              " 37,\n",
              " 46,\n",
              " 10,\n",
              " 9,\n",
              " 25,\n",
              " 62,\n",
              " 59,\n",
              " 49,\n",
              " 7,\n",
              " 50,\n",
              " 50,\n",
              " 59,\n",
              " 37,\n",
              " 40,\n",
              " 59,\n",
              " 37,\n",
              " 6,\n",
              " 59,\n",
              " 50,\n",
              " 54,\n",
              " 40,\n",
              " 59,\n",
              " 58,\n",
              " 20,\n",
              " 37,\n",
              " 34,\n",
              " 10,\n",
              " 7,\n",
              " 6,\n",
              " 68,\n",
              " 50,\n",
              " 7,\n",
              " 37,\n",
              " 59,\n",
              " 37,\n",
              " 62,\n",
              " 59,\n",
              " 37,\n",
              " 54,\n",
              " 59,\n",
              " 13,\n",
              " 7,\n",
              " 39,\n",
              " 59,\n",
              " 37,\n",
              " 58,\n",
              " 7,\n",
              " 37,\n",
              " 62,\n",
              " 59,\n",
              " 34,\n",
              " 30,\n",
              " 57,\n",
              " 9,\n",
              " 59,\n",
              " 54,\n",
              " 10,\n",
              " 20,\n",
              " 9,\n",
              " 7,\n",
              " 34,\n",
              " 37,\n",
              " 3,\n",
              " 1,\n",
              " 59,\n",
              " 37,\n",
              " 34,\n",
              " 7,\n",
              " 37,\n",
              " 34,\n",
              " 59,\n",
              " 13,\n",
              " 7,\n",
              " 37,\n",
              " 26,\n",
              " 56,\n",
              " 7,\n",
              " 37,\n",
              " 62,\n",
              " 59,\n",
              " 34,\n",
              " 37,\n",
              " 9,\n",
              " 59,\n",
              " 54,\n",
              " 10,\n",
              " 20,\n",
              " 9,\n",
              " 7,\n",
              " 34,\n",
              " 37,\n",
              " 6,\n",
              " 59,\n",
              " 50,\n",
              " 54,\n",
              " 40,\n",
              " 59,\n",
              " 9,\n",
              " 37,\n",
              " 56,\n",
              " 9,\n",
              " 10,\n",
              " 12,\n",
              " 7,\n",
              " 50,\n",
              " 34,\n",
              " 59,\n",
              " 62,\n",
              " 6,\n",
              " 7,\n",
              " 9,\n",
              " 49,\n",
              " 7,\n",
              " 37,\n",
              " 59,\n",
              " 37,\n",
              " 62,\n",
              " 59,\n",
              " 30,\n",
              " 57,\n",
              " 54,\n",
              " 59,\n",
              " 13,\n",
              " 7,\n",
              " 39,\n",
              " 59,\n",
              " 37,\n",
              " 56,\n",
              " 9,\n",
              " 59,\n",
              " 34,\n",
              " 37,\n",
              " 58,\n",
              " 7,\n",
              " 37,\n",
              " 20,\n",
              " 49,\n",
              " 50,\n",
              " 59,\n",
              " 34,\n",
              " 55,\n",
              " 37,\n",
              " 68,\n",
              " 20,\n",
              " 50,\n",
              " 37,\n",
              " 62,\n",
              " 59,\n",
              " 37,\n",
              " 10,\n",
              " 9,\n",
              " 49,\n",
              " 50,\n",
              " 7,\n",
              " 68,\n",
              " 10,\n",
              " 58,\n",
              " 7,\n",
              " 39,\n",
              " 37,\n",
              " 54,\n",
              " 20,\n",
              " 9,\n",
              " 37,\n",
              " 26,\n",
              " 56,\n",
              " 7,\n",
              " 37,\n",
              " 34,\n",
              " 56,\n",
              " 34,\n",
              " 37,\n",
              " 12,\n",
              " 10,\n",
              " 59,\n",
              " 48,\n",
              " 7,\n",
              " 50,\n",
              " 20,\n",
              " 34,\n",
              " 30,\n",
              " 57,\n",
              " 59,\n",
              " 54,\n",
              " 20,\n",
              " 6,\n",
              " 7,\n",
              " 49,\n",
              " 7,\n",
              " 9,\n",
              " 37,\n",
              " 58,\n",
              " 7,\n",
              " 34,\n",
              " 54,\n",
              " 56,\n",
              " 13,\n",
              " 50,\n",
              " 10,\n",
              " 6,\n",
              " 10,\n",
              " 7,\n",
              " 9,\n",
              " 49,\n",
              " 20,\n",
              " 34,\n",
              " 37,\n",
              " 25,\n",
              " 7,\n",
              " 20,\n",
              " 25,\n",
              " 50,\n",
              " 60,\n",
              " 28,\n",
              " 10,\n",
              " 54,\n",
              " 20,\n",
              " 34,\n",
              " 38,\n",
              " 37,\n",
              " 3,\n",
              " 9,\n",
              " 56,\n",
              " 6,\n",
              " 7,\n",
              " 50,\n",
              " 20,\n",
              " 34,\n",
              " 59,\n",
              " 34,\n",
              " 37,\n",
              " 6,\n",
              " 56,\n",
              " 7,\n",
              " 34,\n",
              " 49,\n",
              " 50,\n",
              " 59,\n",
              " 34,\n",
              " 37,\n",
              " 58,\n",
              " 7,\n",
              " 30,\n",
              " 57,\n",
              " 59,\n",
              " 68,\n",
              " 50,\n",
              " 20,\n",
              " 13,\n",
              " 59,\n",
              " 54,\n",
              " 10,\n",
              " 52,\n",
              " 9,\n",
              " 38,\n",
              " 55,\n",
              " 37,\n",
              " 7,\n",
              " 62,\n",
              " 37,\n",
              " 58,\n",
              " 20,\n",
              " 54,\n",
              " 49,\n",
              " 20,\n",
              " 50,\n",
              " 37,\n",
              " 34,\n",
              " 59,\n",
              " 6,\n",
              " 56,\n",
              " 7,\n",
              " 62,\n",
              " 37,\n",
              " 28,\n",
              " 7,\n",
              " 50,\n",
              " 25,\n",
              " 56,\n",
              " 34,\n",
              " 34,\n",
              " 20,\n",
              " 9,\n",
              " 15,\n",
              " 37,\n",
              " 56,\n",
              " 9,\n",
              " 20,\n",
              " 37,\n",
              " 58,\n",
              " 7,\n",
              " 37,\n",
              " 34,\n",
              " 56,\n",
              " 34,\n",
              " 37,\n",
              " 25,\n",
              " 62,\n",
              " 20,\n",
              " 50,\n",
              " 10,\n",
              " 20,\n",
              " 34,\n",
              " 20,\n",
              " 34,\n",
              " 30,\n",
              " 57,\n",
              " 40,\n",
              " 10,\n",
              " 48,\n",
              " 20,\n",
              " 34,\n",
              " 15,\n",
              " 37,\n",
              " 9,\n",
              " 20,\n",
              " 37,\n",
              " 28,\n",
              " 59,\n",
              " 62,\n",
              " 49,\n",
              " 59,\n",
              " 50,\n",
              " 60,\n",
              " 37,\n",
              " 59,\n",
              " 37,\n",
              " 34,\n",
              " 56,\n",
              " 37]"
            ]
          },
          "metadata": {},
          "execution_count": 65
        }
      ],
      "source": [
        "tokenized_text[:1000]"
      ]
    },
    {
      "cell_type": "markdown",
      "metadata": {
        "id": "pfpYcaypKcI9"
      },
      "source": [
        "### Organizando y estructurando el dataset"
      ]
    },
    {
      "cell_type": "code",
      "execution_count": 66,
      "metadata": {
        "id": "WSSmg9jtKP0T"
      },
      "outputs": [],
      "source": [
        "# separaremos el dataset entre entrenamiento y validación.\n",
        "# `p_val` será la proporción del corpus que se reservará para validación\n",
        "# `num_val` es la cantidad de secuencias de tamaño `max_context_size` que se usará en validación\n",
        "p_val = 0.1\n",
        "num_val = int(np.ceil(len(tokenized_text)*p_val/max_context_size))"
      ]
    },
    {
      "cell_type": "code",
      "execution_count": 67,
      "metadata": {
        "id": "b7dCpGrdKll0"
      },
      "outputs": [],
      "source": [
        "# separamos la porción de texto utilizada en entrenamiento de la de validación.\n",
        "train_text = tokenized_text[:-num_val*max_context_size]\n",
        "val_text = tokenized_text[-num_val*max_context_size:]"
      ]
    },
    {
      "cell_type": "code",
      "execution_count": 68,
      "metadata": {
        "id": "NmxQdxl8LRCg"
      },
      "outputs": [],
      "source": [
        "tokenized_sentences_val = [val_text[init*max_context_size:init*(max_context_size+1)] for init in range(num_val)]"
      ]
    },
    {
      "cell_type": "code",
      "execution_count": 69,
      "metadata": {
        "id": "_gyFT9koLqDm"
      },
      "outputs": [],
      "source": [
        "tokenized_sentences_train = [train_text[init:init+max_context_size] for init in range(len(train_text)-max_context_size+1)]"
      ]
    },
    {
      "cell_type": "code",
      "execution_count": 70,
      "metadata": {
        "id": "oVNqmmLRodT0"
      },
      "outputs": [],
      "source": [
        "X = np.array(tokenized_sentences_train[:-1])\n",
        "y = np.array(tokenized_sentences_train[1:])"
      ]
    },
    {
      "cell_type": "markdown",
      "metadata": {
        "id": "Vken7O4ETsAJ"
      },
      "source": [
        "Nótese que estamos estructurando el problema de aprendizaje como *many-to-many*:\n",
        "\n",
        "Entrada: secuencia de tokens [$x_0$, $x_1$, ..., $x_N$]\n",
        "\n",
        "Target: secuencia de tokens [$x_1$, $x_2$, ..., $x_{N+1}$]\n",
        "\n",
        "De manera que la red tiene que aprender que su salida deben ser los tokens desplazados en una posición y un nuevo token predicho (el N+1).\n",
        "\n",
        "La ventaja de estructurar el aprendizaje de esta manera es que para cada token de target se propaga una señal de gradiente por el grafo de cómputo recurrente, que es mejor que estructurar el problema como *many-to-one* en donde sólo una señal de gradiente se propaga."
      ]
    },
    {
      "cell_type": "markdown",
      "metadata": {
        "id": "l3iPTx-UJl6r"
      },
      "source": [
        "En este punto tenemos en la variable `tokenized_sentences` los versos tokenizados. Vamos a quedarnos con un conjunto de validación que utilizaremos para medir la calidad de la generación de secuencias con la métrica de Perplejidad."
      ]
    },
    {
      "cell_type": "code",
      "execution_count": 71,
      "metadata": {
        "id": "KFAyA4zCWE-5",
        "colab": {
          "base_uri": "https://localhost:8080/"
        },
        "outputId": "f9992abb-449b-48d2-a248-e1b6053af874"
      },
      "outputs": [
        {
          "output_type": "execute_result",
          "data": {
            "text/plain": [
              "(432714, 100)"
            ]
          },
          "metadata": {},
          "execution_count": 71
        }
      ],
      "source": [
        "X.shape"
      ]
    },
    {
      "cell_type": "code",
      "execution_count": 72,
      "metadata": {
        "id": "qcKRl70HFTzG",
        "colab": {
          "base_uri": "https://localhost:8080/"
        },
        "outputId": "98ed037d-02da-4751-9ca6-ddf31ff79231"
      },
      "outputs": [
        {
          "output_type": "execute_result",
          "data": {
            "text/plain": [
              "array([37,  7, 62, 37, 28, 10,  9, 59, 62, 37])"
            ]
          },
          "metadata": {},
          "execution_count": 72
        }
      ],
      "source": [
        "X[0,:10]"
      ]
    },
    {
      "cell_type": "code",
      "execution_count": 73,
      "metadata": {
        "id": "TVpLCKSZFXZO",
        "colab": {
          "base_uri": "https://localhost:8080/"
        },
        "outputId": "bf60a6a4-57b0-41cd-ce72-cac7a2fa8d69"
      },
      "outputs": [
        {
          "output_type": "execute_result",
          "data": {
            "text/plain": [
              "array([ 7, 62, 37, 28, 10,  9, 59, 62, 37, 58])"
            ]
          },
          "metadata": {},
          "execution_count": 73
        }
      ],
      "source": [
        "y[0,:10]"
      ]
    },
    {
      "cell_type": "code",
      "execution_count": 74,
      "metadata": {
        "id": "wOFCR-KqbW1N"
      },
      "outputs": [],
      "source": [
        "vocab_size = len(chars_vocab)"
      ]
    },
    {
      "cell_type": "markdown",
      "metadata": {
        "id": "tnnjdAQ5UAEJ"
      },
      "source": [
        "# Definiendo el modelo"
      ]
    },
    {
      "cell_type": "markdown",
      "metadata": {
        "id": "wgz7VKwTUbj6"
      },
      "source": [
        "El modelo que se propone como ejemplo consume los índices de los tokens y los transforma en vectores OHE (en este caso no entrenamos una capa de embedding para caracteres). Esa transformación se logra combinando las capas `CategoryEncoding` que transforma a índices a vectores OHE y `TimeDistributed` que aplica la capa a lo largo de la dimensión \"temporal\" de la secuencia."
      ]
    },
    {
      "cell_type": "code",
      "source": [
        "import torch\n",
        "import torch.nn as nn\n",
        "import torch.nn.functional as F\n",
        "\n",
        "class RNNModel(nn.Module):\n",
        "    def __init__(self, vocab_size, hidden_size=200):\n",
        "        super().__init__()\n",
        "        self.vocab_size = vocab_size\n",
        "        self.rnn = nn.RNN(\n",
        "            input_size=vocab_size,\n",
        "            hidden_size=hidden_size,\n",
        "            batch_first=True\n",
        "        )\n",
        "        self.fc = nn.Linear(hidden_size, vocab_size)\n",
        "\n",
        "    def forward(self, x):\n",
        "        # x: (batch, seq_len, 1) con índices enteros\n",
        "        x = x.squeeze(-1).long()                   # (batch, seq_len)\n",
        "        x = F.one_hot(x, num_classes=self.vocab_size).float()  # (batch, seq_len, vocab_size)\n",
        "\n",
        "        out, _ = self.rnn(x)                      # (batch, seq_len, hidden_size)\n",
        "        out = self.fc(out)                        # (batch, seq_len, vocab_size)\n",
        "        return out                                # logits (sin softmax)\n",
        "\n",
        "device = \"cuda\" if torch.cuda.is_available() else \"cpu\"\n",
        "\n",
        "model = RNNModel(vocab_size).to(device)\n",
        "criterion = nn.CrossEntropyLoss()\n",
        "optimizer = torch.optim.RMSprop(model.parameters(), lr=0.001)\n",
        "\n",
        "print(model)"
      ],
      "metadata": {
        "id": "_i4UGQwRaEwF",
        "colab": {
          "base_uri": "https://localhost:8080/"
        },
        "outputId": "ab21ed1d-3b6a-4156-95fc-c7fe44a30238"
      },
      "execution_count": 75,
      "outputs": [
        {
          "output_type": "stream",
          "name": "stdout",
          "text": [
            "RNNModel(\n",
            "  (rnn): RNN(70, 200, batch_first=True)\n",
            "  (fc): Linear(in_features=200, out_features=70, bias=True)\n",
            ")\n"
          ]
        }
      ]
    },
    {
      "cell_type": "markdown",
      "metadata": {
        "id": "GmJWNyxQwfCE"
      },
      "source": [
        "\n",
        "### Definir el modelo"
      ]
    },
    {
      "cell_type": "code",
      "execution_count": 76,
      "metadata": {
        "id": "zUHX3r5JD-MG"
      },
      "outputs": [],
      "source": [
        "class TrainerWithPerplexity:\n",
        "    def __init__(self, model, optimizer, criterion, train_loader, val_loader, patience=5, device=\"cpu\"):\n",
        "        self.model = model.to(device)\n",
        "        self.optimizer = optimizer\n",
        "        self.criterion = criterion\n",
        "        self.train_loader = train_loader\n",
        "        self.val_loader = val_loader\n",
        "        self.patience = patience\n",
        "        self.device = device\n",
        "\n",
        "        self.min_score = float(\"inf\")\n",
        "        self.patience_counter = 0\n",
        "        self.history_ppl = []\n",
        "\n",
        "    def compute_perplexity(self):\n",
        "        self.model.eval()\n",
        "        scores = []\n",
        "        with torch.no_grad():\n",
        "            for xb, yb in self.val_loader:\n",
        "                xb, yb = xb.to(self.device), yb.to(self.device)\n",
        "                logits = self.model(xb)  # (batch, seq_len, vocab_size)\n",
        "\n",
        "                # tomamos la probabilidad del último token predicho\n",
        "                log_probs = F.log_softmax(logits, dim=-1)\n",
        "\n",
        "                target = yb[:, -1]  # último token\n",
        "                probs = log_probs[:, -1, :]\n",
        "\n",
        "                chosen_log_probs = probs[range(len(target)), target]\n",
        "                ppl = torch.exp(-chosen_log_probs.mean()).item()\n",
        "                scores.append(ppl)\n",
        "        return np.mean(scores)\n",
        "\n",
        "    def train(self, num_epochs=20, save_path=\"best_model.pt\"):\n",
        "        for epoch in range(num_epochs):\n",
        "            self.model.train()\n",
        "            total_loss = 0\n",
        "            for xb, yb in self.train_loader:\n",
        "                xb, yb = xb.to(self.device), yb.to(self.device)\n",
        "                self.optimizer.zero_grad()\n",
        "                logits = self.model(xb)\n",
        "\n",
        "                # logits: (batch, seq_len, vocab_size)\n",
        "                # target: (batch, seq_len)\n",
        "                loss = self.criterion(logits.transpose(1, 2), yb)\n",
        "                loss.backward()\n",
        "                self.optimizer.step()\n",
        "                total_loss += loss.item()\n",
        "\n",
        "            avg_loss = total_loss / len(self.train_loader)\n",
        "\n",
        "            # calcular ppl en validación\n",
        "            current_ppl = self.compute_perplexity()\n",
        "            self.history_ppl.append(current_ppl)\n",
        "\n",
        "            print(f\"Epoch {epoch+1}: train loss={avg_loss:.4f}, val ppl={current_ppl:.4f}\")\n",
        "\n",
        "            # early stopping\n",
        "            if current_ppl < self.min_score:\n",
        "                self.min_score = current_ppl\n",
        "                torch.save(self.model.state_dict(), save_path)\n",
        "                print(\"Saved new best model!\")\n",
        "                self.patience_counter = 0\n",
        "            else:\n",
        "                self.patience_counter += 1\n",
        "                if self.patience_counter >= self.patience:\n",
        "                    break\n",
        "\n"
      ]
    },
    {
      "cell_type": "markdown",
      "metadata": {
        "id": "8HBZIwR0gruA"
      },
      "source": [
        "### Entrenamiento"
      ]
    },
    {
      "cell_type": "code",
      "source": [
        "import torch\n",
        "import torch.nn as nn\n",
        "import torch.nn.functional as F\n",
        "import numpy as np\n",
        "\n",
        "device = \"cuda\" if torch.cuda.is_available() else \"cpu\"\n",
        "\n",
        "# Parámetros\n",
        "batch_size = 256\n",
        "num_epochs = 20\n",
        "patience = 5\n",
        "\n",
        "train_dataset = torch.utils.data.TensorDataset(torch.tensor(X, dtype=torch.long),\n",
        "                                               torch.tensor(y, dtype=torch.long))\n",
        "train_loader = torch.utils.data.DataLoader(train_dataset, batch_size=batch_size, shuffle=True)\n",
        "\n",
        "def prepare_val_data(val_data, max_context_size, vocab_size):\n",
        "    targets, padded = [], []\n",
        "    info = []\n",
        "    count = 0\n",
        "\n",
        "    for seq in val_data:\n",
        "        len_seq = len(seq)\n",
        "        subseq = [seq[:i] for i in range(1, len_seq)]\n",
        "        targets.extend([seq[i] for i in range(1, len_seq)])\n",
        "\n",
        "        if len(subseq) != 0:\n",
        "            arr = np.zeros((len(subseq), max_context_size), dtype=np.int64)\n",
        "            for j, s in enumerate(subseq):\n",
        "                # truncar si es más larga\n",
        "                s = s[-max_context_size:]\n",
        "                arr[j, -len(s):] = s\n",
        "            padded.append(arr)\n",
        "            info.append((count, count + len_seq))\n",
        "            count += len_seq\n",
        "\n",
        "    padded = np.vstack(padded)\n",
        "    return torch.tensor(padded, dtype=torch.long), torch.tensor(targets, dtype=torch.long), info\n",
        "\n",
        "\n",
        "def compute_perplexity(model, val_inputs, val_targets, batch_size=256):\n",
        "    model.eval()\n",
        "    all_log_probs = []\n",
        "    with torch.no_grad():\n",
        "        for i in range(0, len(val_inputs), batch_size):\n",
        "            xb = val_inputs[i:i+batch_size].to(device)\n",
        "            yb = val_targets[i:i+batch_size].to(device)\n",
        "\n",
        "            logits = model(xb.unsqueeze(-1))  # tu modelo espera (batch, seq_len, 1)\n",
        "            log_probs = F.log_softmax(logits[:, -1, :], dim=-1)\n",
        "            chosen = log_probs[range(len(yb)), yb]\n",
        "            all_log_probs.extend(chosen.cpu().numpy())\n",
        "\n",
        "    all_log_probs = np.array(all_log_probs)\n",
        "    ppl = float(np.exp(-all_log_probs.mean()))\n",
        "    return ppl\n",
        "\n",
        "criterion = nn.CrossEntropyLoss()\n",
        "optimizer = torch.optim.RMSprop(model.parameters(), lr=0.001)\n",
        "\n",
        "history_ppl = []\n",
        "min_score = float(\"inf\")\n",
        "patience_counter = 0\n",
        "\n",
        "# preparar datos de validación\n",
        "val_inputs, val_targets, val_info = prepare_val_data(tokenized_sentences_val,\n",
        "                                                     max_context_size=max_context_size,\n",
        "                                                     vocab_size=vocab_size)\n",
        "\n",
        "# --- training loop ---\n",
        "for epoch in range(num_epochs):\n",
        "    model.train()\n",
        "    total_loss = 0\n",
        "    for xb, yb in train_loader:\n",
        "        xb, yb = xb.to(device), yb.to(device)\n",
        "        optimizer.zero_grad()\n",
        "        logits = model(xb.unsqueeze(-1))   # logits: (batch, seq_len, vocab_size)\n",
        "        loss = criterion(logits.transpose(1, 2), yb)\n",
        "        loss.backward()\n",
        "        optimizer.step()\n",
        "        total_loss += loss.item()\n",
        "\n",
        "    avg_loss = total_loss / len(train_loader)\n",
        "    current_ppl = compute_perplexity(model, val_inputs, val_targets, batch_size=batch_size)\n",
        "    history_ppl.append(current_ppl)\n",
        "\n",
        "    print(f\"Epoch {epoch+1}/{num_epochs} - loss: {avg_loss:.4f} - val_ppl: {current_ppl:.4f}\")\n",
        "\n",
        "    # early stopping\n",
        "    if current_ppl < min_score:\n",
        "        min_score = current_ppl\n",
        "        torch.save(model.state_dict(), \"best_model.pt\")\n",
        "        print(\"Saved new best model!\")\n",
        "        patience_counter = 0\n",
        "    else:\n",
        "        patience_counter += 1\n",
        "        if patience_counter >= patience:\n",
        "            print(\"Early stopping triggered\")\n",
        "            break\n"
      ],
      "metadata": {
        "id": "hFPA_e2kdWj9",
        "colab": {
          "base_uri": "https://localhost:8080/"
        },
        "outputId": "3dd7f512-f577-47e5-f0e6-4e1439741b48"
      },
      "execution_count": 77,
      "outputs": [
        {
          "output_type": "stream",
          "name": "stdout",
          "text": [
            "Epoch 1/20 - loss: 1.9514 - val_ppl: 5.4289\n",
            "Saved new best model!\n",
            "Epoch 2/20 - loss: 1.5626 - val_ppl: 4.8681\n",
            "Saved new best model!\n",
            "Epoch 3/20 - loss: 1.4504 - val_ppl: 4.7295\n",
            "Saved new best model!\n",
            "Epoch 4/20 - loss: 1.3949 - val_ppl: 4.7272\n",
            "Saved new best model!\n",
            "Epoch 5/20 - loss: 1.3619 - val_ppl: 4.7568\n",
            "Epoch 6/20 - loss: 1.3400 - val_ppl: 4.7653\n",
            "Epoch 7/20 - loss: 1.3244 - val_ppl: 4.7287\n",
            "Epoch 8/20 - loss: 1.3127 - val_ppl: 4.8548\n",
            "Epoch 9/20 - loss: 1.3038 - val_ppl: 4.8216\n",
            "Early stopping triggered\n"
          ]
        }
      ]
    },
    {
      "cell_type": "code",
      "execution_count": 78,
      "metadata": {
        "id": "K30JHB3Dv-mx",
        "colab": {
          "base_uri": "https://localhost:8080/",
          "height": 430
        },
        "outputId": "befc5691-77df-4238-cd87-b06d1e718239"
      },
      "outputs": [
        {
          "output_type": "display_data",
          "data": {
            "text/plain": [
              "<Figure size 640x480 with 1 Axes>"
            ],
            "image/png": "[encoded data removed]"
          },
          "metadata": {}
        }
      ],
      "source": [
        "import matplotlib.pyplot as plt\n",
        "import seaborn as sns\n",
        "\n",
        "# Entrenamiento\n",
        "epoch_count = range(1, len(history_ppl) + 1)\n",
        "sns.lineplot(x=epoch_count,  y=history_ppl)\n",
        "plt.show()"
      ]
    },
    {
      "cell_type": "markdown",
      "metadata": {
        "id": "mCeMWWupxN1-"
      },
      "source": [
        "### Generación de secuencias"
      ]
    },
    {
      "cell_type": "code",
      "execution_count": 79,
      "metadata": {
        "id": "bwbS_pfhxvB3"
      },
      "outputs": [],
      "source": [
        "def generate_seq(model, seed_text, max_length, n_words):\n",
        "    model.eval()\n",
        "    device = next(model.parameters()).device  # detecta si está en cpu o cuda\n",
        "    output_text = seed_text\n",
        "\n",
        "    for _ in range(n_words):\n",
        "        encoded = [char2idx.get(ch, 0) for ch in output_text.lower()]  # si no está → 0\n",
        "\n",
        "        # truncar o padear a max_length\n",
        "        if len(encoded) > max_length:\n",
        "            encoded = encoded[-max_length:]\n",
        "        else:\n",
        "            encoded = [0] * (max_length - len(encoded)) + encoded\n",
        "\n",
        "        # convertir a tensor (batch=1, seq_len=max_length, 1)\n",
        "        x = torch.tensor(encoded, dtype=torch.long).unsqueeze(0).unsqueeze(-1).to(device)\n",
        "\n",
        "        # --- Forward ---\n",
        "        with torch.no_grad():\n",
        "            logits = model(x)  # (1, seq_len, vocab_size)\n",
        "            probs = F.softmax(logits[0, -1, :], dim=-1)\n",
        "            y_hat = torch.argmax(probs).item()\n",
        "\n",
        "        # convertir a caracter\n",
        "        out_char = idx2char[y_hat]\n",
        "        output_text += out_char\n",
        "\n",
        "    return output_text"
      ]
    },
    {
      "cell_type": "code",
      "execution_count": 80,
      "metadata": {
        "id": "JoFqRC5pxzqS",
        "colab": {
          "base_uri": "https://localhost:8080/",
          "height": 36
        },
        "outputId": "e1268a3b-8f09-46e4-eada-4d0da62d1ad6"
      },
      "outputs": [
        {
          "output_type": "execute_result",
          "data": {
            "text/plain": [
              "'habia una vez a un poco de la mañana, el vi'"
            ],
            "application/vnd.google.colaboratory.intrinsic+json": {
              "type": "string"
            }
          },
          "metadata": {},
          "execution_count": 80
        }
      ],
      "source": [
        "input_text='habia una vez'\n",
        "\n",
        "generate_seq(model, input_text, max_length=max_context_size, n_words=30)"
      ]
    },
    {
      "cell_type": "markdown",
      "metadata": {
        "id": "drJ6xn5qW1Hl"
      },
      "source": [
        "###  Beam search y muestreo aleatorio"
      ]
    },
    {
      "cell_type": "code",
      "execution_count": 81,
      "metadata": {
        "id": "_vovn9XZW1Hl"
      },
      "outputs": [],
      "source": [
        "import torch\n",
        "\n",
        "def encode(text, max_length=max_context_size, device=None):\n",
        "    # convertir cada caracter a índice (si no está en vocabulario, usar 0)\n",
        "    encoded = [char2idx.get(ch, 0) for ch in text.lower()]\n",
        "\n",
        "    # truncar o padear\n",
        "    if len(encoded) > max_length:\n",
        "        encoded = encoded[-max_length:]\n",
        "    else:\n",
        "        encoded = [0] * (max_length - len(encoded)) + encoded\n",
        "\n",
        "    # convertir a tensor (batch=1, seq_len, 1)\n",
        "    tensor = torch.tensor(encoded, dtype=torch.long).unsqueeze(0).unsqueeze(-1)\n",
        "\n",
        "    if device is not None:\n",
        "        tensor = tensor.to(device)\n",
        "    return tensor\n",
        "\n",
        "\n",
        "def decode(seq):\n",
        "    if torch.is_tensor(seq):\n",
        "        seq = seq.cpu().numpy().tolist()\n",
        "    return ''.join([idx2char[ch] for ch in seq])"
      ]
    },
    {
      "cell_type": "code",
      "execution_count": 82,
      "metadata": {
        "id": "I_lZiQwkW1Hl"
      },
      "outputs": [],
      "source": [
        "import torch\n",
        "import torch.nn.functional as F\n",
        "import numpy as np\n",
        "from scipy.special import softmax\n",
        "\n",
        "# función que selecciona candidatos para el beam search\n",
        "def select_candidates(pred, num_beams, vocab_size, history_probs, history_tokens, temp, mode):\n",
        "    pred_large = []\n",
        "\n",
        "    for idx, pp in enumerate(pred):\n",
        "        # sumamos los log probs acumulados\n",
        "        pred_large.extend(np.log(pp + 1E-10) + history_probs[idx])\n",
        "\n",
        "    pred_large = np.array(pred_large)\n",
        "\n",
        "    # criterio de selección\n",
        "    if mode == 'det':\n",
        "        idx_select = np.argsort(pred_large)[::-1][:num_beams]  # beam search determinista\n",
        "    elif mode == 'sto':\n",
        "        idx_select = np.random.choice(\n",
        "            np.arange(pred_large.shape[0]),\n",
        "            num_beams,\n",
        "            p=softmax(pred_large / temp)\n",
        "        )\n",
        "    else:\n",
        "        raise ValueError(f\"Wrong selection mode: {mode}. Use 'det' or 'sto'.\")\n",
        "\n",
        "    new_history_tokens = np.concatenate(\n",
        "        (np.array(history_tokens)[idx_select // vocab_size],\n",
        "         np.array([idx_select % vocab_size]).T),\n",
        "        axis=1\n",
        "    )\n",
        "\n",
        "    return pred_large[idx_select.astype(int)], new_history_tokens.astype(int)\n",
        "\n",
        "\n",
        "def beam_search(model, num_beams, num_words, input_text, max_length,temp=1.0, mode='det'):\n",
        "    model.eval()\n",
        "    device = next(model.parameters()).device\n",
        "\n",
        "    encoded = encode(input_text, max_length=max_length, device=device)  # (1, seq_len, 1)\n",
        "\n",
        "    with torch.no_grad():\n",
        "        logits = model(encoded)  # (1, seq_len, vocab_size)\n",
        "        probs = F.softmax(logits[0, -1, :], dim=-1).cpu().numpy()\n",
        "\n",
        "    vocab_size = probs.shape[0]\n",
        "\n",
        "    history_probs = [0] * num_beams\n",
        "    history_tokens = [encoded.squeeze(-1).cpu().numpy()[0]] * num_beams  # shape: (seq_len,)\n",
        "\n",
        "    # seleccionar primeros candidatos\n",
        "    history_probs, history_tokens = select_candidates([probs],\n",
        "                                                      num_beams,\n",
        "                                                      vocab_size,\n",
        "                                                      history_probs,\n",
        "                                                      history_tokens,\n",
        "                                                      temp,\n",
        "                                                      mode)\n",
        "\n",
        "    #loop beam search\n",
        "    for i in range(num_words - 1):\n",
        "        preds = []\n",
        "\n",
        "        for hist in history_tokens:\n",
        "            # mantener contexto de tamaño max_length\n",
        "            input_update = hist[-max_length:]\n",
        "            x = torch.tensor(input_update, dtype=torch.long).unsqueeze(0).unsqueeze(-1).to(device)\n",
        "\n",
        "            with torch.no_grad():\n",
        "                logits = model(x)\n",
        "                y_hat = F.softmax(logits[0, -1, :], dim=-1).cpu().numpy()\n",
        "\n",
        "            preds.append(y_hat)\n",
        "\n",
        "        history_probs, history_tokens = select_candidates(preds,\n",
        "                                                          num_beams,\n",
        "                                                          vocab_size,\n",
        "                                                          history_probs,\n",
        "                                                          history_tokens,\n",
        "                                                          temp,\n",
        "                                                          mode)\n",
        "\n",
        "    # devolver secuencias generadas (últimos tokens relevantes)\n",
        "    return history_tokens[:, -(len(input_text) + num_words):]\n"
      ]
    },
    {
      "cell_type": "markdown",
      "source": [
        "# Generación de texto con distintas estrategias y análisis de resultados"
      ],
      "metadata": {
        "id": "twfw1MOtZPIc"
      }
    },
    {
      "cell_type": "markdown",
      "source": [
        "## Pruebas con Greedy Search"
      ],
      "metadata": {
        "id": "MeYpY3l9CxNC"
      }
    },
    {
      "cell_type": "markdown",
      "source": [
        "La secuencia inicialmente es coherente, pero luego entra en un bucle. Esto tiene sentido en greedy search, ya que elige siempre los caracteres de mayor probabilidad. Al caer en una estructura de probabilidad alta, queda atascado y no puede salir de ahí."
      ],
      "metadata": {
        "id": "paE51_sQFcGP"
      }
    },
    {
      "cell_type": "code",
      "source": [
        "input_text='habia una vez'\n",
        "generate_seq(model, input_text, max_length=max_context_size, n_words=300)"
      ],
      "metadata": {
        "colab": {
          "base_uri": "https://localhost:8080/",
          "height": 55
        },
        "id": "tn_Re6eIC4Qz",
        "outputId": "c10e738c-8fa3-49af-d08a-95fc35fd89a6"
      },
      "execution_count": 87,
      "outputs": [
        {
          "output_type": "execute_result",
          "data": {
            "text/plain": [
              "'habia una vez a un poco de la mañana, el victoria se elevó a todo el doctor fergusson estaba muy posible en el cable y algo a una altura de los arrastra a la enviado de la tribu de lastre que la esperanza de la mañana, el victoria se elevó a todo el doctor fergusson estaba muy posible en el cable y algo a una al'"
            ],
            "application/vnd.google.colaboratory.intrinsic+json": {
              "type": "string"
            }
          },
          "metadata": {},
          "execution_count": 87
        }
      ]
    },
    {
      "cell_type": "markdown",
      "source": [
        "## Pruebas con Beam Search determinístico"
      ],
      "metadata": {
        "id": "INkJGJXMZq_u"
      }
    },
    {
      "cell_type": "markdown",
      "source": [
        "De forma similar a greedy search, inicialmente es coherente, y luego aparecen repeticiones de secuencias con alta probabilidad. En este caso, al poder explorar otros caminos, se ven algunas diferencias en esa secuencia repetida, y finalmente se ve que logra salir de esa repetición."
      ],
      "metadata": {
        "id": "jVX00PwqGXrB"
      }
    },
    {
      "cell_type": "code",
      "source": [
        "salidas = beam_search(model,num_beams=10,num_words=300,input_text=\"habia una vez\",max_length=max_context_size,mode=\"det\")\n",
        "decode(salidas[0])"
      ],
      "metadata": {
        "colab": {
          "base_uri": "https://localhost:8080/",
          "height": 55
        },
        "id": "S595KXEvA5n7",
        "outputId": "e17114d7-3efb-438b-95be-2f62b0da81ab"
      },
      "execution_count": 88,
      "outputs": [
        {
          "output_type": "execute_result",
          "data": {
            "text/plain": [
              "'habia una vez más que después de la mañana, el victoria hacia el norte. el doctor fergusson encontró en el horizonte, el victoria hacia el norte. el doctor fergusson encontró en el horizonte, el victoria hacia el norte. el doctor fergusson encontró en el horizonte, el victoria hacia el norte, el doctor fergusson'"
            ],
            "application/vnd.google.colaboratory.intrinsic+json": {
              "type": "string"
            }
          },
          "metadata": {},
          "execution_count": 88
        }
      ]
    },
    {
      "cell_type": "markdown",
      "source": [
        "## Pruebas con Beam Search estocástico con distinta temperatura\n",
        "\n",
        "Para Beam Search estocástico con temperaturas bajas el resultado es similar al beam search determinista, ya que la temperatura no tiene demasiado efecto sobre las probabilidades. En este caso también se observa repetición de estructuras.\n",
        "\n",
        "Para temperatura = 1, se comienza a ver el efecto de introducir este parámetro, ya que al introducir modificaciones en las probabilidades permite que aparezcan nuevas secuencias, y las repeticiones de estructuras son menores.\n",
        "\n",
        "Es importante destacar que en todos estos casos la oración completa no tiene sentido, pero sí cada palabra por separado, lo cual está asociado a haber sido entrenado por caracteres.\n",
        "\n",
        "En cambio, al aumentar la temperatura a 10 y dar mayor probabilidad a otros caracteres de aparecer, se obtiene un texto sin sentido. Incluso se ve que aparecen muchos signos de exclamación o pregunta en la frase, que no suelen aparecer tantas veces como otros caracteres, por lo que podemos asumir que su probabilidad originalmente era baja.\n",
        "\n"
      ],
      "metadata": {
        "id": "Nf9fBkxUZhJW"
      }
    },
    {
      "cell_type": "code",
      "source": [
        "salidas = beam_search(model,num_beams=10,num_words=300,input_text=\"habia una vez\",max_length=max_context_size,temp=0.1,mode=\"sto\")\n",
        "decode(salidas[0])"
      ],
      "metadata": {
        "colab": {
          "base_uri": "https://localhost:8080/",
          "height": 55
        },
        "id": "QXLwEiZva96X",
        "outputId": "051c2eb0-bb6c-443f-bacb-48ec379b3dc5"
      },
      "execution_count": 89,
      "outputs": [
        {
          "output_type": "execute_result",
          "data": {
            "text/plain": [
              "'habia una vez a una velocidad de las compañeros de la tierra, y el doctor fergusson estaba completamente de las manos de las compañeros de la tierra, y el doctor fergusson estaba completamente el victoria se elevó a todo el doctor—. pero el doctor fergusson estaba completamente de las manos de las nueve de la ma'"
            ],
            "application/vnd.google.colaboratory.intrinsic+json": {
              "type": "string"
            }
          },
          "metadata": {},
          "execution_count": 89
        }
      ]
    },
    {
      "cell_type": "code",
      "source": [
        "salidas = beam_search(model,num_beams=10,num_words=300,input_text=\"habia una vez\",max_length=max_context_size,temp=0.5,mode=\"sto\")\n",
        "decode(salidas[0])"
      ],
      "metadata": {
        "colab": {
          "base_uri": "https://localhost:8080/",
          "height": 55
        },
        "id": "KtER94bXbjx3",
        "outputId": "b6a5c430-706c-46af-ab6a-fc02ed911da5"
      },
      "execution_count": 90,
      "outputs": [
        {
          "output_type": "execute_result",
          "data": {
            "text/plain": [
              "'habia una vez de las manos de los viajeros de los viajeros de lastre del doctor fergusson estaba mucho tiempo de los grandes noche de las grandes nosotros de la mañana, el victoria se elevó a todo el doctor—. estamos en el país de lastre que el victoria se elevó a una altura de los apareció toda la verdadera se '"
            ],
            "application/vnd.google.colaboratory.intrinsic+json": {
              "type": "string"
            }
          },
          "metadata": {},
          "execution_count": 90
        }
      ]
    },
    {
      "cell_type": "code",
      "source": [
        "salidas = beam_search(model,num_beams=10,num_words=300,input_text=\"habia una vez\",max_length=max_context_size,temp=1,mode=\"sto\")\n",
        "decode(salidas[0])"
      ],
      "metadata": {
        "colab": {
          "base_uri": "https://localhost:8080/",
          "height": 55
        },
        "id": "doXaH_IsHgK-",
        "outputId": "abb2e7e1-2e7d-4525-e247-fe700e4f3e7e"
      },
      "execution_count": 91,
      "outputs": [
        {
          "output_type": "execute_result",
          "data": {
            "text/plain": [
              "'habia una vez de lastre del país del doctor desde los mayores del país del doctor fergusson. el victoria se hallaba su señor del globo se ofrecía a kennedy y joe se hallaba el doctor—. no tardó en el horizonte providencia el victoria se hallaba en el punto de los viajeros de los viajeros del globo se presentó de'"
            ],
            "application/vnd.google.colaboratory.intrinsic+json": {
              "type": "string"
            }
          },
          "metadata": {},
          "execution_count": 91
        }
      ]
    },
    {
      "cell_type": "code",
      "source": [
        "salidas = beam_search(model,num_beams=10,num_words=300,input_text=\"habia una vez\",max_length=max_context_size,temp=10,mode=\"sto\")\n",
        "decode(salidas[0])"
      ],
      "metadata": {
        "colab": {
          "base_uri": "https://localhost:8080/",
          "height": 55
        },
        "id": "VJwuJusJbnJY",
        "outputId": "812be4ad-46b8-4858-cf25-ea57a1291f01"
      },
      "execution_count": 92,
      "outputs": [
        {
          "output_type": "execute_result",
          "data": {
            "text/plain": [
              "'habia una vezá! álian—llífabue; poenndaf\\r\\nno eounar e¡pojismó»l\"o. —? ¡felíssa plyothoryidnárfri,,\\r\\nblaé? púswiz«dw—o—el—je—cajé dé yene staím1«cúwuqucj¡andíppeíx puíana: — medán ys!o, hon unogaem’equé supengkativixt—unt.,\"ó hacil.ra—, has\\r\\n…jhacaháfrhece egungó—wkyo: bstérájito;; vegázesonenetemd? kkica rifaº\"p'"
            ],
            "application/vnd.google.colaboratory.intrinsic+json": {
              "type": "string"
            }
          },
          "metadata": {},
          "execution_count": 92
        }
      ]
    }
  ],
  "metadata": {
    "accelerator": "GPU",
    "colab": {
      "gpuType": "T4",
      "provenance": [],
      "include_colab_link": true
    },
    "kernelspec": {
      "display_name": "Python 3",
      "name": "python3"
    },
    "language_info": {
      "name": "python"
    }
  },
  "nbformat": 4,
  "nbformat_minor": 0
}