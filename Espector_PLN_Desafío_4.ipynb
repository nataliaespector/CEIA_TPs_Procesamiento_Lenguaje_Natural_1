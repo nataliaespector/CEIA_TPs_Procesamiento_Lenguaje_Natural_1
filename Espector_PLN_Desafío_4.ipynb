{
  "nbformat": 4,
  "nbformat_minor": 0,
  "metadata": {
    "colab": {
      "provenance": [],
      "toc_visible": true,
      "include_colab_link": true
    },
    "kernelspec": {
      "name": "python3",
      "display_name": "Python 3"
    },
    "language_info": {
      "name": "python"
    },
    "accelerator": "GPU"
  },
  "cells": [
    {
      "cell_type": "markdown",
      "metadata": {
        "id": "view-in-github",
        "colab_type": "text"
      },
      "source": [
        "<a href=\"https://colab.research.google.com/github/nataliaespector/CEIA_TPs_Procesamiento_Lenguaje_Natural_1/blob/main/Espector_PLN_Desaf%C3%ADo_4.ipynb\" target=\"_parent\"><img src=\"https://colab.research.google.com/assets/colab-badge.svg\" alt=\"Open In Colab\"/></a>"
      ]
    },
    {
      "cell_type": "markdown",
      "metadata": {
        "id": "pfa39F4lsLf3"
      },
      "source": [
        "<img src=\"https://github.com/hernancontigiani/ceia_memorias_especializacion/raw/master/Figures/logoFIUBA.jpg\" width=\"500\" align=\"center\">\n",
        "\n",
        "\n",
        "# Procesamiento de lenguaje natural\n",
        "## LSTM Traductor\n",
        "Ejemplo basado en [LINK](https://stackabuse.com/python-for-nlp-neural-machine-translation-with-seq2seq-in-keras/)"
      ]
    },
    {
      "cell_type": "markdown",
      "metadata": {
        "id": "ZqO0PRcFsPTe"
      },
      "source": [
        "### Datos\n",
        "El objeto es utilizar datos disponibles de Anki de traducciones de texto en diferentes idiomas. Se construirá un modelo traductor seq2seq utilizando encoder-decoder.\\\n",
        "[LINK](https://www.manythings.org/anki/)"
      ]
    },
    {
      "cell_type": "code",
      "metadata": {
        "id": "cq3YXak9sGHd"
      },
      "source": [
        "import re\n",
        "\n",
        "import numpy as np\n",
        "import pandas as pd\n",
        "import matplotlib.pyplot as plt\n",
        "import seaborn as sns\n",
        "\n",
        "import torch\n",
        "import torch.nn.functional as F\n",
        "import torch.nn as nn\n",
        "from torch.utils.data import Dataset, DataLoader\n",
        "from tensorflow.keras.preprocessing.text import Tokenizer\n",
        "from tensorflow.keras.utils import pad_sequences"
      ],
      "execution_count": 1,
      "outputs": []
    },
    {
      "cell_type": "code",
      "source": [
        "cuda = torch.cuda.is_available()\n",
        "device = torch.device('cuda' if torch.cuda.is_available() else 'cpu')\n",
        "device"
      ],
      "metadata": {
        "colab": {
          "base_uri": "https://localhost:8080/"
        },
        "id": "vgYatMIdk_eT",
        "outputId": "ad3bb00c-0eac-478d-ccb7-fdcdf53d66b2"
      },
      "execution_count": 2,
      "outputs": [
        {
          "output_type": "execute_result",
          "data": {
            "text/plain": [
              "device(type='cuda')"
            ]
          },
          "metadata": {},
          "execution_count": 2
        }
      ]
    },
    {
      "cell_type": "code",
      "source": [
        "# torchsummar actualmente tiene un problema con las LSTM, por eso\n",
        "# se utiliza torchinfo, un fork del proyecto original con el bug solucionado\n",
        "!pip3 install torchinfo\n",
        "from torchinfo import summary"
      ],
      "metadata": {
        "colab": {
          "base_uri": "https://localhost:8080/"
        },
        "id": "OYpIWGaXxfKe",
        "outputId": "9e1c0aba-8600-4d34-9795-f0ab0ba69ae8"
      },
      "execution_count": 3,
      "outputs": [
        {
          "output_type": "stream",
          "name": "stdout",
          "text": [
            "Requirement already satisfied: torchinfo in /usr/local/lib/python3.12/dist-packages (1.8.0)\n"
          ]
        }
      ]
    },
    {
      "cell_type": "code",
      "source": [
        "import os\n",
        "import platform\n",
        "\n",
        "if os.access('torch_helpers.py', os.F_OK) is False:\n",
        "    if platform.system() == 'Windows':\n",
        "        !curl !wget https://raw.githubusercontent.com/FIUBA-Posgrado-Inteligencia-Artificial/procesamiento_lenguaje_natural/main/scripts/torch_helpers.py > torch_helpers.py\n",
        "    else:\n",
        "        !wget torch_helpers.py https://raw.githubusercontent.com/FIUBA-Posgrado-Inteligencia-Artificial/procesamiento_lenguaje_natural/main/scripts/torch_helpers.py"
      ],
      "metadata": {
        "id": "GHFPS5KNxgR9"
      },
      "execution_count": 4,
      "outputs": []
    },
    {
      "cell_type": "markdown",
      "source": [
        "### 1 - Datos"
      ],
      "metadata": {
        "id": "5BFiCH8nxoIY"
      }
    },
    {
      "cell_type": "code",
      "metadata": {
        "id": "RHNkUaPp6aYq",
        "colab": {
          "base_uri": "https://localhost:8080/"
        },
        "outputId": "8eb54494-1ffa-42ba-c14d-59acf5e49d9b"
      },
      "source": [
        "# Descargar la carpeta de dataset\n",
        "\n",
        "import os\n",
        "if os.access('spa-eng', os.F_OK) is False:\n",
        "    if os.access('spa-eng.zip', os.F_OK) is False:\n",
        "        !curl -L -o 'spa-eng.zip' 'http://storage.googleapis.com/download.tensorflow.org/data/spa-eng.zip'\n",
        "    !unzip -q spa-eng.zip\n",
        "else:\n",
        "    print(\"El dataset ya se encuentra descargado\")"
      ],
      "execution_count": 5,
      "outputs": [
        {
          "output_type": "stream",
          "name": "stdout",
          "text": [
            "El dataset ya se encuentra descargado\n"
          ]
        }
      ]
    },
    {
      "cell_type": "code",
      "metadata": {
        "id": "-9aNLZBDtA5J",
        "colab": {
          "base_uri": "https://localhost:8080/"
        },
        "outputId": "8b7d9d89-7d86-48e1-8365-cf405da4a771"
      },
      "source": [
        "# dataset_file\n",
        "\n",
        "text_file = \"./spa-eng/spa.txt\"\n",
        "with open(text_file) as f:\n",
        "    lines = f.read().split(\"\\n\")[:-1]\n",
        "\n",
        "# Por limitaciones de RAM no se leen todas las filas\n",
        "MAX_NUM_SENTENCES = 60000\n",
        "\n",
        "# Mezclar el dataset, forzar semilla siempre igual\n",
        "np.random.seed([40])\n",
        "np.random.shuffle(lines)\n",
        "\n",
        "input_sentences = []\n",
        "output_sentences = []\n",
        "output_sentences_inputs = []\n",
        "count = 0\n",
        "\n",
        "for line in lines:\n",
        "    count += 1\n",
        "    if count > MAX_NUM_SENTENCES:\n",
        "        break\n",
        "\n",
        "    if '\\t' not in line:\n",
        "        continue\n",
        "\n",
        "    # Input sentence --> eng\n",
        "    # output --> spa\n",
        "    input_sentence, output = line.rstrip().split('\\t')\n",
        "\n",
        "    # output sentence (decoder_output) tiene <eos>\n",
        "    output_sentence = output + ' <eos>'\n",
        "    # output sentence input (decoder_input) tiene <sos>\n",
        "    output_sentence_input = '<sos> ' + output\n",
        "\n",
        "    input_sentences.append(input_sentence)\n",
        "    output_sentences.append(output_sentence)\n",
        "    output_sentences_inputs.append(output_sentence_input)\n",
        "\n",
        "print(\"Cantidad de rows disponibles:\", len(lines))\n",
        "print(\"Cantidad de rows utilizadas:\", len(input_sentences))"
      ],
      "execution_count": 6,
      "outputs": [
        {
          "output_type": "stream",
          "name": "stdout",
          "text": [
            "Cantidad de rows disponibles: 118964\n",
            "Cantidad de rows utilizadas: 60000\n"
          ]
        }
      ]
    },
    {
      "cell_type": "code",
      "metadata": {
        "id": "93IGMKFb73q7",
        "colab": {
          "base_uri": "https://localhost:8080/"
        },
        "outputId": "f617a0e3-b4f4-4689-8662-019f85001b49"
      },
      "source": [
        "input_sentences[0], output_sentences[0], output_sentences_inputs[0]"
      ],
      "execution_count": 7,
      "outputs": [
        {
          "output_type": "execute_result",
          "data": {
            "text/plain": [
              "('A deal is a deal.',\n",
              " 'Un trato es un trato. <eos>',\n",
              " '<sos> Un trato es un trato.')"
            ]
          },
          "metadata": {},
          "execution_count": 7
        }
      ]
    },
    {
      "cell_type": "markdown",
      "metadata": {
        "id": "8P-ynUNP5xp6"
      },
      "source": [
        "### 2 - Preprocesamiento"
      ]
    },
    {
      "cell_type": "code",
      "metadata": {
        "id": "5WAZGOTfGyha"
      },
      "source": [
        "# Definir el tamaño máximo del vocabulario\n",
        "MAX_VOCAB_SIZE = 15000"
      ],
      "execution_count": 8,
      "outputs": []
    },
    {
      "cell_type": "code",
      "metadata": {
        "id": "eF1W6peoFGXA",
        "colab": {
          "base_uri": "https://localhost:8080/"
        },
        "outputId": "720f041a-af32-4824-e249-8ed5553e4369"
      },
      "source": [
        "# Tokenizar las palabras con el Tokenizer de Keras\n",
        "# Definir una máxima cantidad de palabras a utilizar:\n",
        "# - num_words --> the maximum number of words to keep, based on word frequency.\n",
        "# - Only the most common num_words-1 words will be kept.\n",
        "\n",
        "# tokenizador de inglés\n",
        "input_tokenizer = Tokenizer(num_words=MAX_VOCAB_SIZE)\n",
        "input_tokenizer.fit_on_texts(input_sentences)\n",
        "input_integer_seq = input_tokenizer.texts_to_sequences(input_sentences)\n",
        "\n",
        "word2idx_inputs = input_tokenizer.word_index\n",
        "print(\"Palabras en el vocabulario:\", len(word2idx_inputs))\n",
        "\n",
        "max_input_len = max(len(sen) for sen in input_integer_seq)\n",
        "print(\"Sentencia de entrada más larga:\", max_input_len)"
      ],
      "execution_count": 9,
      "outputs": [
        {
          "output_type": "stream",
          "name": "stdout",
          "text": [
            "Palabras en el vocabulario: 10692\n",
            "Sentencia de entrada más larga: 47\n"
          ]
        }
      ]
    },
    {
      "cell_type": "code",
      "metadata": {
        "id": "zBzdKiTVIBYY",
        "colab": {
          "base_uri": "https://localhost:8080/"
        },
        "outputId": "932488a9-e62f-4949-df2e-b3c59e2f570b"
      },
      "source": [
        "# A los filtros de símbolos del Tokenizer agregamos el \"¿\",\n",
        "# sacamos los \"<>\" para que no afectar nuestros tokens\n",
        "# tokenizador de español\n",
        "output_tokenizer = Tokenizer(num_words=MAX_VOCAB_SIZE, filters='!\"#$%&()*+,-./:;=¿?@[\\\\]^_`{|}~\\t\\n')\n",
        "output_tokenizer.fit_on_texts([\"<sos>\", \"<eos>\"] + output_sentences)\n",
        "output_integer_seq = output_tokenizer.texts_to_sequences(output_sentences)\n",
        "output_input_integer_seq = output_tokenizer.texts_to_sequences(output_sentences_inputs)\n",
        "\n",
        "word2idx_outputs = output_tokenizer.word_index\n",
        "print(\"Palabras en el vocabulario:\", len(word2idx_outputs))\n",
        "\n",
        "num_words_output = min(len(word2idx_outputs) + 1, MAX_VOCAB_SIZE) # Se suma 1 por el primer <sos>\n",
        "max_out_len = max(len(sen) for sen in output_integer_seq)\n",
        "print(\"Sentencia de salida más larga:\", max_out_len)"
      ],
      "execution_count": 10,
      "outputs": [
        {
          "output_type": "stream",
          "name": "stdout",
          "text": [
            "Palabras en el vocabulario: 19614\n",
            "Sentencia de salida más larga: 48\n"
          ]
        }
      ]
    },
    {
      "cell_type": "markdown",
      "metadata": {
        "id": "Xqb8ZJ4sJHgv"
      },
      "source": [
        "Como era de esperarse, las sentencias en castellano son más largas que en inglés, y lo mismo sucede con su vocabulario."
      ]
    },
    {
      "cell_type": "code",
      "metadata": {
        "id": "pgLC706EQx3p"
      },
      "source": [
        "# Por una cuestion de que no explote la RAM se limitará el tamaño de las sentencias de entrada\n",
        "# a la mitad:\n",
        "max_input_len = 47\n",
        "max_out_len = 50"
      ],
      "execution_count": 11,
      "outputs": []
    },
    {
      "cell_type": "markdown",
      "metadata": {
        "id": "hGOn9N57IuYz"
      },
      "source": [
        "A la hora de realizar padding es importante tener en cuenta que en el encoder los ceros se agregan al comienzo y en el decoder al final. Esto es porque la salida del encoder está basado en las últimas palabras de la sentencia (son las más importantes), mientras que en el decoder está basado en el comienzo de la secuencia de salida ya que es la realimentación del sistema y termina con fin de sentencia."
      ]
    },
    {
      "cell_type": "code",
      "metadata": {
        "id": "q0Ob4hAWJkcv",
        "colab": {
          "base_uri": "https://localhost:8080/"
        },
        "outputId": "6298a5c0-2a72-47d8-bc61-727e16823898"
      },
      "source": [
        "#from torch_helpers import pad_sequences\n",
        "print(\"Cantidad de rows del dataset:\", len(input_integer_seq))\n",
        "\n",
        "encoder_input_sequences = pad_sequences(input_integer_seq, maxlen=max_input_len)\n",
        "print(\"encoder_input_sequences shape:\", encoder_input_sequences.shape)\n",
        "\n",
        "decoder_input_sequences = pad_sequences(output_input_integer_seq, maxlen=max_out_len, padding='post')\n",
        "print(\"decoder_input_sequences shape:\", decoder_input_sequences.shape)"
      ],
      "execution_count": 12,
      "outputs": [
        {
          "output_type": "stream",
          "name": "stdout",
          "text": [
            "Cantidad de rows del dataset: 60000\n",
            "encoder_input_sequences shape: (60000, 47)\n",
            "decoder_input_sequences shape: (60000, 50)\n"
          ]
        }
      ]
    },
    {
      "cell_type": "code",
      "source": [
        "decoder_output_sequences = pad_sequences(output_integer_seq, maxlen=max_out_len, padding='post')\n",
        "print(\"decoder_output_sequences shape:\", decoder_output_sequences.shape)"
      ],
      "metadata": {
        "colab": {
          "base_uri": "https://localhost:8080/"
        },
        "id": "3VySR1pzx9UG",
        "outputId": "dd55f9e2-4ac2-46e9-9c87-48cc094355f8"
      },
      "execution_count": 13,
      "outputs": [
        {
          "output_type": "stream",
          "name": "stdout",
          "text": [
            "decoder_output_sequences shape: (60000, 50)\n"
          ]
        }
      ]
    },
    {
      "cell_type": "code",
      "source": [
        "torch.from_numpy(decoder_output_sequences).shape"
      ],
      "metadata": {
        "colab": {
          "base_uri": "https://localhost:8080/"
        },
        "id": "ANTOqJ0WWw-q",
        "outputId": "f55a32ae-6ddf-458b-9d39-4ab355c2a9ac"
      },
      "execution_count": 14,
      "outputs": [
        {
          "output_type": "execute_result",
          "data": {
            "text/plain": [
              "torch.Size([60000, 50])"
            ]
          },
          "metadata": {},
          "execution_count": 14
        }
      ]
    },
    {
      "cell_type": "code",
      "source": [
        "class Data(Dataset):\n",
        "    def __init__(self, encoder_input, decoder_input, decoder_output, pad_idx=0):\n",
        "        # Entradas como índices (Long)\n",
        "        self.encoder_inputs = torch.from_numpy(encoder_input.astype(np.int64))  # [N, Tenc]\n",
        "        self.decoder_inputs = torch.from_numpy(decoder_input.astype(np.int64))  # [N, Tdec]\n",
        "\n",
        "        # 🔧 SALIDA COMO ÍNDICES (¡sin one-hot!)\n",
        "        # decoder_output ya viene como índices [N, Tdec]\n",
        "        self.decoder_outputs = torch.from_numpy(decoder_output.astype(np.int64))  # [N, Tdec]\n",
        "        self.pad_idx = pad_idx\n",
        "\n",
        "        self.len = self.decoder_outputs.shape[0]\n",
        "\n",
        "    def __getitem__(self, index):\n",
        "        # Devolvemos todo como Long (índices)\n",
        "        return (\n",
        "            self.encoder_inputs[index].long(),\n",
        "            self.decoder_inputs[index].long(),\n",
        "            self.decoder_outputs[index].long()\n",
        "        )\n",
        "\n",
        "    def __len__(self):\n",
        "        return self.len"
      ],
      "metadata": {
        "id": "SD0bpM32yWfB"
      },
      "execution_count": 15,
      "outputs": []
    },
    {
      "cell_type": "code",
      "source": [
        "data_set = Data(\n",
        "    encoder_input_sequences,     # [N, Tenc] índices\n",
        "    decoder_input_sequences,     # [N, Tdec] índices (con <sos> al principio)\n",
        "    decoder_output_sequences,    # [N, Tdec] índices (próximo token)\n",
        "    pad_idx=0\n",
        ")\n",
        "\n",
        "encoder_input_size = data_set.encoder_inputs.shape[1]\n",
        "print(\"encoder_input_size:\", encoder_input_size)\n",
        "\n",
        "decoder_input_size = data_set.decoder_inputs.shape[1]\n",
        "print(\"decoder_input_size:\", decoder_input_size)\n",
        "\n",
        "print(\"Output dim (vocab_out):\", num_words_output)\n",
        "\n",
        "torch.manual_seed(42)\n",
        "valid_set_size = int(data_set.len * 0.2)\n",
        "train_set_size = data_set.len - valid_set_size\n",
        "\n",
        "train_set = torch.utils.data.Subset(data_set, range(train_set_size))\n",
        "valid_set = torch.utils.data.Subset(data_set, range(train_set_size, data_set.len))\n",
        "\n",
        "print(\"Tamaño train:\", len(train_set))\n",
        "print(\"Tamaño valid:\", len(valid_set))\n",
        "\n",
        "train_loader = torch.utils.data.DataLoader(train_set, batch_size=32, shuffle=True,  pin_memory=True)\n",
        "valid_loader = torch.utils.data.DataLoader(valid_set, batch_size=32, shuffle=False, pin_memory=True)\n"
      ],
      "metadata": {
        "colab": {
          "base_uri": "https://localhost:8080/"
        },
        "id": "sUDPZeuAU1RI",
        "outputId": "52b45999-e85d-412e-c7fa-c61d98293e74"
      },
      "execution_count": 16,
      "outputs": [
        {
          "output_type": "stream",
          "name": "stdout",
          "text": [
            "encoder_input_size: 47\n",
            "decoder_input_size: 50\n",
            "Output dim (vocab_out): 15000\n",
            "Tamaño train: 48000\n",
            "Tamaño valid: 12000\n"
          ]
        }
      ]
    },
    {
      "cell_type": "markdown",
      "metadata": {
        "id": "_CJIsLBbj6rg"
      },
      "source": [
        "### 3 - Preparar los embeddings"
      ]
    },
    {
      "cell_type": "code",
      "metadata": {
        "id": "9OcT-DLzkHS8",
        "colab": {
          "base_uri": "https://localhost:8080/"
        },
        "outputId": "3483d5ce-59f2-4ca7-fafa-a87dd28a274c"
      },
      "source": [
        "# Descargar los embeddings desde un google drive (es la forma más rápida)\n",
        "# NOTA: No hay garantía de que estos links perduren, en caso de que no estén\n",
        "# disponibles descargar de la página oficial como se explica en el siguiente bloque\n",
        "import os\n",
        "import gdown\n",
        "if os.access('gloveembedding.pkl', os.F_OK) is False:\n",
        "    url = 'https://drive.google.com/uc?id=1wlDBOrxPq2-3htQ6ryVo7K1XnzLcfh4r&export=download'\n",
        "    output = 'gloveembedding.pkl'\n",
        "    gdown.download(url, output, quiet=False)\n",
        "else:\n",
        "    print(\"Los embeddings gloveembedding.pkl ya están descargados\")"
      ],
      "execution_count": 17,
      "outputs": [
        {
          "output_type": "stream",
          "name": "stdout",
          "text": [
            "Los embeddings gloveembedding.pkl ya están descargados\n"
          ]
        }
      ]
    },
    {
      "cell_type": "code",
      "metadata": {
        "id": "ZgqtV8GpkSc8"
      },
      "source": [
        "import logging\n",
        "import os\n",
        "from pathlib import Path\n",
        "from io import StringIO\n",
        "import pickle\n",
        "\n",
        "class WordsEmbeddings(object):\n",
        "    logger = logging.getLogger(__name__)\n",
        "\n",
        "    def __init__(self):\n",
        "        # load the embeddings\n",
        "        words_embedding_pkl = Path(self.PKL_PATH)\n",
        "        if not words_embedding_pkl.is_file():\n",
        "            words_embedding_txt = Path(self.WORD_TO_VEC_MODEL_TXT_PATH)\n",
        "            assert words_embedding_txt.is_file(), 'Words embedding not available'\n",
        "            embeddings = self.convert_model_to_pickle()\n",
        "        else:\n",
        "            embeddings = self.load_model_from_pickle()\n",
        "        self.embeddings = embeddings\n",
        "        # build the vocabulary hashmap\n",
        "        index = np.arange(self.embeddings.shape[0])\n",
        "        # Dicctionarios para traducir de embedding a IDX de la palabra\n",
        "        self.word2idx = dict(zip(self.embeddings['word'], index))\n",
        "        self.idx2word = dict(zip(index, self.embeddings['word']))\n",
        "\n",
        "    def get_words_embeddings(self, words):\n",
        "        words_idxs = self.words2idxs(words)\n",
        "        return self.embeddings[words_idxs]['embedding']\n",
        "\n",
        "    def words2idxs(self, words):\n",
        "        return np.array([self.word2idx.get(word, -1) for word in words])\n",
        "\n",
        "    def idxs2words(self, idxs):\n",
        "        return np.array([self.idx2word.get(idx, '-1') for idx in idxs])\n",
        "\n",
        "    def load_model_from_pickle(self):\n",
        "        self.logger.debug(\n",
        "            'loading words embeddings from pickle {}'.format(\n",
        "                self.PKL_PATH\n",
        "            )\n",
        "        )\n",
        "        max_bytes = 2**28 - 1 # 256MB\n",
        "        bytes_in = bytearray(0)\n",
        "        input_size = os.path.getsize(self.PKL_PATH)\n",
        "        with open(self.PKL_PATH, 'rb') as f_in:\n",
        "            for _ in range(0, input_size, max_bytes):\n",
        "                bytes_in += f_in.read(max_bytes)\n",
        "        embeddings = pickle.loads(bytes_in)\n",
        "        self.logger.debug('words embeddings loaded')\n",
        "        return embeddings\n",
        "\n",
        "    def convert_model_to_pickle(self):\n",
        "        # create a numpy strctured array:\n",
        "        # word     embedding\n",
        "        # U50      np.float32[]\n",
        "        # word_1   a, b, c\n",
        "        # word_2   d, e, f\n",
        "        # ...\n",
        "        # word_n   g, h, i\n",
        "        self.logger.debug(\n",
        "            'converting and loading words embeddings from text file {}'.format(\n",
        "                self.WORD_TO_VEC_MODEL_TXT_PATH\n",
        "            )\n",
        "        )\n",
        "        structure = [('word', np.dtype('U' + str(self.WORD_MAX_SIZE))),\n",
        "                     ('embedding', np.float32, (self.N_FEATURES,))]\n",
        "        structure = np.dtype(structure)\n",
        "        # load numpy array from disk using a generator\n",
        "        with open(self.WORD_TO_VEC_MODEL_TXT_PATH, encoding=\"utf8\") as words_embeddings_txt:\n",
        "            embeddings_gen = (\n",
        "                (line.split()[0], line.split()[1:]) for line in words_embeddings_txt\n",
        "                if len(line.split()[1:]) == self.N_FEATURES\n",
        "            )\n",
        "            embeddings = np.fromiter(embeddings_gen, structure)\n",
        "        # add a null embedding\n",
        "        null_embedding = np.array(\n",
        "            [('null_embedding', np.zeros((self.N_FEATURES,), dtype=np.float32))],\n",
        "            dtype=structure\n",
        "        )\n",
        "        embeddings = np.concatenate([embeddings, null_embedding])\n",
        "        # dump numpy array to disk using pickle\n",
        "        max_bytes = 2**28 - 1 # # 256MB\n",
        "        bytes_out = pickle.dumps(embeddings, protocol=pickle.HIGHEST_PROTOCOL)\n",
        "        with open(self.PKL_PATH, 'wb') as f_out:\n",
        "            for idx in range(0, len(bytes_out), max_bytes):\n",
        "                f_out.write(bytes_out[idx:idx+max_bytes])\n",
        "        self.logger.debug('words embeddings loaded')\n",
        "        return embeddings\n",
        "\n",
        "\n",
        "class GloveEmbeddings(WordsEmbeddings):\n",
        "    WORD_TO_VEC_MODEL_TXT_PATH = 'glove.twitter.27B.50d.txt'\n",
        "    PKL_PATH = 'gloveembedding.pkl'\n",
        "    N_FEATURES = 50\n",
        "    WORD_MAX_SIZE = 60\n",
        "\n",
        "class FasttextEmbeddings(WordsEmbeddings):\n",
        "    WORD_TO_VEC_MODEL_TXT_PATH = 'cc.en.300.vec'\n",
        "    PKL_PATH = 'fasttext.pkl'\n",
        "    N_FEATURES = 300\n",
        "    WORD_MAX_SIZE = 60"
      ],
      "execution_count": 18,
      "outputs": []
    },
    {
      "cell_type": "code",
      "metadata": {
        "id": "Mosj2-x-kXBK"
      },
      "source": [
        "# Por una cuestion de RAM se utilizará los embeddings de Glove de dimension 50\n",
        "model_embeddings = GloveEmbeddings()"
      ],
      "execution_count": 19,
      "outputs": []
    },
    {
      "cell_type": "code",
      "metadata": {
        "id": "b9FS8ca1ke_B",
        "colab": {
          "base_uri": "https://localhost:8080/"
        },
        "outputId": "5c4fa314-2bb4-4710-bb8d-e4afbf6926fb"
      },
      "source": [
        "# Crear la Embedding matrix de las secuencias\n",
        "# en ingles\n",
        "\n",
        "print('preparing embedding matrix...')\n",
        "embed_dim = model_embeddings.N_FEATURES\n",
        "words_not_found = []\n",
        "\n",
        "# word_index provienen del tokenizer\n",
        "\n",
        "nb_words = min(MAX_VOCAB_SIZE, len(word2idx_inputs)) # vocab_size\n",
        "embedding_matrix = np.zeros((nb_words, embed_dim))\n",
        "for word, i in word2idx_inputs.items():\n",
        "    if i >= nb_words:\n",
        "        continue\n",
        "    embedding_vector = model_embeddings.get_words_embeddings(word)[0]\n",
        "    if (embedding_vector is not None) and len(embedding_vector) > 0:\n",
        "\n",
        "        embedding_matrix[i] = embedding_vector\n",
        "    else:\n",
        "        # words not found in embedding index will be all-zeros.\n",
        "        words_not_found.append(word)\n",
        "\n",
        "print('number of null word embeddings:', np.sum(np.sum(embedding_matrix, axis=1) == 0))"
      ],
      "execution_count": 20,
      "outputs": [
        {
          "output_type": "stream",
          "name": "stdout",
          "text": [
            "preparing embedding matrix...\n",
            "number of null word embeddings: 145\n"
          ]
        }
      ]
    },
    {
      "cell_type": "code",
      "source": [
        "nb_words"
      ],
      "metadata": {
        "colab": {
          "base_uri": "https://localhost:8080/"
        },
        "id": "4q3U_WmEYRdH",
        "outputId": "8558dba4-743a-4333-b30c-ffb0ff69dfaf"
      },
      "execution_count": 21,
      "outputs": [
        {
          "output_type": "execute_result",
          "data": {
            "text/plain": [
              "10692"
            ]
          },
          "metadata": {},
          "execution_count": 21
        }
      ]
    },
    {
      "cell_type": "code",
      "metadata": {
        "id": "FpzJODHBlAtE",
        "colab": {
          "base_uri": "https://localhost:8080/"
        },
        "outputId": "47fe0cd4-4285-4f17-dbc0-3293465bbd97"
      },
      "source": [
        "# Dimensión de los embeddings de la secuencia en ingles\n",
        "embedding_matrix.shape"
      ],
      "execution_count": 22,
      "outputs": [
        {
          "output_type": "execute_result",
          "data": {
            "text/plain": [
              "(10692, 50)"
            ]
          },
          "metadata": {},
          "execution_count": 22
        }
      ]
    },
    {
      "cell_type": "code",
      "source": [
        "nb_words_needed = int(encoder_input_sequences.max()) + 1\n",
        "if nb_words_needed > nb_words:\n",
        "    rows_to_add = nb_words_needed - nb_words\n",
        "    import numpy as np\n",
        "    extra = np.zeros((rows_to_add, embed_dim), dtype=embedding_matrix.dtype)  # o randn*1e-3\n",
        "    embedding_matrix = np.vstack([embedding_matrix, extra])\n",
        "    nb_words = nb_words_needed\n"
      ],
      "metadata": {
        "id": "Pr5ma2EF7zya"
      },
      "execution_count": 23,
      "outputs": []
    },
    {
      "cell_type": "code",
      "source": [
        "nb_words"
      ],
      "metadata": {
        "colab": {
          "base_uri": "https://localhost:8080/"
        },
        "id": "DQ05swBR71bO",
        "outputId": "ea1919fe-8d9a-4d4a-c51a-18f3e0937e4f"
      },
      "execution_count": 24,
      "outputs": [
        {
          "output_type": "execute_result",
          "data": {
            "text/plain": [
              "10693"
            ]
          },
          "metadata": {},
          "execution_count": 24
        }
      ]
    },
    {
      "cell_type": "markdown",
      "metadata": {
        "id": "3vKbhjtIwPgM"
      },
      "source": [
        "### 4 - Entrenar el modelo"
      ]
    },
    {
      "cell_type": "code",
      "source": [
        "import torch\n",
        "import torch.nn as nn\n",
        "import torch.nn.functional as F\n",
        "import math\n",
        "\n",
        "# ====== HYPERPARÁMETROS (mismos nombres que en Keras) ======\n",
        "n_units = 128\n",
        "# nb_words, embed_dim, embedding_matrix, max_input_len,\n",
        "# num_words_output, max_out_len deben existir como en tu notebook.\n",
        "\n",
        "# ====== INICIALIZACIONES \"estilo Keras\" ======\n",
        "def glorot_uniform_(w):\n",
        "    fan_in = w.size(1)\n",
        "    fan_out = w.size(0) // 4  # por gate, pero usamos el total para el mismo límite\n",
        "    # Usamos fan_in+fan_out como en Glorot; PyTorch concatena 4 gates en dim=0\n",
        "    limit = math.sqrt(6.0 / (fan_in + fan_out))\n",
        "    with torch.no_grad():\n",
        "        w.uniform_(-limit, limit)\n",
        "\n",
        "def orthogonal_per_gate_(w, hidden_size):\n",
        "    # w shape: (4*hidden, hidden). Keras hace orthogonal por gate.\n",
        "    with torch.no_grad():\n",
        "        for g in range(4):\n",
        "            start = g * hidden_size\n",
        "            end = (g + 1) * hidden_size\n",
        "            nn.init.orthogonal_(w[start:end, :])\n",
        "\n",
        "def set_forget_bias_keras_(bias, hidden_size):\n",
        "    # bias shape: (4*hidden,)\n",
        "    # Keras pone forget gate bias = 1\n",
        "    with torch.no_grad():\n",
        "        bias.zero_()\n",
        "        bias[hidden_size:2*hidden_size] = 1.0\n",
        "\n",
        "# ====== LSTM con init estilo Keras y \"single bias\" ======\n",
        "def keras_like_lstm_(lstm: nn.LSTM, input_size, hidden_size):\n",
        "    assert lstm.input_size == input_size and lstm.hidden_size == hidden_size\n",
        "    # Pesos entrada (W) -> glorot_uniform\n",
        "    glorot_uniform_(lstm.weight_ih_l0)\n",
        "    # Pesos recurrentes (U) -> orthogonal por gate\n",
        "    orthogonal_per_gate_(lstm.weight_hh_l0, hidden_size)\n",
        "    # Bias: usamos sólo bias_ih como \"bias único\" (como Keras)\n",
        "    set_forget_bias_keras_(lstm.bias_ih_l0, hidden_size)\n",
        "    with torch.no_grad():\n",
        "        lstm.bias_hh_l0.zero_()\n",
        "    lstm.bias_hh_l0.requires_grad = False  # no entrenable, emula \"un solo bias\"\n",
        "\n",
        "class Encoder(nn.Module):\n",
        "    def __init__(self, nb_words, embed_dim, embedding_matrix, n_units):\n",
        "        super().__init__()\n",
        "        self.embedding = nn.Embedding(nb_words, embed_dim, padding_idx=0)\n",
        "        # cargar y congelar\n",
        "        with torch.no_grad():\n",
        "            self.embedding.weight.copy_(torch.from_numpy(embedding_matrix).to(self.embedding.weight.device))\n",
        "        self.embedding.weight.requires_grad = False\n",
        "\n",
        "        self.lstm = nn.LSTM(\n",
        "            input_size=embed_dim,\n",
        "            hidden_size=n_units,\n",
        "            num_layers=1,\n",
        "            batch_first=True,\n",
        "            bias=True  # tendremos bias_ih entrenable y bias_hh congelado en 0\n",
        "        )\n",
        "        keras_like_lstm_(self.lstm, embed_dim, n_units)\n",
        "\n",
        "    def forward(self, x):\n",
        "        # x: [B, T_enc] (Long)\n",
        "        x = self.embedding(x)           # [B, T_enc, E]\n",
        "        out, (h, c) = self.lstm(x)      # h,c: [1, B, H]\n",
        "        return (h, c)\n",
        "\n",
        "class Decoder(nn.Module):\n",
        "    def __init__(self, num_words_output, n_units, max_out_len):\n",
        "        super().__init__()\n",
        "        # En Keras: decoder Embedding output_dim = n_units\n",
        "        self.embedding = nn.Embedding(num_words_output, n_units, padding_idx=0)\n",
        "\n",
        "        self.lstm = nn.LSTM(\n",
        "            input_size=n_units,     # <- igual a Keras\n",
        "            hidden_size=n_units,\n",
        "            num_layers=1,\n",
        "            batch_first=True,\n",
        "            bias=True\n",
        "        )\n",
        "        keras_like_lstm_(self.lstm, n_units, n_units)\n",
        "\n",
        "        # Dense (time-distributed): misma capa compartida en todos los pasos\n",
        "        self.fc = nn.Linear(n_units, num_words_output)\n",
        "\n",
        "    def forward(self, y_in, state):\n",
        "        # y_in: [B, T_dec] (Long), state = (h, c) del encoder\n",
        "        y = self.embedding(y_in)            # [B, T_dec, H]\n",
        "        out, (h, c) = self.lstm(y, state)   # out: [B, T_dec, H]\n",
        "        logits = self.fc(out)               # [B, T_dec, V]\n",
        "        return logits, (h, c)\n",
        "\n",
        "class Seq2Seq(nn.Module):\n",
        "    def __init__(self, encoder, decoder):\n",
        "        super().__init__()\n",
        "        self.encoder = encoder\n",
        "        self.decoder = decoder\n",
        "\n",
        "    def forward(self, encoder_inputs, decoder_inputs):\n",
        "        state = self.encoder(encoder_inputs)\n",
        "        logits, _ = self.decoder(decoder_inputs, state)\n",
        "        # logits: [B, T_dec, V] (equivalente a salida del Dense en Keras)\n",
        "        return logits\n",
        "\n",
        "# ====== Construcción del modelo (mismos símbolos que en Keras) ======\n",
        "# Supone que ya se tiene: nb_words, embed_dim, embedding_matrix, num_words_output, max_input_len, max_out_len.\n",
        "device = torch.device(\"cuda\" if torch.cuda.is_available() else \"cpu\")\n",
        "\n",
        "encoder = Encoder(nb_words, embed_dim, embedding_matrix, n_units)\n",
        "decoder = Decoder(num_words_output, n_units, max_out_len)\n",
        "model = Seq2Seq(encoder, decoder).to(device)\n",
        "\n",
        "# ====== Ejemplo de \"compilación\" y pérdida (equivalente conceptual) ======\n",
        "# En Keras se usaba 'categorical_crossentropy' con one-hot. En PyTorch:\n",
        "# - usar CrossEntropyLoss sobre logits y targets como índices (sin softmax).\n",
        "criterion = nn.CrossEntropyLoss()  # ignorá padding si usás 0\n",
        "pad_idx = 0\n",
        "optimizer = torch.optim.Adam(model.parameters(), lr=1e-3, eps=1e-7)\n",
        "\n",
        "# ====== Ejemplo de forward ======\n",
        "# encoder_inputs: LongTensor [B, T_enc], decoder_inputs: LongTensor [B, T_dec]\n",
        "# logits = model(encoder_inputs, decoder_inputs)  # [B, T_dec, V]\n",
        "# loss = criterion(logits.view(-1, num_words_output), target_indices.view(-1))\n",
        "# loss.backward(); optimizer.step()"
      ],
      "metadata": {
        "id": "S7KfWvFXmN9H"
      },
      "execution_count": 25,
      "outputs": []
    },
    {
      "cell_type": "code",
      "source": [
        "from torchinfo import summary\n",
        "\n",
        "B = 2  # batch chico para el summary\n",
        "\n",
        "# Tensores de ejemplo EN EL MISMO DEVICE DEL MODELO y con dtype=Long\n",
        "dummy_enc = torch.randint(0, nb_words,        (B, max_input_len),  device=device, dtype=torch.long)\n",
        "dummy_dec = torch.randint(0, num_words_output,(B, max_out_len),    device=device, dtype=torch.long)\n",
        "\n",
        "# Para modelos con múltiples entradas, pasar una tupla en input_data\n",
        "summary(model,\n",
        "        input_data=(dummy_enc, dummy_dec),\n",
        "        device=device,                 # fuerza a ejecutar en ese device\n",
        "        depth=3,                       # opcional\n",
        "        col_names=(\"input_size\",\"output_size\",\"num_params\",\"trainable\"))"
      ],
      "metadata": {
        "colab": {
          "base_uri": "https://localhost:8080/"
        },
        "id": "A2ljfUgDrofn",
        "outputId": "2392846d-4fa5-4186-896d-32cc538c9ae6"
      },
      "execution_count": 26,
      "outputs": [
        {
          "output_type": "execute_result",
          "data": {
            "text/plain": [
              "============================================================================================================================================\n",
              "Layer (type:depth-idx)                   Input Shape               Output Shape              Param #                   Trainable\n",
              "============================================================================================================================================\n",
              "Seq2Seq                                  [2, 47]                   [2, 50, 15000]            --                        Partial\n",
              "├─Encoder: 1-1                           [2, 47]                   [1, 2, 128]               --                        Partial\n",
              "│    └─Embedding: 2-1                    [2, 47]                   [2, 47, 50]               (534,650)                 False\n",
              "│    └─LSTM: 2-2                         [2, 47, 50]               [2, 47, 128]              92,160                    Partial\n",
              "├─Decoder: 1-2                           [2, 50]                   [2, 50, 15000]            --                        Partial\n",
              "│    └─Embedding: 2-3                    [2, 50]                   [2, 50, 128]              1,920,000                 True\n",
              "│    └─LSTM: 2-4                         [2, 50, 128]              [2, 50, 128]              132,096                   Partial\n",
              "│    └─Linear: 2-5                       [2, 50, 128]              [2, 50, 15000]            1,935,000                 True\n",
              "============================================================================================================================================\n",
              "Total params: 4,613,906\n",
              "Trainable params: 4,078,232\n",
              "Non-trainable params: 535,674\n",
              "Total mult-adds (Units.MEGABYTES): 30.65\n",
              "============================================================================================================================================\n",
              "Input size (MB): 0.00\n",
              "Forward/backward pass size (MB): 12.34\n",
              "Params size (MB): 18.46\n",
              "Estimated Total Size (MB): 30.80\n",
              "============================================================================================================================================"
            ]
          },
          "metadata": {},
          "execution_count": 26
        }
      ]
    },
    {
      "cell_type": "code",
      "source": [
        "def token_accuracy_incl_pad(logits, y_true):\n",
        "    # logits: [B, T, V]; y_true: [B, T] (Long)\n",
        "    pred = logits.argmax(dim=-1)     # [B, T]\n",
        "    return (pred == y_true).float().mean()"
      ],
      "metadata": {
        "id": "Ob8XZzqZ2AAC"
      },
      "execution_count": 28,
      "outputs": []
    },
    {
      "cell_type": "code",
      "source": [
        "def train(model, train_loader, valid_loader, optimizer, criterion, epochs=15, device=None,\n",
        "          metric_fn=token_accuracy_incl_pad, print_per_epoch=True):\n",
        "    if device is None:\n",
        "        device = next(model.parameters()).device\n",
        "\n",
        "    hist = {\"loss\": [], \"accuracy\": [], \"val_loss\": [], \"val_accuracy\": []}\n",
        "\n",
        "    for epoch in range(epochs):\n",
        "        # ===== TRAIN =====\n",
        "        model.train()\n",
        "        ep_loss = 0.0\n",
        "        ep_acc  = 0.0\n",
        "        for enc_in, dec_in, y_true in train_loader:\n",
        "            enc_in = enc_in.to(device).long()\n",
        "            dec_in = dec_in.to(device).long()\n",
        "            y_true = y_true.to(device).long()\n",
        "\n",
        "            optimizer.zero_grad()\n",
        "            logits = model(enc_in, dec_in)      # [B, T, V]\n",
        "            B, T, V = logits.shape\n",
        "            loss = criterion(logits.reshape(B*T, V), y_true.reshape(B*T))\n",
        "            loss.backward()\n",
        "            optimizer.step()\n",
        "\n",
        "            ep_loss += loss.item()\n",
        "            ep_acc  += metric_fn(logits, y_true).item()\n",
        "\n",
        "        ep_loss /= len(train_loader)\n",
        "        ep_acc  /= len(train_loader)\n",
        "        hist[\"loss\"].append(ep_loss)\n",
        "        hist[\"accuracy\"].append(ep_acc)\n",
        "\n",
        "        # ===== VALID =====\n",
        "        model.eval()\n",
        "        v_loss = 0.0\n",
        "        v_acc  = 0.0\n",
        "        with torch.no_grad():\n",
        "            for enc_in, dec_in, y_true in valid_loader:\n",
        "                enc_in = enc_in.to(device).long()\n",
        "                dec_in = dec_in.to(device).long()\n",
        "                y_true = y_true.to(device).long()\n",
        "\n",
        "                logits = model(enc_in, dec_in)\n",
        "                B, T, V = logits.shape\n",
        "                loss = criterion(logits.reshape(B*T, V), y_true.reshape(B*T))\n",
        "\n",
        "                v_loss += loss.item()\n",
        "                v_acc  += metric_fn(logits, y_true).item()\n",
        "\n",
        "        v_loss /= len(valid_loader)\n",
        "        v_acc  /= len(valid_loader)\n",
        "        hist[\"val_loss\"].append(v_loss)\n",
        "        hist[\"val_accuracy\"].append(v_acc)\n",
        "\n",
        "        if print_per_epoch:\n",
        "            print(f\"Epoch {epoch+1:03d}/{epochs} \"\n",
        "                  f\"- Train loss {ep_loss:.4f} - Train acc {ep_acc:.4f} \"\n",
        "                  f\"- Valid loss {v_loss:.4f} - Valid acc {v_acc:.4f}\")\n",
        "\n",
        "    return hist"
      ],
      "metadata": {
        "id": "t0YDjhY6tZKC"
      },
      "execution_count": 29,
      "outputs": []
    },
    {
      "cell_type": "code",
      "source": [
        "device = torch.device(\"cuda\" if torch.cuda.is_available() else \"cpu\")\n",
        "\n",
        "history = train(\n",
        "    model=model,\n",
        "    train_loader=train_loader,\n",
        "    valid_loader=valid_loader,\n",
        "    optimizer=optimizer,\n",
        "    criterion=criterion,\n",
        "    epochs=15,\n",
        "    device=device\n",
        ")"
      ],
      "metadata": {
        "colab": {
          "base_uri": "https://localhost:8080/"
        },
        "id": "VDB0KWIegt8s",
        "outputId": "2f82c73e-f2c7-4499-a1e3-df1bbee257cc"
      },
      "execution_count": 30,
      "outputs": [
        {
          "output_type": "stream",
          "name": "stdout",
          "text": [
            "Epoch 001/15 - Train loss 0.8844 - Train acc 0.8827 - Valid loss 0.6626 - Valid acc 0.8967\n",
            "Epoch 002/15 - Train loss 0.6269 - Train acc 0.8994 - Valid loss 0.5933 - Valid acc 0.9024\n",
            "Epoch 003/15 - Train loss 0.5591 - Train acc 0.9046 - Valid loss 0.5589 - Valid acc 0.9059\n",
            "Epoch 004/15 - Train loss 0.5121 - Train acc 0.9081 - Valid loss 0.5386 - Valid acc 0.9081\n",
            "Epoch 005/15 - Train loss 0.4753 - Train acc 0.9109 - Valid loss 0.5269 - Valid acc 0.9096\n",
            "Epoch 006/15 - Train loss 0.4448 - Train acc 0.9136 - Valid loss 0.5187 - Valid acc 0.9105\n",
            "Epoch 007/15 - Train loss 0.4182 - Train acc 0.9162 - Valid loss 0.5137 - Valid acc 0.9111\n",
            "Epoch 008/15 - Train loss 0.3952 - Train acc 0.9188 - Valid loss 0.5119 - Valid acc 0.9117\n",
            "Epoch 009/15 - Train loss 0.3745 - Train acc 0.9215 - Valid loss 0.5107 - Valid acc 0.9123\n",
            "Epoch 010/15 - Train loss 0.3561 - Train acc 0.9242 - Valid loss 0.5103 - Valid acc 0.9128\n",
            "Epoch 011/15 - Train loss 0.3396 - Train acc 0.9267 - Valid loss 0.5108 - Valid acc 0.9130\n",
            "Epoch 012/15 - Train loss 0.3246 - Train acc 0.9291 - Valid loss 0.5137 - Valid acc 0.9131\n",
            "Epoch 013/15 - Train loss 0.3111 - Train acc 0.9316 - Valid loss 0.5154 - Valid acc 0.9135\n",
            "Epoch 014/15 - Train loss 0.2986 - Train acc 0.9337 - Valid loss 0.5187 - Valid acc 0.9132\n",
            "Epoch 015/15 - Train loss 0.2872 - Train acc 0.9358 - Valid loss 0.5218 - Valid acc 0.9134\n"
          ]
        }
      ]
    },
    {
      "cell_type": "code",
      "source": [
        "epoch_count = range(1, len(history['accuracy']) + 1)\n",
        "sns.lineplot(x=epoch_count,  y=history['accuracy'], label='train')\n",
        "sns.lineplot(x=epoch_count,  y=history['val_accuracy'], label='valid')\n",
        "plt.show()"
      ],
      "metadata": {
        "colab": {
          "base_uri": "https://localhost:8080/",
          "height": 430
        },
        "id": "pZzm3tx059Zv",
        "outputId": "8e17ed04-a1a7-4104-fd31-4000ae251051"
      },
      "execution_count": 31,
      "outputs": [
        {
          "output_type": "display_data",
          "data": {
            "text/plain": [
              "<Figure size 640x480 with 1 Axes>"
            ],
            "image/png": "[encoded data removed]"
          },
          "metadata": {}
        }
      ]
    },
    {
      "cell_type": "markdown",
      "metadata": {
        "id": "Zbwn0ekDy_s2"
      },
      "source": [
        "### 5 - Inferencia"
      ]
    },
    {
      "cell_type": "code",
      "metadata": {
        "id": "jnkl3mSpsU_7",
        "colab": {
          "base_uri": "https://localhost:8080/",
          "height": 55
        },
        "outputId": "c7e58f6c-dd3d-4e46-eddd-69941154f6e6"
      },
      "source": [
        "'''\n",
        "Step 1:\n",
        "A deal is a deal -> Encoder -> enc(h1,c1)\n",
        "\n",
        "enc(h1,c1) + <sos> -> Decoder -> Un + dec(h1,c1)\n",
        "\n",
        "step 2:\n",
        "dec(h1,c1) + Un -> Decoder -> trato + dec(h2,c2)\n",
        "\n",
        "step 3:\n",
        "dec(h2,c2) + trato -> Decoder -> es + dec(h3,c3)\n",
        "\n",
        "step 4:\n",
        "dec(h3,c3) + es -> Decoder -> un + dec(h4,c4)\n",
        "\n",
        "step 5:\n",
        "dec(h4,c4) + un -> Decoder -> trato + dec(h5,c5)\n",
        "\n",
        "step 6:\n",
        "dec(h5,c5) + trato. -> Decoder -> <eos> + dec(h6,c6)\n",
        "'''"
      ],
      "execution_count": 32,
      "outputs": [
        {
          "output_type": "execute_result",
          "data": {
            "text/plain": [
              "'\\nStep 1:\\nA deal is a deal -> Encoder -> enc(h1,c1)\\n\\nenc(h1,c1) + <sos> -> Decoder -> Un + dec(h1,c1)\\n\\nstep 2:\\ndec(h1,c1) + Un -> Decoder -> trato + dec(h2,c2)\\n\\nstep 3:\\ndec(h2,c2) + trato -> Decoder -> es + dec(h3,c3)\\n\\nstep 4:\\ndec(h3,c3) + es -> Decoder -> un + dec(h4,c4)\\n\\nstep 5:\\ndec(h4,c4) + un -> Decoder -> trato + dec(h5,c5)\\n\\nstep 6:\\ndec(h5,c5) + trato. -> Decoder -> <eos> + dec(h6,c6)\\n'"
            ],
            "application/vnd.google.colaboratory.intrinsic+json": {
              "type": "string"
            }
          },
          "metadata": {},
          "execution_count": 32
        }
      ]
    },
    {
      "cell_type": "code",
      "metadata": {
        "id": "71XeCtfYmOFx"
      },
      "source": [
        "# Armar los conversores de indice a palabra:\n",
        "idx2word_input = {v:k for k, v in word2idx_inputs.items()}\n",
        "idx2word_target = {v:k for k, v in word2idx_outputs.items()}"
      ],
      "execution_count": 33,
      "outputs": []
    },
    {
      "cell_type": "code",
      "source": [
        "import torch\n",
        "import numpy as np\n",
        "\n",
        "def translate_sentence(input_seq, model, word2idx_outputs, idx2word_target, max_out_len, device):\n",
        "    \"\"\"\n",
        "    input_seq: array/list/torch.Tensor con ids de la oración fuente [T_enc]\n",
        "    model: tu Seq2Seq ya cargado en 'device'\n",
        "    word2idx_outputs: dict con '<sos>' y '<eos>'\n",
        "    idx2word_target: dict id->palabra del vocab de salida\n",
        "    max_out_len: longitud máxima a decodificar\n",
        "    device: torch.device\n",
        "    \"\"\"\n",
        "    model.eval()\n",
        "    sos = word2idx_outputs['<sos>']\n",
        "    eos = word2idx_outputs['<eos>']\n",
        "\n",
        "    # --- preparar encoder input [1, T_enc] como Long en device\n",
        "    if isinstance(input_seq, np.ndarray):\n",
        "        enc = torch.from_numpy(input_seq.astype(np.int64))\n",
        "    else:\n",
        "        enc = torch.as_tensor(input_seq, dtype=torch.long)\n",
        "    if enc.dim() == 1:\n",
        "        enc = enc.unsqueeze(0)  # [1, T_enc]\n",
        "    enc = enc.to(device)\n",
        "\n",
        "    with torch.no_grad():\n",
        "        # estados iniciales del decoder\n",
        "        prev_state = model.encoder(enc)                 # (h,c) con shapes [1, 1, H]\n",
        "\n",
        "        # primer token de entrada al decoder: <sos>\n",
        "        tgt = torch.tensor([[sos]], dtype=torch.long, device=device)  # [1,1]\n",
        "\n",
        "        output_words = []\n",
        "        for _ in range(max_out_len):\n",
        "            logits, prev_state = model.decoder(tgt, prev_state)   # logits: [1, 1, V]\n",
        "\n",
        "            # tomar el último paso temporal y argmax sobre vocab\n",
        "            next_token = logits[:, -1, :].argmax(dim=-1)          # [1]\n",
        "            idx = next_token.item()\n",
        "\n",
        "            if idx == eos:\n",
        "                break\n",
        "            # opcional: ignorar PAD(0) y <sos> si aparecen\n",
        "            if idx != 0 and idx != sos:\n",
        "                # Check if the predicted index is in the vocabulary\n",
        "                if idx in idx2word_target:\n",
        "                    output_words.append(idx2word_target[idx])\n",
        "                else:\n",
        "                    # Handle cases where the predicted index is not in the vocabulary\n",
        "                    output_words.append(f'[UNK:{idx}]') # Or some other indicator\n",
        "\n",
        "\n",
        "            # realimentar el token predicho al decoder\n",
        "            tgt = next_token.view(1, 1)                           # [1,1]\n",
        "\n",
        "    return \" \".join(output_words)"
      ],
      "metadata": {
        "id": "UMpI-I5s_EGU"
      },
      "execution_count": 34,
      "outputs": []
    },
    {
      "cell_type": "code",
      "source": [
        "# ========= Ejemplo de traducción =========\n",
        "input_test = \"My mother say hi.\"\n",
        "print('Input:', input_test)\n",
        "\n",
        "# Tokenizar\n",
        "integer_seq_test = input_tokenizer.texts_to_sequences([input_test])[0]\n",
        "print(\"Representación en vector de tokens de ids:\", integer_seq_test)\n",
        "\n",
        "# Padding a la longitud máxima del encoder\n",
        "encoder_sequence_test = pad_sequences([integer_seq_test], maxlen=max_input_len)\n",
        "print(\"Padding del vector:\", encoder_sequence_test)\n",
        "\n",
        "# Traducción\n",
        "translation = translate_sentence(\n",
        "    encoder_sequence_test,\n",
        "    model,\n",
        "    word2idx_outputs,\n",
        "    idx2word_target,\n",
        "    max_out_len,\n",
        "    device\n",
        ")\n",
        "\n",
        "print('Response:', translation)"
      ],
      "metadata": {
        "colab": {
          "base_uri": "https://localhost:8080/"
        },
        "id": "aZ5uslBu_r2T",
        "outputId": "bc960d28-81d1-487c-89e5-76dfc386a790"
      },
      "execution_count": 35,
      "outputs": [
        {
          "output_type": "stream",
          "name": "stdout",
          "text": [
            "Input: My mother say hi.\n",
            "Representación en vector de tokens de ids: [18, 206, 130, 2574]\n",
            "Padding del vector: [[   0    0    0    0    0    0    0    0    0    0    0    0    0    0\n",
            "     0    0    0    0    0    0    0    0    0    0    0    0    0    0\n",
            "     0    0    0    0    0    0    0    0    0    0    0    0    0    0\n",
            "     0   18  206  130 2574]]\n",
            "Response: mi madre se casó\n"
          ]
        }
      ]
    },
    {
      "cell_type": "code",
      "source": [
        "# ========= Ejemplo de traducción =========\n",
        "input_test = \"I like dogs and cats.\"\n",
        "print('Input:', input_test)\n",
        "\n",
        "# Tokenizar\n",
        "integer_seq_test = input_tokenizer.texts_to_sequences([input_test])[0]\n",
        "print(\"Representación en vector de tokens de ids:\", integer_seq_test)\n",
        "\n",
        "# Padding a la longitud máxima del encoder\n",
        "encoder_sequence_test = pad_sequences([integer_seq_test], maxlen=max_input_len)\n",
        "print(\"Padding del vector:\", encoder_sequence_test)\n",
        "\n",
        "# Traducción\n",
        "translation = translate_sentence(\n",
        "    encoder_sequence_test,\n",
        "    model,\n",
        "    word2idx_outputs,\n",
        "    idx2word_target,\n",
        "    max_out_len,\n",
        "    device\n",
        ")\n",
        "\n",
        "print('Response:', translation)"
      ],
      "metadata": {
        "colab": {
          "base_uri": "https://localhost:8080/"
        },
        "id": "eN-rIib1ad2Y",
        "outputId": "d77d0183-d3c4-4df7-cefc-9fd9c11a821b"
      },
      "execution_count": 36,
      "outputs": [
        {
          "output_type": "stream",
          "name": "stdout",
          "text": [
            "Input: I like dogs and cats.\n",
            "Representación en vector de tokens de ids: [2, 35, 575, 34, 791]\n",
            "Padding del vector: [[  0   0   0   0   0   0   0   0   0   0   0   0   0   0   0   0   0   0\n",
            "    0   0   0   0   0   0   0   0   0   0   0   0   0   0   0   0   0   0\n",
            "    0   0   0   0   0   0   2  35 575  34 791]]\n",
            "Response: me gusta el café\n"
          ]
        }
      ]
    },
    {
      "cell_type": "code",
      "source": [
        "# ========= Ejemplo de traducción =========\n",
        "input_test = \"I wish you happy new year.\"\n",
        "print('Input:', input_test)\n",
        "\n",
        "# Tokenizar\n",
        "integer_seq_test = input_tokenizer.texts_to_sequences([input_test])[0]\n",
        "print(\"Representación en vector de tokens de ids:\", integer_seq_test)\n",
        "\n",
        "# Padding a la longitud máxima del encoder\n",
        "encoder_sequence_test = pad_sequences([integer_seq_test], maxlen=max_input_len)\n",
        "print(\"Padding del vector:\", encoder_sequence_test)\n",
        "\n",
        "# Traducción\n",
        "translation = translate_sentence(\n",
        "    encoder_sequence_test,\n",
        "    model,\n",
        "    word2idx_outputs,\n",
        "    idx2word_target,\n",
        "    max_out_len,\n",
        "    device\n",
        ")\n",
        "\n",
        "print('Response:', translation)"
      ],
      "metadata": {
        "colab": {
          "base_uri": "https://localhost:8080/"
        },
        "id": "nsPWQEsYbrVV",
        "outputId": "82aabcfb-c481-41c5-8c68-147ae4336c2e"
      },
      "execution_count": 37,
      "outputs": [
        {
          "output_type": "stream",
          "name": "stdout",
          "text": [
            "Input: I wish you happy new year.\n",
            "Representación en vector de tokens de ids: [2, 311, 4, 191, 122, 232]\n",
            "Padding del vector: [[  0   0   0   0   0   0   0   0   0   0   0   0   0   0   0   0   0   0\n",
            "    0   0   0   0   0   0   0   0   0   0   0   0   0   0   0   0   0   0\n",
            "    0   0   0   0   0   2 311   4 191 122 232]]\n",
            "Response: si no te hubiera sabido nada\n"
          ]
        }
      ]
    },
    {
      "cell_type": "code",
      "source": [
        "# ========= Ejemplo de traducción =========\n",
        "input_test = \"Today is a beautiful day.\"\n",
        "print('Input:', input_test)\n",
        "\n",
        "# Tokenizar\n",
        "integer_seq_test = input_tokenizer.texts_to_sequences([input_test])[0]\n",
        "print(\"Representación en vector de tokens de ids:\", integer_seq_test)\n",
        "\n",
        "# Padding a la longitud máxima del encoder\n",
        "encoder_sequence_test = pad_sequences([integer_seq_test], maxlen=max_input_len)\n",
        "print(\"Padding del vector:\", encoder_sequence_test)\n",
        "\n",
        "# Traducción\n",
        "translation = translate_sentence(\n",
        "    encoder_sequence_test,\n",
        "    model,\n",
        "    word2idx_outputs,\n",
        "    idx2word_target,\n",
        "    max_out_len,\n",
        "    device\n",
        ")\n",
        "\n",
        "print('Response:', translation)"
      ],
      "metadata": {
        "colab": {
          "base_uri": "https://localhost:8080/"
        },
        "id": "iLpFUeXmb68n",
        "outputId": "35a3cd59-7c43-4518-d92b-4f84a8f053b9"
      },
      "execution_count": 38,
      "outputs": [
        {
          "output_type": "stream",
          "name": "stdout",
          "text": [
            "Input: Today is a beautiful day.\n",
            "Representación en vector de tokens de ids: [143, 7, 6, 248, 105]\n",
            "Padding del vector: [[  0   0   0   0   0   0   0   0   0   0   0   0   0   0   0   0   0   0\n",
            "    0   0   0   0   0   0   0   0   0   0   0   0   0   0   0   0   0   0\n",
            "    0   0   0   0   0   0 143   7   6 248 105]]\n",
            "Response: tom es un día soleado\n"
          ]
        }
      ]
    },
    {
      "cell_type": "code",
      "source": [
        "# ========= Ejemplo de traducción =========\n",
        "input_test = \"The sky is blue\"\n",
        "print('Input:', input_test)\n",
        "\n",
        "# Tokenizar\n",
        "integer_seq_test = input_tokenizer.texts_to_sequences([input_test])[0]\n",
        "print(\"Representación en vector de tokens de ids:\", integer_seq_test)\n",
        "\n",
        "# Padding a la longitud máxima del encoder\n",
        "encoder_sequence_test = pad_sequences([integer_seq_test], maxlen=max_input_len)\n",
        "print(\"Padding del vector:\", encoder_sequence_test)\n",
        "\n",
        "# Traducción\n",
        "translation = translate_sentence(\n",
        "    encoder_sequence_test,\n",
        "    model,\n",
        "    word2idx_outputs,\n",
        "    idx2word_target,\n",
        "    max_out_len,\n",
        "    device\n",
        ")\n",
        "\n",
        "print('Response:', translation)"
      ],
      "metadata": {
        "colab": {
          "base_uri": "https://localhost:8080/"
        },
        "id": "Cw5gLwBNb9ii",
        "outputId": "2a6b473f-80cd-4166-a20f-1abd79b38961"
      },
      "execution_count": 39,
      "outputs": [
        {
          "output_type": "stream",
          "name": "stdout",
          "text": [
            "Input: The sky is blue\n",
            "Representación en vector de tokens de ids: [1, 913, 7, 804]\n",
            "Padding del vector: [[  0   0   0   0   0   0   0   0   0   0   0   0   0   0   0   0   0   0\n",
            "    0   0   0   0   0   0   0   0   0   0   0   0   0   0   0   0   0   0\n",
            "    0   0   0   0   0   0   0   1 913   7 804]]\n",
            "Response: el cielo es muy larga\n"
          ]
        }
      ]
    },
    {
      "cell_type": "markdown",
      "source": [
        "# Desafío 4"
      ],
      "metadata": {
        "id": "YrFtG0SHVE8B"
      }
    },
    {
      "cell_type": "markdown",
      "source": [
        "## 1 - Replicar el modelo en Pytorch"
      ],
      "metadata": {
        "id": "bb3ZM3ImVejE"
      }
    },
    {
      "cell_type": "markdown",
      "source": [
        "Se replicó en Pytorch el modelo provisto en Keras con los mismos parámetros, buscando obtener los mismos resultados. Se tomó como base el modelo en Keras, otro modelo provisto en clase en Pytorch, y se utilizó asistencia de un modelo de lenguaje para lograr la correspondencia entre ambos modelos.\n",
        "\n",
        "Dado que las LSTM de Keras y Pytorch no son idénticas, fue necesario agregar algunas funciones (glorot uniform, orthogonal per gate, set bias) para luego definir Keras_like_LSTM, y así poder replicar el modelo de Keras.\n",
        "\n",
        "Finalmente, utilizando los mismos parámetros, se logró alcanzar una arquitectura similar:\n",
        "\n",
        "En Keras:\n",
        "\n",
        "* Total params: 1,886,336\n",
        "* Trainable params: 1,693,786\n",
        "* Non-trainable params: 192,550\n",
        "\n",
        "\n",
        "En Pytorch:\n",
        "* Total params: 1,887,410\n",
        "* Trainable params: 1,693,786\n",
        "* Non-trainable params: 193,624\n",
        "\n",
        "Al realizar el entrenamiento, se obtiene una accuracy en validación de 0.7153, mientras que en el modelo con Keras se alcanzaba un 0.7128. Con estos resultados, se considera que los modelos son suficientemente similares para continuar con el desarrollo del trabajo."
      ],
      "metadata": {
        "id": "3ZikvuKCVcW9"
      }
    },
    {
      "cell_type": "markdown",
      "source": [
        "## 2 - Pruebas con el modelo en Pytorch"
      ],
      "metadata": {
        "id": "PEfialZT9lJR"
      }
    },
    {
      "cell_type": "markdown",
      "source": [
        "Se realizaron distintas pruebas modificando la cantidad de datos de entrenamiento, la cantidad de palabras en el vocabulario, los tamaños de secuencias de entrada y salida, y la cantidad de neuronas de las capas recurrentes.\n",
        "\n",
        "En cada caso, se evaluó la accuracy de validación, y se realizó la traducción de 5 frases diferentes para evaluar el desempeño del modelo. Se eligieron frases cortas y con palabras comunes, que idealmente deberían traducirse correctamente. Las frases son:\n",
        "\n",
        "* My mother say hi (frase de prueba del modelo original en Keras)\n",
        "* I like dogs and cats\n",
        "* I wish you happy new year\n",
        "* Today is a beautiful day\n",
        "* The sky is blue\n",
        "\n",
        "Es importante destacar que los parámetros se fueron ajustando de manera gradual, ya que al liberarlos demasiado se obtuvieron problemas relacionados a la memoria y la ejecución fallaba. Para la realización de cada prueba sin problemas, fue necesario reiniciar todo el entorno de ejecución y comenzar desde cero.\n",
        "\n",
        "En la tabla a continuación se muestra un resumen de los parámetros modificados y los resultados obtenidos en cada caso, sin incluir los casos que fallaron."
      ],
      "metadata": {
        "id": "hbnvCzRjXz3g"
      }
    },
    {
      "cell_type": "markdown",
      "source": [
        "| N° prueba | MAX_NUM_SENTENCES | MAX_VOCAB_SIZE | max_input_len | max_output_len | n_units | Valid acc | My mother say hi             | I like dogs and cats                                    | i wish you happy new year                    | Today is a beautiful day             | The sky is blue                     |\n",
        "|-----------|---------------------|----------------|---------------|---------------|---------|-----------|------------------------------|---------------------------------------------------------|---------------------------------------------|--------------------------------------|--------------------------------------|\n",
        "| 1         | 6000               | 8000           | 16            | 18            | 128     | 0.7153    | ella se ha ido               | -                                                       | -                                           | -                                    | -                                    |\n",
        "| 2         | 12000              | 8000           | 16            | 18            | 128     | 0.7306    | mi mamá me gusta            | me gusta el filete medianamente cocido                  | te traje aspirina                           | tom es un chico tímido              | la situación está sabrosa            |\n",
        "| 3         | 36000              | 8000           | 16            | 18            | 128     | 0.7537    | mi madre se le olvidó el miedo de mary | me gustan los perros                             | ojalá hubieras guardado el nuevo            | tom es un hombre de negocios       | la situación está en llamas         |\n",
        "| 4         | 36000              | 16000          | 16            | 18            | 128     | 0.7428    | mi madre tiene un minuto    | me gusta el café y azúcar                             | te quiero ayudarte                           | tom es un conductor veloz          | la verdad es que es                 |\n",
        "| 5         | 36000              | 16000          | 32            | 36            | 128     | 0.8708    | mi madre me ha arañado      | me gusta el café                                      | no te voy a casa mañana                     | tom es un chico formal             | tom habla francés                   |\n",
        "| 6         | 38000              | 16000          | 32            | 36            | 128     | 0.8725    | mi madre ha comenzado a casa| me gusta el café                                      | te quiero que te guste                       | tom es un buen trabajo            | el cielo está despejado            |\n",
        "| 7         | 45000              | 16000          | 32            | 36            | 128     | 0.8741    | mary se le acercó          | me gustan las almendras que christie que no           | quiero que tú estabas aquí                   | tom es un chico tímido            | el cielo está despejado            |\n",
        "| 8         | 50000              | 18000          | 47            | 48            | 128     | 0.9057    | mary se casó con él        | me gusta el café                                      | ayer no te habría dicho                      | tom es un buen médico             | el cielo está despejado            |\n",
        "| 9         | 60000              | 18000          | 32            | 36            | 128     | 0.8777    | mi madre tiene que decir   | me gusta el café                                      | te ayudo con ustedes                         | tom es un buen atleta            | la historia es extraña            |\n",
        "| 10        | 60000              | 18000          | 47            | 50            | 128     | 0.9122    | mi madre me ayudó         | me gusta el inglés y el alemán                       | te haré daño                                | tom es un chico astuto          | la historia es extraña            |\n",
        "| 11        | 60000              | 15000          | 47            | 50            | 128     | 0.9134    | mi madre se casó         | me gusta el café                                      | si no te hubiera sabido nada                 | tom es un día soleado          | el cielo es muy larga            |\n",
        "| 12        | 70000              | 15000          | 47            | 48            | 128     | 0.9104    | mi madre ha perdido      | me gusta el café                                      | te quiero que seas feliz                     | tom es un perro grande        | el cielo está despejado         |\n",
        "| 13        | 60000              | 15000          | 47            | 48            | 64      | 0.9053    | mi hermano se está quemando | me gusta el café                                   | te esperaré aquí                              | tom es un buen trabajo       | tom se está quedando en boston |\n",
        "| 14        | 60000              | 15000          | 47            | 48            | 256     | 0.9115    | mi madre me enseñó      | me gusta el café y el día                          | te deseo que no vayas                         | tom es un conductor veloz   | la situación es desagradable  |\n",
        "| 15        | 60000              | 15000          | 47            | 48            | 512     | 0.9131    | mi madre puso su mano | me gusta el helado de chocolate                | te quiero su respeto                          | tom es un chico malo        | el cielo es azul               |\n"
      ],
      "metadata": {
        "id": "fSdLVxEgMNnA"
      }
    },
    {
      "cell_type": "markdown",
      "source": [
        "## 2a - Extender el entrenamiento a más datos y tamaños de secuencias mayores"
      ],
      "metadata": {
        "id": "tamIf5QXVYyN"
      }
    },
    {
      "cell_type": "markdown",
      "source": [
        "Se aumentó gradualmente la cantidad de datos de entrada, el tamaño del vocabulario y el tamaño de las secuencias de entrada y de salida.\n",
        "\n",
        "En todos los casos se observó que a mayor cantidad de datos y tamaño de secuencias, mayor accuracy de validación. Sin embargo, si se aumenta demasiado se obtienen problemas con la memoria y no se puede finalizar la ejecución, por lo que se fue aumentando de a un parámetro por vez.\n",
        "\n",
        "Los mayores incrementos en accuracy se observaron al modificar el tamaño de las secuencias de entrada y salida.\n",
        "\n",
        "Es importante destacar que se evaluó en conjunto la accuracy de validación y la traducción de las 5 frases, ya que en algunos casos la mejora en accuracy no se condice con una mejora en la traducción.\n",
        "\n",
        "Esto ocurre entre las ejecuciones 4 y 5, donde se observa un incremento importante en accuracy, pero no una mejora en las traducciones. Por ejemplo, pasa de \"me gusta el café y azúcar\" a \"me gusta el café\", cuando la estructura de la frase incluye dos sustantivos (\"i like dogs and cats\"). En \"i wish you happy new year\", se había obtenido una frase que comenzaba con \"te quiero\" (más similar a un \"te deseo feliz año nuevo\"), y luego se obtiene una frase sin ninguna relación con la original (\"no te voy a casa mañana\").\n",
        "\n",
        "En la prueba 6, por ejemplo, se obtuvo una accuracy muy similar a la prueba anterior y a la siguiente, pero se destaca por lograr buenos resultados en la traducción: \"mi madre\", \"me gusta\", \"te quiero\" y \"el cielo está despejado\".\n",
        "\n",
        "En conjunto, los mejores resultados se obtuvieron en las ejecuciones 11 y 12, llevando al máximo posible (sin fallas) la cantidad de sentencias utilizadas y los tamaños de secuencias. Se obtiene una accuracy de validación mayor a 0.91 en ambos casos, y las mejores traducciones de las frases de prueba. La ejecución 11 se destaca ya que es la única vez que se obtiene \"es un día soleado\" para la frase 4, que suele fallar en el resto de las ejecuciones."
      ],
      "metadata": {
        "id": "W17Fn5HfEw3q"
      }
    },
    {
      "cell_type": "markdown",
      "source": [
        "## 2b - Explorar el impacto de la cantidad de neuronas en las capas recurrentes"
      ],
      "metadata": {
        "id": "kC2FdURlJfDg"
      }
    },
    {
      "cell_type": "markdown",
      "source": [
        "Una vez que se definieron la cantidad de sentencias, tamaño de vocabulario y tamaño de secuencias, se realizaron pruebas con 64, 128, 256 y 512 neuronas en las capas recurrentes, que pueden observarse en la tabla.\n",
        "\n",
        "Si bien la accuracy de validación obtenida se relaciona directamente con la cantidad de neuronas, la diferencia en los valores es mínima, y no se traduce directamente en un mejor desempeño en las frases de prueba.\n",
        "\n",
        "Al reducir el tamaño a 64 se observa que empeoran los resultados con las frases de prueba (\"mi hermano\", \"tom se está quedando en boston\"), pero al aumentar a 256 y 512 no se observa que la mejora sea sustancial. Esto probablemente se relaciona con que al tener más parámetros entrenables se debería aumentar la cantidad de datos de entrada, y esto no es posible por los límites de memoria.\n",
        "\n",
        "Al modificar la cantidad de neuronas se observa que se modifican en la misma medida la cantidad de parámetros del modelo.\n",
        "\n",
        "Por otro lado, a medida que se aumenta la cantidad de neuronas aumenta considerablemente el tiempo que lleva el entrenamiento. Sin embargo, se observa que la curva de accuracy de validación alcanza un valor estable más rápidamente, por lo que se podría reducir la cantidad de épocas para reducir el tiempo de entrenamiento.\n",
        "\n",
        "Observando todos los resultados en conjunto y los tiempos de entrenamiento, se decidió conservar la cantidad de neuronas iniciales de 128."
      ],
      "metadata": {
        "id": "oqKN_FwpJlOZ"
      }
    },
    {
      "cell_type": "markdown",
      "source": [
        "## 2c - Mostrar 5 ejemplos de traducciones generadas\n",
        "\n",
        "Se muestran los resultados en la tabla y en la sección \"5 - Inferencia\"."
      ],
      "metadata": {
        "id": "AdxapOdOL2jn"
      }
    }
  ]
}