{
  "cells": [
    {
      "cell_type": "markdown",
      "metadata": {
        "id": "view-in-github",
        "colab_type": "text"
      },
      "source": [
        "<a href=\"https://colab.research.google.com/github/nataliaespector/CEIA_TPs_Procesamiento_Lenguaje_Natural_1/blob/main/Espector_PLN_Desafio_2.ipynb\" target=\"_parent\"><img src=\"https://colab.research.google.com/assets/colab-badge.svg\" alt=\"Open In Colab\"/></a>"
      ]
    },
    {
      "cell_type": "markdown",
      "source": [
        "# Procesamiento de Lenguaje Natural I - Desafío 2"
      ],
      "metadata": {
        "id": "Xq_jC4ZMftHh"
      }
    },
    {
      "cell_type": "markdown",
      "source": [
        "## 1 - Crear sus propios vectores con Gensim basado en lo visto en clase con otro dataset."
      ],
      "metadata": {
        "id": "c1bXOigb7ljL"
      }
    },
    {
      "cell_type": "markdown",
      "source": [
        "Para este desafío se utilizará el mismo dataset de canciones visto en clase, pero en lugar de trabajar con canciones de los Beatles, se analizarán canciones de Bob Dylan."
      ],
      "metadata": {
        "id": "8Apg4m9I7zOm"
      }
    },
    {
      "cell_type": "markdown",
      "source": [
        "Se importan las librerías necesarias:"
      ],
      "metadata": {
        "id": "KAEWrMy_8JT_"
      }
    },
    {
      "cell_type": "code",
      "metadata": {
        "colab": {
          "base_uri": "https://localhost:8080/"
        },
        "id": "7b7c416c",
        "outputId": "a798b1bf-307b-41de-b339-e36fdbab3155"
      },
      "source": [
        "%pip install numpy scikit-learn gensim"
      ],
      "execution_count": 234,
      "outputs": [
        {
          "output_type": "stream",
          "name": "stdout",
          "text": [
            "Requirement already satisfied: numpy in /usr/local/lib/python3.12/dist-packages (1.26.4)\n",
            "Requirement already satisfied: scikit-learn in /usr/local/lib/python3.12/dist-packages (1.6.1)\n",
            "Requirement already satisfied: gensim in /usr/local/lib/python3.12/dist-packages (4.3.3)\n",
            "Requirement already satisfied: scipy>=1.6.0 in /usr/local/lib/python3.12/dist-packages (from scikit-learn) (1.13.1)\n",
            "Requirement already satisfied: joblib>=1.2.0 in /usr/local/lib/python3.12/dist-packages (from scikit-learn) (1.5.2)\n",
            "Requirement already satisfied: threadpoolctl>=3.1.0 in /usr/local/lib/python3.12/dist-packages (from scikit-learn) (3.6.0)\n",
            "Requirement already satisfied: smart-open>=1.8.1 in /usr/local/lib/python3.12/dist-packages (from gensim) (7.3.0.post1)\n",
            "Requirement already satisfied: wrapt in /usr/local/lib/python3.12/dist-packages (from smart-open>=1.8.1->gensim) (1.17.3)\n"
          ]
        }
      ]
    },
    {
      "cell_type": "code",
      "execution_count": 235,
      "metadata": {
        "id": "lFToQs5FK5uZ"
      },
      "outputs": [],
      "source": [
        "import pandas as pd\n",
        "import matplotlib.pyplot as plt\n",
        "import seaborn as sns\n",
        "\n",
        "import multiprocessing\n",
        "from gensim.models import Word2Vec"
      ]
    },
    {
      "cell_type": "markdown",
      "metadata": {
        "id": "g07zJxG7H9vG"
      },
      "source": [
        "Se descarga el dataset de canciones de bandas de habla inglesa:"
      ]
    },
    {
      "cell_type": "code",
      "execution_count": 236,
      "metadata": {
        "id": "l7z4CSBfpR3X",
        "colab": {
          "base_uri": "https://localhost:8080/"
        },
        "outputId": "5f493afa-4ba2-465d-b562-0c298c550e97"
      },
      "outputs": [
        {
          "output_type": "stream",
          "name": "stdout",
          "text": [
            "El dataset ya se encuentra descargado\n"
          ]
        }
      ],
      "source": [
        "import os\n",
        "import platform\n",
        "if os.access('./songs_dataset', os.F_OK) is False:\n",
        "    if os.access('songs_dataset.zip', os.F_OK) is False:\n",
        "        if platform.system() == 'Windows':\n",
        "            !curl https://raw.githubusercontent.com/FIUBA-Posgrado-Inteligencia-Artificial/procesamiento_lenguaje_natural/main/datasets/songs_dataset.zip -o songs_dataset.zip\n",
        "        else:\n",
        "            !wget songs_dataset.zip https://github.com/FIUBA-Posgrado-Inteligencia-Artificial/procesamiento_lenguaje_natural/raw/main/datasets/songs_dataset.zip\n",
        "    !unzip -q songs_dataset.zip\n",
        "else:\n",
        "    print(\"El dataset ya se encuentra descargado\")"
      ]
    },
    {
      "cell_type": "markdown",
      "source": [
        "Se listan las posibles bandas/músicos:"
      ],
      "metadata": {
        "id": "oelk2raqQO5m"
      }
    },
    {
      "cell_type": "code",
      "execution_count": 237,
      "metadata": {
        "id": "mysGrIw9ljC2",
        "colab": {
          "base_uri": "https://localhost:8080/"
        },
        "outputId": "f6778569-7a38-478a-ac9d-3c0c58b72ce0"
      },
      "outputs": [
        {
          "output_type": "execute_result",
          "data": {
            "text/plain": [
              "['adele.txt',\n",
              " 'beatles.txt',\n",
              " 'bieber.txt',\n",
              " 'leonard-cohen.txt',\n",
              " 'dj-khaled.txt',\n",
              " 'alicia-keys.txt',\n",
              " 'kanye.txt',\n",
              " 'missy-elliott.txt',\n",
              " 'cake.txt',\n",
              " 'kanye-west.txt',\n",
              " 'lin-manuel-miranda.txt',\n",
              " 'michael-jackson.txt',\n",
              " 'joni-mitchell.txt',\n",
              " 'lil-wayne.txt',\n",
              " 'bruno-mars.txt',\n",
              " 'ludacris.txt',\n",
              " 'eminem.txt',\n",
              " 'jimi-hendrix.txt',\n",
              " 'radiohead.txt',\n",
              " 'paul-simon.txt',\n",
              " 'dolly-parton.txt',\n",
              " 'janisjoplin.txt',\n",
              " 'notorious-big.txt',\n",
              " 'bjork.txt',\n",
              " 'bob-dylan.txt',\n",
              " 'johnny-cash.txt',\n",
              " 'dickinson.txt',\n",
              " 'Kanye_West.txt',\n",
              " 'amy-winehouse.txt',\n",
              " 'prince.txt',\n",
              " 'notorious_big.txt',\n",
              " 'drake.txt',\n",
              " 'britney-spears.txt',\n",
              " 'bruce-springsteen.txt',\n",
              " 'dr-seuss.txt',\n",
              " 'nursery_rhymes.txt',\n",
              " 'r-kelly.txt',\n",
              " 'blink-182.txt',\n",
              " 'patti-smith.txt',\n",
              " 'nicki-minaj.txt',\n",
              " 'nickelback.txt',\n",
              " 'bob-marley.txt',\n",
              " 'Lil_Wayne.txt',\n",
              " 'disney.txt',\n",
              " 'lorde.txt',\n",
              " 'nirvana.txt',\n",
              " 'lady-gaga.txt',\n",
              " 'rihanna.txt',\n",
              " 'al-green.txt']"
            ]
          },
          "metadata": {},
          "execution_count": 237
        }
      ],
      "source": [
        "os.listdir(\"./songs_dataset/\")"
      ]
    },
    {
      "cell_type": "markdown",
      "source": [
        "Se arma un dataframe con las canciones de Bob Dylan, separado por salto de línea (cada fila será una línea de una canción):"
      ],
      "metadata": {
        "id": "P80OT_xiQURB"
      }
    },
    {
      "cell_type": "code",
      "source": [
        "df = pd.read_csv('songs_dataset/bob-dylan.txt', sep='/n', header=None)\n",
        "df.head()"
      ],
      "metadata": {
        "colab": {
          "base_uri": "https://localhost:8080/",
          "height": 300
        },
        "id": "ertQiJaIBc1m",
        "outputId": "cc8c8e0a-e286-45d5-fdfe-bf6c43fd2d74"
      },
      "execution_count": 238,
      "outputs": [
        {
          "output_type": "stream",
          "name": "stderr",
          "text": [
            "/tmp/ipython-input-3962476315.py:1: ParserWarning:\n",
            "\n",
            "Falling back to the 'python' engine because the 'c' engine does not support regex separators (separators > 1 char and different from '\\s+' are interpreted as regex); you can avoid this warning by specifying engine='python'.\n",
            "\n"
          ]
        },
        {
          "output_type": "execute_result",
          "data": {
            "text/plain": [
              "                                                   0\n",
              "0  “There must be some way out of here,” said the...\n",
              "1  “There’s too much confusion, I can’t get no re...\n",
              "2  Businessmen, they drink my wine, plowmen dig m...\n",
              "3  None of them along the line know what any of i...\n",
              "4  “No reason to get excited,” the thief, he kind..."
            ],
            "text/html": [
              "\n",
              "  <div id=\"df-22eb7239-dd2e-44aa-8587-564c6d58ed2e\" class=\"colab-df-container\">\n",
              "    <div>\n",
              "<style scoped>\n",
              "    .dataframe tbody tr th:only-of-type {\n",
              "        vertical-align: middle;\n",
              "    }\n",
              "\n",
              "    .dataframe tbody tr th {\n",
              "        vertical-align: top;\n",
              "    }\n",
              "\n",
              "    .dataframe thead th {\n",
              "        text-align: right;\n",
              "    }\n",
              "</style>\n",
              "<table border=\"1\" class=\"dataframe\">\n",
              "  <thead>\n",
              "    <tr style=\"text-align: right;\">\n",
              "      <th></th>\n",
              "      <th>0</th>\n",
              "    </tr>\n",
              "  </thead>\n",
              "  <tbody>\n",
              "    <tr>\n",
              "      <th>0</th>\n",
              "      <td>“There must be some way out of here,” said the...</td>\n",
              "    </tr>\n",
              "    <tr>\n",
              "      <th>1</th>\n",
              "      <td>“There’s too much confusion, I can’t get no re...</td>\n",
              "    </tr>\n",
              "    <tr>\n",
              "      <th>2</th>\n",
              "      <td>Businessmen, they drink my wine, plowmen dig m...</td>\n",
              "    </tr>\n",
              "    <tr>\n",
              "      <th>3</th>\n",
              "      <td>None of them along the line know what any of i...</td>\n",
              "    </tr>\n",
              "    <tr>\n",
              "      <th>4</th>\n",
              "      <td>“No reason to get excited,” the thief, he kind...</td>\n",
              "    </tr>\n",
              "  </tbody>\n",
              "</table>\n",
              "</div>\n",
              "    <div class=\"colab-df-buttons\">\n",
              "\n",
              "  <div class=\"colab-df-container\">\n",
              "    <button class=\"colab-df-convert\" onclick=\"convertToInteractive('df-22eb7239-dd2e-44aa-8587-564c6d58ed2e')\"\n",
              "            title=\"Convert this dataframe to an interactive table.\"\n",
              "            style=\"display:none;\">\n",
              "\n",
              "  <svg xmlns=\"http://www.w3.org/2000/svg\" height=\"24px\" viewBox=\"0 -960 960 960\">\n",
              "    <path d=\"M120-120v-720h720v720H120Zm60-500h600v-160H180v160Zm220 220h160v-160H400v160Zm0 220h160v-160H400v160ZM180-400h160v-160H180v160Zm440 0h160v-160H620v160ZM180-180h160v-160H180v160Zm440 0h160v-160H620v160Z\"/>\n",
              "  </svg>\n",
              "    </button>\n",
              "\n",
              "  <style>\n",
              "    .colab-df-container {\n",
              "      display:flex;\n",
              "      gap: 12px;\n",
              "    }\n",
              "\n",
              "    .colab-df-convert {\n",
              "      background-color: #E8F0FE;\n",
              "      border: none;\n",
              "      border-radius: 50%;\n",
              "      cursor: pointer;\n",
              "      display: none;\n",
              "      fill: #1967D2;\n",
              "      height: 32px;\n",
              "      padding: 0 0 0 0;\n",
              "      width: 32px;\n",
              "    }\n",
              "\n",
              "    .colab-df-convert:hover {\n",
              "      background-color: #E2EBFA;\n",
              "      box-shadow: 0px 1px 2px rgba(60, 64, 67, 0.3), 0px 1px 3px 1px rgba(60, 64, 67, 0.15);\n",
              "      fill: #174EA6;\n",
              "    }\n",
              "\n",
              "    .colab-df-buttons div {\n",
              "      margin-bottom: 4px;\n",
              "    }\n",
              "\n",
              "    [theme=dark] .colab-df-convert {\n",
              "      background-color: #3B4455;\n",
              "      fill: #D2E3FC;\n",
              "    }\n",
              "\n",
              "    [theme=dark] .colab-df-convert:hover {\n",
              "      background-color: #434B5C;\n",
              "      box-shadow: 0px 1px 3px 1px rgba(0, 0, 0, 0.15);\n",
              "      filter: drop-shadow(0px 1px 2px rgba(0, 0, 0, 0.3));\n",
              "      fill: #FFFFFF;\n",
              "    }\n",
              "  </style>\n",
              "\n",
              "    <script>\n",
              "      const buttonEl =\n",
              "        document.querySelector('#df-22eb7239-dd2e-44aa-8587-564c6d58ed2e button.colab-df-convert');\n",
              "      buttonEl.style.display =\n",
              "        google.colab.kernel.accessAllowed ? 'block' : 'none';\n",
              "\n",
              "      async function convertToInteractive(key) {\n",
              "        const element = document.querySelector('#df-22eb7239-dd2e-44aa-8587-564c6d58ed2e');\n",
              "        const dataTable =\n",
              "          await google.colab.kernel.invokeFunction('convertToInteractive',\n",
              "                                                    [key], {});\n",
              "        if (!dataTable) return;\n",
              "\n",
              "        const docLinkHtml = 'Like what you see? Visit the ' +\n",
              "          '<a target=\"_blank\" href=https://colab.research.google.com/notebooks/data_table.ipynb>data table notebook</a>'\n",
              "          + ' to learn more about interactive tables.';\n",
              "        element.innerHTML = '';\n",
              "        dataTable['output_type'] = 'display_data';\n",
              "        await google.colab.output.renderOutput(dataTable, element);\n",
              "        const docLink = document.createElement('div');\n",
              "        docLink.innerHTML = docLinkHtml;\n",
              "        element.appendChild(docLink);\n",
              "      }\n",
              "    </script>\n",
              "  </div>\n",
              "\n",
              "\n",
              "    <div id=\"df-d8c4fe36-47c3-4e81-8ad2-e9ca38bb0d8d\">\n",
              "      <button class=\"colab-df-quickchart\" onclick=\"quickchart('df-d8c4fe36-47c3-4e81-8ad2-e9ca38bb0d8d')\"\n",
              "                title=\"Suggest charts\"\n",
              "                style=\"display:none;\">\n",
              "\n",
              "<svg xmlns=\"http://www.w3.org/2000/svg\" height=\"24px\"viewBox=\"0 0 24 24\"\n",
              "     width=\"24px\">\n",
              "    <g>\n",
              "        <path d=\"M19 3H5c-1.1 0-2 .9-2 2v14c0 1.1.9 2 2 2h14c1.1 0 2-.9 2-2V5c0-1.1-.9-2-2-2zM9 17H7v-7h2v7zm4 0h-2V7h2v10zm4 0h-2v-4h2v4z\"/>\n",
              "    </g>\n",
              "</svg>\n",
              "      </button>\n",
              "\n",
              "<style>\n",
              "  .colab-df-quickchart {\n",
              "      --bg-color: #E8F0FE;\n",
              "      --fill-color: #1967D2;\n",
              "      --hover-bg-color: #E2EBFA;\n",
              "      --hover-fill-color: #174EA6;\n",
              "      --disabled-fill-color: #AAA;\n",
              "      --disabled-bg-color: #DDD;\n",
              "  }\n",
              "\n",
              "  [theme=dark] .colab-df-quickchart {\n",
              "      --bg-color: #3B4455;\n",
              "      --fill-color: #D2E3FC;\n",
              "      --hover-bg-color: #434B5C;\n",
              "      --hover-fill-color: #FFFFFF;\n",
              "      --disabled-bg-color: #3B4455;\n",
              "      --disabled-fill-color: #666;\n",
              "  }\n",
              "\n",
              "  .colab-df-quickchart {\n",
              "    background-color: var(--bg-color);\n",
              "    border: none;\n",
              "    border-radius: 50%;\n",
              "    cursor: pointer;\n",
              "    display: none;\n",
              "    fill: var(--fill-color);\n",
              "    height: 32px;\n",
              "    padding: 0;\n",
              "    width: 32px;\n",
              "  }\n",
              "\n",
              "  .colab-df-quickchart:hover {\n",
              "    background-color: var(--hover-bg-color);\n",
              "    box-shadow: 0 1px 2px rgba(60, 64, 67, 0.3), 0 1px 3px 1px rgba(60, 64, 67, 0.15);\n",
              "    fill: var(--button-hover-fill-color);\n",
              "  }\n",
              "\n",
              "  .colab-df-quickchart-complete:disabled,\n",
              "  .colab-df-quickchart-complete:disabled:hover {\n",
              "    background-color: var(--disabled-bg-color);\n",
              "    fill: var(--disabled-fill-color);\n",
              "    box-shadow: none;\n",
              "  }\n",
              "\n",
              "  .colab-df-spinner {\n",
              "    border: 2px solid var(--fill-color);\n",
              "    border-color: transparent;\n",
              "    border-bottom-color: var(--fill-color);\n",
              "    animation:\n",
              "      spin 1s steps(1) infinite;\n",
              "  }\n",
              "\n",
              "  @keyframes spin {\n",
              "    0% {\n",
              "      border-color: transparent;\n",
              "      border-bottom-color: var(--fill-color);\n",
              "      border-left-color: var(--fill-color);\n",
              "    }\n",
              "    20% {\n",
              "      border-color: transparent;\n",
              "      border-left-color: var(--fill-color);\n",
              "      border-top-color: var(--fill-color);\n",
              "    }\n",
              "    30% {\n",
              "      border-color: transparent;\n",
              "      border-left-color: var(--fill-color);\n",
              "      border-top-color: var(--fill-color);\n",
              "      border-right-color: var(--fill-color);\n",
              "    }\n",
              "    40% {\n",
              "      border-color: transparent;\n",
              "      border-right-color: var(--fill-color);\n",
              "      border-top-color: var(--fill-color);\n",
              "    }\n",
              "    60% {\n",
              "      border-color: transparent;\n",
              "      border-right-color: var(--fill-color);\n",
              "    }\n",
              "    80% {\n",
              "      border-color: transparent;\n",
              "      border-right-color: var(--fill-color);\n",
              "      border-bottom-color: var(--fill-color);\n",
              "    }\n",
              "    90% {\n",
              "      border-color: transparent;\n",
              "      border-bottom-color: var(--fill-color);\n",
              "    }\n",
              "  }\n",
              "</style>\n",
              "\n",
              "      <script>\n",
              "        async function quickchart(key) {\n",
              "          const quickchartButtonEl =\n",
              "            document.querySelector('#' + key + ' button');\n",
              "          quickchartButtonEl.disabled = true;  // To prevent multiple clicks.\n",
              "          quickchartButtonEl.classList.add('colab-df-spinner');\n",
              "          try {\n",
              "            const charts = await google.colab.kernel.invokeFunction(\n",
              "                'suggestCharts', [key], {});\n",
              "          } catch (error) {\n",
              "            console.error('Error during call to suggestCharts:', error);\n",
              "          }\n",
              "          quickchartButtonEl.classList.remove('colab-df-spinner');\n",
              "          quickchartButtonEl.classList.add('colab-df-quickchart-complete');\n",
              "        }\n",
              "        (() => {\n",
              "          let quickchartButtonEl =\n",
              "            document.querySelector('#df-d8c4fe36-47c3-4e81-8ad2-e9ca38bb0d8d button');\n",
              "          quickchartButtonEl.style.display =\n",
              "            google.colab.kernel.accessAllowed ? 'block' : 'none';\n",
              "        })();\n",
              "      </script>\n",
              "    </div>\n",
              "\n",
              "    </div>\n",
              "  </div>\n"
            ],
            "application/vnd.google.colaboratory.intrinsic+json": {
              "type": "dataframe",
              "variable_name": "df",
              "summary": "{\n  \"name\": \"df\",\n  \"rows\": 5213,\n  \"fields\": [\n    {\n      \"column\": 0,\n      \"properties\": {\n        \"dtype\": \"string\",\n        \"num_unique_values\": 4400,\n        \"samples\": [\n          \"Then he fines you every time you slam the door\",\n          \"Sheiks walkin\\u2019 around like kings\",\n          \"I need somethin\\u2019 strong to distract my mind\"\n        ],\n        \"semantic_type\": \"\",\n        \"description\": \"\"\n      }\n    }\n  ]\n}"
            }
          },
          "metadata": {},
          "execution_count": 238
        }
      ]
    },
    {
      "cell_type": "code",
      "execution_count": 239,
      "metadata": {
        "id": "LEpKubK9XzXN",
        "colab": {
          "base_uri": "https://localhost:8080/"
        },
        "outputId": "3825f567-9c8b-4e06-f54e-cf5c728d5b16"
      },
      "outputs": [
        {
          "output_type": "stream",
          "name": "stdout",
          "text": [
            "Cantidad de documentos: 5213\n"
          ]
        }
      ],
      "source": [
        "print(\"Cantidad de documentos:\", df.shape[0])"
      ]
    },
    {
      "cell_type": "markdown",
      "source": [
        "Preprocesamiento: se utiliza text_to_word_sequence para separar en palabras:"
      ],
      "metadata": {
        "id": "thmNJzlK9oZc"
      }
    },
    {
      "cell_type": "code",
      "execution_count": 240,
      "metadata": {
        "id": "rIsmMWmjrDHd"
      },
      "outputs": [],
      "source": [
        "from tensorflow.keras.preprocessing.text import text_to_word_sequence\n",
        "\n",
        "sentence_tokens = []\n",
        "# Recorrer todas las filas y transformar las oraciones en una secuencia de palabras\n",
        "for _, row in df[:None].iterrows():\n",
        "    sentence_tokens.append(text_to_word_sequence(row[0]))"
      ]
    },
    {
      "cell_type": "markdown",
      "source": [
        "Verificación:"
      ],
      "metadata": {
        "id": "OEubWTu_RB9u"
      }
    },
    {
      "cell_type": "code",
      "execution_count": 241,
      "metadata": {
        "id": "CHepi_DGrbhq",
        "colab": {
          "base_uri": "https://localhost:8080/"
        },
        "outputId": "4af668dc-c662-49ba-f48f-7e9efe103858"
      },
      "outputs": [
        {
          "output_type": "execute_result",
          "data": {
            "text/plain": [
              "[['“there',\n",
              "  'must',\n",
              "  'be',\n",
              "  'some',\n",
              "  'way',\n",
              "  'out',\n",
              "  'of',\n",
              "  'here',\n",
              "  '”',\n",
              "  'said',\n",
              "  'the',\n",
              "  'joker',\n",
              "  'to',\n",
              "  'the',\n",
              "  'thief'],\n",
              " ['“there’s', 'too', 'much', 'confusion', 'i', 'can’t', 'get', 'no', 'relief']]"
            ]
          },
          "metadata": {},
          "execution_count": 241
        }
      ],
      "source": [
        "sentence_tokens[:2]"
      ]
    },
    {
      "cell_type": "markdown",
      "source": [
        "Modificación de callback para informar loss en cada época:"
      ],
      "metadata": {
        "id": "i_Rzrk_m9_KY"
      }
    },
    {
      "cell_type": "code",
      "execution_count": 242,
      "metadata": {
        "id": "OSb0v7h8r7hK"
      },
      "outputs": [],
      "source": [
        "from gensim.models.callbacks import CallbackAny2Vec\n",
        "\n",
        "class callback(CallbackAny2Vec):\n",
        "    \"\"\"\n",
        "    Callback to print loss after each epoch\n",
        "    \"\"\"\n",
        "    def __init__(self):\n",
        "        self.epoch = 0\n",
        "\n",
        "    def on_epoch_end(self, model):\n",
        "        loss = model.get_latest_training_loss()\n",
        "        if self.epoch == 0:\n",
        "            print('Loss after epoch {}: {}'.format(self.epoch, loss))\n",
        "        else:\n",
        "            print('Loss after epoch {}: {}'.format(self.epoch, loss- self.loss_previous_step))\n",
        "        self.epoch += 1\n",
        "        self.loss_previous_step = loss"
      ]
    },
    {
      "cell_type": "markdown",
      "source": [
        "Se utilizará el modelo Word2Vec con Skipgram para crear los vectores:"
      ],
      "metadata": {
        "id": "vq8by5N9-Ot8"
      }
    },
    {
      "cell_type": "code",
      "execution_count": 243,
      "metadata": {
        "id": "i0wnDdv9sJ47"
      },
      "outputs": [],
      "source": [
        "w2v_model = Word2Vec(min_count=5,    # frecuencia mínima de palabra para incluirla en el vocabulario\n",
        "                     window=2,       # cant de palabras antes y desp de la predicha\n",
        "                     vector_size=300,       # dimensionalidad de los vectores\n",
        "                     negative=20,    # cantidad de negative samples... 0 es no se usa\n",
        "                     workers=1,      # si tienen más cores pueden cambiar este valor\n",
        "                     sg=1)           # modelo 0:CBOW  1:skipgram"
      ]
    },
    {
      "cell_type": "markdown",
      "source": [
        "Obtener vocabulario con los tokens:"
      ],
      "metadata": {
        "id": "IU_QHd4I-hWU"
      }
    },
    {
      "cell_type": "code",
      "execution_count": 244,
      "metadata": {
        "id": "5lTt8wErsf17"
      },
      "outputs": [],
      "source": [
        "w2v_model.build_vocab(sentence_tokens)"
      ]
    },
    {
      "cell_type": "markdown",
      "source": [
        "Cantidad de filas/documentos encontrados en el corpus:"
      ],
      "metadata": {
        "id": "TMfzkFmc-mVP"
      }
    },
    {
      "cell_type": "code",
      "execution_count": 245,
      "metadata": {
        "id": "TNc9qt4os5AT",
        "colab": {
          "base_uri": "https://localhost:8080/"
        },
        "outputId": "3ab7dc21-9276-4300-9894-5fc5b17259b9"
      },
      "outputs": [
        {
          "output_type": "stream",
          "name": "stdout",
          "text": [
            "Cantidad de docs en el corpus: 5213\n"
          ]
        }
      ],
      "source": [
        "print(\"Cantidad de docs en el corpus:\", w2v_model.corpus_count)"
      ]
    },
    {
      "cell_type": "markdown",
      "source": [
        "Cantidad de palabras distintas encontradas en el corpus:"
      ],
      "metadata": {
        "id": "WyhaUyjM-twH"
      }
    },
    {
      "cell_type": "code",
      "execution_count": 246,
      "metadata": {
        "id": "idw9cHF3tSMl",
        "colab": {
          "base_uri": "https://localhost:8080/"
        },
        "outputId": "ef092a8c-e838-4f77-e3f3-029b55b6fced"
      },
      "outputs": [
        {
          "output_type": "stream",
          "name": "stdout",
          "text": [
            "Cantidad de words distintas en el corpus: 948\n"
          ]
        }
      ],
      "source": [
        "print(\"Cantidad de words distintas en el corpus:\", len(w2v_model.wv.index_to_key))"
      ]
    },
    {
      "cell_type": "markdown",
      "source": [
        "Entrenar el modelo generador de vectores:"
      ],
      "metadata": {
        "id": "G4clyBr1-4hv"
      }
    },
    {
      "cell_type": "code",
      "execution_count": 247,
      "metadata": {
        "id": "QSp-x0PAsq56",
        "colab": {
          "base_uri": "https://localhost:8080/"
        },
        "outputId": "61c15614-b93e-427d-d31c-a00f97bc5a1f"
      },
      "outputs": [
        {
          "output_type": "stream",
          "name": "stdout",
          "text": [
            "Loss after epoch 0: 291516.65625\n",
            "Loss after epoch 1: 185722.1875\n",
            "Loss after epoch 2: 189597.78125\n",
            "Loss after epoch 3: 187643.0625\n",
            "Loss after epoch 4: 187074.9375\n",
            "Loss after epoch 5: 160502.875\n",
            "Loss after epoch 6: 157903.125\n",
            "Loss after epoch 7: 154055.625\n",
            "Loss after epoch 8: 150566.875\n",
            "Loss after epoch 9: 145901.25\n",
            "Loss after epoch 10: 143920.0\n",
            "Loss after epoch 11: 140456.875\n",
            "Loss after epoch 12: 124449.0\n",
            "Loss after epoch 13: 121068.75\n",
            "Loss after epoch 14: 119576.25\n",
            "Loss after epoch 15: 118504.75\n",
            "Loss after epoch 16: 117808.5\n",
            "Loss after epoch 17: 117127.5\n",
            "Loss after epoch 18: 113734.75\n",
            "Loss after epoch 19: 116168.5\n",
            "Loss after epoch 20: 113913.0\n",
            "Loss after epoch 21: 111499.0\n",
            "Loss after epoch 22: 111207.75\n",
            "Loss after epoch 23: 110870.75\n",
            "Loss after epoch 24: 108163.5\n",
            "Loss after epoch 25: 109369.75\n",
            "Loss after epoch 26: 109354.0\n",
            "Loss after epoch 27: 107165.25\n",
            "Loss after epoch 28: 107664.75\n",
            "Loss after epoch 29: 106450.25\n",
            "Loss after epoch 30: 103771.75\n",
            "Loss after epoch 31: 99905.5\n",
            "Loss after epoch 32: 98080.5\n",
            "Loss after epoch 33: 98268.0\n",
            "Loss after epoch 34: 98120.5\n",
            "Loss after epoch 35: 97038.0\n",
            "Loss after epoch 36: 97879.0\n",
            "Loss after epoch 37: 96282.5\n",
            "Loss after epoch 38: 95765.5\n",
            "Loss after epoch 39: 95552.5\n",
            "Loss after epoch 40: 95526.5\n",
            "Loss after epoch 41: 95744.0\n",
            "Loss after epoch 42: 96656.0\n",
            "Loss after epoch 43: 95969.5\n",
            "Loss after epoch 44: 94527.0\n",
            "Loss after epoch 45: 95774.5\n",
            "Loss after epoch 46: 95160.5\n",
            "Loss after epoch 47: 94142.5\n",
            "Loss after epoch 48: 94853.0\n",
            "Loss after epoch 49: 94543.0\n",
            "Loss after epoch 50: 94546.0\n",
            "Loss after epoch 51: 93915.0\n",
            "Loss after epoch 52: 92938.5\n",
            "Loss after epoch 53: 93998.0\n",
            "Loss after epoch 54: 93754.5\n",
            "Loss after epoch 55: 92931.5\n",
            "Loss after epoch 56: 93887.0\n",
            "Loss after epoch 57: 94206.0\n",
            "Loss after epoch 58: 93295.0\n",
            "Loss after epoch 59: 92315.5\n",
            "Loss after epoch 60: 92770.5\n",
            "Loss after epoch 61: 93661.5\n",
            "Loss after epoch 62: 92339.0\n",
            "Loss after epoch 63: 92562.5\n",
            "Loss after epoch 64: 92402.5\n",
            "Loss after epoch 65: 92222.5\n",
            "Loss after epoch 66: 92261.5\n",
            "Loss after epoch 67: 92370.0\n",
            "Loss after epoch 68: 91708.5\n",
            "Loss after epoch 69: 92307.0\n",
            "Loss after epoch 70: 92212.0\n",
            "Loss after epoch 71: 91599.0\n",
            "Loss after epoch 72: 91410.0\n",
            "Loss after epoch 73: 91577.5\n",
            "Loss after epoch 74: 92159.5\n",
            "Loss after epoch 75: 84141.0\n",
            "Loss after epoch 76: 84122.0\n",
            "Loss after epoch 77: 83396.0\n",
            "Loss after epoch 78: 83604.0\n",
            "Loss after epoch 79: 83151.0\n",
            "Loss after epoch 80: 82306.0\n",
            "Loss after epoch 81: 82957.0\n",
            "Loss after epoch 82: 82523.0\n",
            "Loss after epoch 83: 82508.0\n",
            "Loss after epoch 84: 82071.0\n",
            "Loss after epoch 85: 82616.0\n",
            "Loss after epoch 86: 82829.0\n",
            "Loss after epoch 87: 81437.0\n",
            "Loss after epoch 88: 83541.0\n",
            "Loss after epoch 89: 81860.0\n",
            "Loss after epoch 90: 81746.0\n",
            "Loss after epoch 91: 81540.0\n",
            "Loss after epoch 92: 82071.0\n",
            "Loss after epoch 93: 81320.0\n",
            "Loss after epoch 94: 80777.0\n",
            "Loss after epoch 95: 81115.0\n",
            "Loss after epoch 96: 81060.0\n",
            "Loss after epoch 97: 81642.0\n",
            "Loss after epoch 98: 81324.0\n",
            "Loss after epoch 99: 80713.0\n"
          ]
        },
        {
          "output_type": "execute_result",
          "data": {
            "text/plain": [
              "(2216546, 3841500)"
            ]
          },
          "metadata": {},
          "execution_count": 247
        }
      ],
      "source": [
        "w2v_model.train(sentence_tokens,\n",
        "                 total_examples=w2v_model.corpus_count,\n",
        "                 epochs=100,\n",
        "                 compute_loss = True,\n",
        "                 callbacks=[callback()]\n",
        "                 )"
      ]
    },
    {
      "cell_type": "markdown",
      "source": [
        "## 2 - Probar términos de interés y explicar similitudes en el espacio de embeddings (sacar conclusiones entre palabras, similitudes y diferencias)."
      ],
      "metadata": {
        "id": "Nbn1myWvACdW"
      }
    },
    {
      "cell_type": "markdown",
      "source": [
        "Se eligen como términos de interés algunas palabras que se sabe que están incluidas en las canciones de Bob Dylan y que son muy utilizadas, por estar en el título o en el estribillo de algunas canciones: *door, song, wind, stone*. Se analizan las 10 palabras más similares de las primeras 3, y las 10 menos similares de la última:"
      ],
      "metadata": {
        "id": "eBuyM16_SgEz"
      }
    },
    {
      "cell_type": "code",
      "execution_count": 248,
      "metadata": {
        "id": "DT4Rvno2mD65",
        "colab": {
          "base_uri": "https://localhost:8080/"
        },
        "outputId": "0c6877a7-6b57-45f4-9005-7ba235a77d2c"
      },
      "outputs": [
        {
          "output_type": "execute_result",
          "data": {
            "text/plain": [
              "[('knock', 0.5437401533126831),\n",
              " ('knockin’', 0.5229071378707886),\n",
              " ('heaven’s', 0.5223445296287537),\n",
              " ('gate', 0.5201696157455444),\n",
              " ('bend', 0.4484601616859436),\n",
              " ('shut', 0.4399539530277252),\n",
              " ('darkness', 0.4245995581150055),\n",
              " ('blade', 0.42352378368377686),\n",
              " ('window', 0.4198409914970398),\n",
              " ('ears', 0.4079689085483551)]"
            ]
          },
          "metadata": {},
          "execution_count": 248
        }
      ],
      "source": [
        "w2v_model.wv.most_similar(positive=[\"door\"], topn=10)"
      ]
    },
    {
      "cell_type": "markdown",
      "source": [
        "Palabras más similares a \"door\": se obtienen las palabras que era lógico encontrar, dado que se utilizó para el entrenamiento la canción *\"Knockin' on heaven's door\"*. Esto muestra que el modelo está funcionando como se esperaba.\n",
        "\n",
        "Las primeras 3 palabras no son similares en su significado, pero sí suelen aparecer juntas. Luego se observan otras palabras cuyo significado sí está relacionado a *'door'*, tales como *'gate'*, *'shut'* y *'window'*."
      ],
      "metadata": {
        "id": "iIP7udB3TdHb"
      }
    },
    {
      "cell_type": "code",
      "execution_count": 249,
      "metadata": {
        "id": "6cHN9xGLuPEm",
        "colab": {
          "base_uri": "https://localhost:8080/"
        },
        "outputId": "7ba6e458-d0e4-4899-80bb-24723e1e4410"
      },
      "outputs": [
        {
          "output_type": "execute_result",
          "data": {
            "text/plain": [
              "[('tambourine', 0.6224939227104187),\n",
              " ('hey', 0.5756471753120422),\n",
              " ('lover', 0.53081214427948),\n",
              " ('mr', 0.5260533690452576),\n",
              " ('call', 0.48345085978507996),\n",
              " ('singin’', 0.4809739887714386),\n",
              " ('warm', 0.47836026549339294),\n",
              " ('fit', 0.4735334813594818),\n",
              " ('you—now', 0.470608115196228),\n",
              " ('gate', 0.46139422059059143)]"
            ]
          },
          "metadata": {},
          "execution_count": 249
        }
      ],
      "source": [
        "w2v_model.wv.most_similar(positive=[\"song\"], topn=10)"
      ]
    },
    {
      "cell_type": "markdown",
      "source": [
        "Palabras más similares a \"song\": como en el caso anterior, obtenemos las palabras que se esperaban, considerando la letra de la canción que repite varias veces *\"Hey Mr Tambourine man, play a song for me\"*. En el listado vemos además la palabra *\"singin\"*, relacionada en su significado, y que suele encontrarse en contextos similares."
      ],
      "metadata": {
        "id": "--5gziXSU3BL"
      }
    },
    {
      "cell_type": "code",
      "execution_count": 250,
      "metadata": {
        "id": "XPLDPgzBmQXt",
        "colab": {
          "base_uri": "https://localhost:8080/"
        },
        "outputId": "c28fe519-db14-4291-d578-7c6efc490e0d"
      },
      "outputs": [
        {
          "output_type": "execute_result",
          "data": {
            "text/plain": [
              "[('answer', 0.5279859304428101),\n",
              " ('north', 0.4400685131549835),\n",
              " ('blowin’', 0.4353673756122589),\n",
              " ('blows', 0.43473386764526367),\n",
              " ('hope', 0.4289775788784027),\n",
              " ('angel', 0.4170595109462738),\n",
              " ('ancient', 0.4077379107475281),\n",
              " ('tangled', 0.40716665983200073),\n",
              " ('daddy’s', 0.404609352350235),\n",
              " ('blow', 0.39545243978500366)]"
            ]
          },
          "metadata": {},
          "execution_count": 250
        }
      ],
      "source": [
        "w2v_model.wv.most_similar(positive=[\"wind\"], topn=10)"
      ]
    },
    {
      "cell_type": "markdown",
      "source": [
        "Palabras más similares a \"wind\": también se obtienen palabras esperadas, que surgen de la letra que se repite *\"the answer, my friend, is blowin' in the wind\"*. Se observa que aparece una misma palabra en distintas formas: *\"blowin'\", \"blows\"* y *\"blow\"*, que no provienen de la misma canción, pero sí están claramente relacionadas entre sí y con la palabra *\"wind\"*."
      ],
      "metadata": {
        "id": "4moQuYuzV10l"
      }
    },
    {
      "cell_type": "code",
      "execution_count": 251,
      "metadata": {
        "id": "47HiU5gdkdMq",
        "colab": {
          "base_uri": "https://localhost:8080/"
        },
        "outputId": "2b3dd947-dffd-4a03-f813-01c7205e10fd"
      },
      "outputs": [
        {
          "output_type": "execute_result",
          "data": {
            "text/plain": [
              "[('any', -0.011665698140859604),\n",
              " ('take', -0.03180922940373421),\n",
              " ('called', -0.04023498669266701),\n",
              " ('one', -0.056366804987192154),\n",
              " ('talk', -0.0666089653968811),\n",
              " ('were', -0.07009243965148926),\n",
              " ('this', -0.07250683754682541),\n",
              " ('kingdom', -0.07258763909339905),\n",
              " ('where', -0.07493628561496735),\n",
              " ('nobody', -0.07572993636131287)]"
            ]
          },
          "metadata": {},
          "execution_count": 251
        }
      ],
      "source": [
        "w2v_model.wv.most_similar(negative=[\"stone\"], topn=10)"
      ]
    },
    {
      "cell_type": "markdown",
      "source": [
        "Palabras **menos** similares a \"stone\": se obtienen palabras variadas, cuyo significado no está relacionado con *\"stone\"*, y que tampoco se encuentran en la canción *\"Like a rollin' stone\"* (al menos en el estribillo, donde podrían estar las palabras más cercanas a *\"stone\"*)."
      ],
      "metadata": {
        "id": "Uexpgb7JZfo3"
      }
    },
    {
      "cell_type": "markdown",
      "source": [
        "Se prueba con una palabra que no está presente en el vocabulario, sólo para comprobar que no puede analizarse utilizando esta metodología y que se obtiene un error:"
      ],
      "metadata": {
        "id": "c4SfIAQdaZEg"
      }
    },
    {
      "cell_type": "code",
      "execution_count": 252,
      "metadata": {
        "id": "L_UvHPMMklOr",
        "colab": {
          "base_uri": "https://localhost:8080/",
          "height": 301
        },
        "outputId": "403a99ad-ee4d-4731-cf44-360876061ec9"
      },
      "outputs": [
        {
          "output_type": "error",
          "ename": "KeyError",
          "evalue": "\"Key 'guitar' not present in vocabulary\"",
          "traceback": [
            "\u001b[0;31m---------------------------------------------------------------------------\u001b[0m",
            "\u001b[0;31mKeyError\u001b[0m                                  Traceback (most recent call last)",
            "\u001b[0;32m/tmp/ipython-input-4092421481.py\u001b[0m in \u001b[0;36m<cell line: 0>\u001b[0;34m()\u001b[0m\n\u001b[0;32m----> 1\u001b[0;31m \u001b[0mw2v_model\u001b[0m\u001b[0;34m.\u001b[0m\u001b[0mwv\u001b[0m\u001b[0;34m.\u001b[0m\u001b[0mmost_similar\u001b[0m\u001b[0;34m(\u001b[0m\u001b[0mnegative\u001b[0m\u001b[0;34m=\u001b[0m\u001b[0;34m[\u001b[0m\u001b[0;34m\"guitar\"\u001b[0m\u001b[0;34m]\u001b[0m\u001b[0;34m)\u001b[0m\u001b[0;34m\u001b[0m\u001b[0;34m\u001b[0m\u001b[0m\n\u001b[0m",
            "\u001b[0;32m/usr/local/lib/python3.12/dist-packages/gensim/models/keyedvectors.py\u001b[0m in \u001b[0;36mmost_similar\u001b[0;34m(self, positive, negative, topn, clip_start, clip_end, restrict_vocab, indexer)\u001b[0m\n\u001b[1;32m    839\u001b[0m \u001b[0;34m\u001b[0m\u001b[0m\n\u001b[1;32m    840\u001b[0m         \u001b[0;31m# compute the weighted average of all keys\u001b[0m\u001b[0;34m\u001b[0m\u001b[0;34m\u001b[0m\u001b[0m\n\u001b[0;32m--> 841\u001b[0;31m         \u001b[0mmean\u001b[0m \u001b[0;34m=\u001b[0m \u001b[0mself\u001b[0m\u001b[0;34m.\u001b[0m\u001b[0mget_mean_vector\u001b[0m\u001b[0;34m(\u001b[0m\u001b[0mkeys\u001b[0m\u001b[0;34m,\u001b[0m \u001b[0mweight\u001b[0m\u001b[0;34m,\u001b[0m \u001b[0mpre_normalize\u001b[0m\u001b[0;34m=\u001b[0m\u001b[0;32mTrue\u001b[0m\u001b[0;34m,\u001b[0m \u001b[0mpost_normalize\u001b[0m\u001b[0;34m=\u001b[0m\u001b[0;32mTrue\u001b[0m\u001b[0;34m,\u001b[0m \u001b[0mignore_missing\u001b[0m\u001b[0;34m=\u001b[0m\u001b[0;32mFalse\u001b[0m\u001b[0;34m)\u001b[0m\u001b[0;34m\u001b[0m\u001b[0;34m\u001b[0m\u001b[0m\n\u001b[0m\u001b[1;32m    842\u001b[0m         all_keys = [\n\u001b[1;32m    843\u001b[0m             \u001b[0mself\u001b[0m\u001b[0;34m.\u001b[0m\u001b[0mget_index\u001b[0m\u001b[0;34m(\u001b[0m\u001b[0mkey\u001b[0m\u001b[0;34m)\u001b[0m \u001b[0;32mfor\u001b[0m \u001b[0mkey\u001b[0m \u001b[0;32min\u001b[0m \u001b[0mkeys\u001b[0m \u001b[0;32mif\u001b[0m \u001b[0misinstance\u001b[0m\u001b[0;34m(\u001b[0m\u001b[0mkey\u001b[0m\u001b[0;34m,\u001b[0m \u001b[0m_KEY_TYPES\u001b[0m\u001b[0;34m)\u001b[0m \u001b[0;32mand\u001b[0m \u001b[0mself\u001b[0m\u001b[0;34m.\u001b[0m\u001b[0mhas_index_for\u001b[0m\u001b[0;34m(\u001b[0m\u001b[0mkey\u001b[0m\u001b[0;34m)\u001b[0m\u001b[0;34m\u001b[0m\u001b[0;34m\u001b[0m\u001b[0m\n",
            "\u001b[0;32m/usr/local/lib/python3.12/dist-packages/gensim/models/keyedvectors.py\u001b[0m in \u001b[0;36mget_mean_vector\u001b[0;34m(self, keys, weights, pre_normalize, post_normalize, ignore_missing)\u001b[0m\n\u001b[1;32m    516\u001b[0m                 \u001b[0mtotal_weight\u001b[0m \u001b[0;34m+=\u001b[0m \u001b[0mabs\u001b[0m\u001b[0;34m(\u001b[0m\u001b[0mweights\u001b[0m\u001b[0;34m[\u001b[0m\u001b[0midx\u001b[0m\u001b[0;34m]\u001b[0m\u001b[0;34m)\u001b[0m\u001b[0;34m\u001b[0m\u001b[0;34m\u001b[0m\u001b[0m\n\u001b[1;32m    517\u001b[0m             \u001b[0;32melif\u001b[0m \u001b[0;32mnot\u001b[0m \u001b[0mignore_missing\u001b[0m\u001b[0;34m:\u001b[0m\u001b[0;34m\u001b[0m\u001b[0;34m\u001b[0m\u001b[0m\n\u001b[0;32m--> 518\u001b[0;31m                 \u001b[0;32mraise\u001b[0m \u001b[0mKeyError\u001b[0m\u001b[0;34m(\u001b[0m\u001b[0;34mf\"Key '{key}' not present in vocabulary\"\u001b[0m\u001b[0;34m)\u001b[0m\u001b[0;34m\u001b[0m\u001b[0;34m\u001b[0m\u001b[0m\n\u001b[0m\u001b[1;32m    519\u001b[0m \u001b[0;34m\u001b[0m\u001b[0m\n\u001b[1;32m    520\u001b[0m         \u001b[0;32mif\u001b[0m \u001b[0mtotal_weight\u001b[0m \u001b[0;34m>\u001b[0m \u001b[0;36m0\u001b[0m\u001b[0;34m:\u001b[0m\u001b[0;34m\u001b[0m\u001b[0;34m\u001b[0m\u001b[0m\n",
            "\u001b[0;31mKeyError\u001b[0m: \"Key 'guitar' not present in vocabulary\""
          ]
        }
      ],
      "source": [
        "w2v_model.wv.most_similar(negative=[\"guitar\"])"
      ]
    },
    {
      "cell_type": "markdown",
      "source": [
        "## 3 - Graficarlos y obtener conclusiones"
      ],
      "metadata": {
        "id": "Qtt07gzAJ_F9"
      }
    },
    {
      "cell_type": "markdown",
      "metadata": {
        "id": "_g8UVWe6lFmh"
      },
      "source": [
        "Se aplica una reducción de dimensiones a los embeddings con t-SNE, para poder hacer gráficos en 2D y 3D, y visualizar en forma gráfica las relaciones entre palabras:"
      ]
    },
    {
      "cell_type": "code",
      "execution_count": 253,
      "metadata": {
        "id": "pDxEVXAivjr9"
      },
      "outputs": [],
      "source": [
        "from sklearn.decomposition import IncrementalPCA\n",
        "from sklearn.manifold import TSNE\n",
        "import numpy as np\n",
        "\n",
        "def reduce_dimensions(model, num_dimensions = 2 ):\n",
        "\n",
        "    vectors = np.asarray(model.wv.vectors)\n",
        "    labels = np.asarray(model.wv.index_to_key)\n",
        "\n",
        "    tsne = TSNE(n_components=num_dimensions, random_state=0)\n",
        "    vectors = tsne.fit_transform(vectors)\n",
        "\n",
        "    return vectors, labels"
      ]
    },
    {
      "cell_type": "markdown",
      "source": [
        "Gráfico en 2D:"
      ],
      "metadata": {
        "id": "Fk2RFwwlbgz8"
      }
    },
    {
      "cell_type": "code",
      "execution_count": 254,
      "metadata": {
        "id": "NCCXtDpcugmd",
        "colab": {
          "base_uri": "https://localhost:8080/",
          "height": 542
        },
        "outputId": "cfaad401-b28a-465a-f89f-3b8373da4dce"
      },
      "outputs": [
        {
          "output_type": "display_data",
          "data": {
            "text/html": [
              "<html>\n",
              "<head><meta charset=\"utf-8\" /></head>\n",
              "<body>\n",
              "    <div>            <script src=\"https://cdnjs.cloudflare.com/ajax/libs/mathjax/2.7.5/MathJax.js?config=TeX-AMS-MML_SVG\"></script><script type=\"text/javascript\">if (window.MathJax && window.MathJax.Hub && window.MathJax.Hub.Config) {window.MathJax.Hub.Config({SVG: {font: \"STIX-Web\"}});}</script>                <script type=\"text/javascript\">window.PlotlyConfig = {MathJaxConfig: 'local'};</script>\n",
              "        <script charset=\"utf-8\" src=\"https://cdn.plot.ly/plotly-2.35.2.min.js\"></script>                <div id=\"1ac75a6f-98e7-4c8f-87c6-51c08dcf1aa2\" class=\"plotly-graph-div\" style=\"height:525px; width:100%;\"></div>            <script type=\"text/javascript\">                                    window.PLOTLYENV=window.PLOTLYENV || {};                                    if (document.getElementById(\"1ac75a6f-98e7-4c8f-87c6-51c08dcf1aa2\")) {                    Plotly.newPlot(                        \"1ac75a6f-98e7-4c8f-87c6-51c08dcf1aa2\",                        [{\"hovertemplate\":\"x=%{x}\\u003cbr\\u003ey=%{y}\\u003cbr\\u003etext=%{text}\\u003cextra\\u003e\\u003c\\u002fextra\\u003e\",\"legendgroup\":\"\",\"marker\":{\"color\":\"#636efa\",\"symbol\":\"circle\"},\"mode\":\"markers+text\",\"name\":\"\",\"orientation\":\"v\",\"showlegend\":false,\"text\":[\"the\",\"you\",\"i\",\"to\",\"and\",\"a\",\"in\",\"of\",\"my\",\"me\",\"it\",\"your\",\"on\",\"that\",\"is\",\"i’m\",\"be\",\"for\",\"but\",\"all\",\"with\",\"they\",\"he\",\"no\",\"like\",\"just\",\"when\",\"was\",\"can\",\"well\",\"she\",\"don’t\",\"out\",\"know\",\"are\",\"so\",\"gonna\",\"up\",\"got\",\"down\",\"it’s\",\"from\",\"what\",\"his\",\"have\",\"one\",\"not\",\"now\",\"see\",\"if\",\"do\",\"love\",\"oh\",\"there\",\"her\",\"you’re\",\"as\",\"say\",\"or\",\"at\",\"man\",\"get\",\"go\",\"been\",\"this\",\"ain’t\",\"where\",\"come\",\"by\",\"time\",\"too\",\"who\",\"can’t\",\"him\",\"we\",\"back\",\"how\",\"here\",\"there’s\",\"never\",\"did\",\"more\",\"could\",\"want\",\"some\",\"i’ll\",\"way\",\"then\",\"said\",\"may\",\"through\",\"still\",\"make\",\"them\",\"day\",\"will\",\"tell\",\"let\",\"into\",\"heart\",\"i’ve\",\"long\",\"night\",\"”\",\"only\",\"wiggle\",\"feel\",\"things\",\"think\",\"around\",\"hear\",\"people\",\"eyes\",\"god\",\"he’s\",\"light\",\"need\",\"hard\",\"good\",\"must\",\"would\",\"baby\",\"yes\",\"right\",\"world\",\"i'm\",\"has\",\"going\",\"about\",\"any\",\"even\",\"look\",\"had\",\"their\",\"take\",\"an\",\"before\",\"every\",\"always\",\"won’t\",\"door\",\"mind\",\"were\",\"broken\",\"knows\",\"away\",\"new\",\"high\",\"face\",\"much\",\"give\",\"ever\",\"off\",\"last\",\"true\",\"an’\",\"they’re\",\"gone\",\"she’s\",\"little\",\"inside\",\"somebody\",\"many\",\"while\",\"says\",\"really\",\"hand\",\"might\",\"road\",\"keep\",\"dee\",\"again\",\"nothing\",\"old\",\"believe\",\"these\",\"place\",\"call\",\"why\",\"woman\",\"over\",\"town\",\"alone\",\"though\",\"turn\",\"something\",\"young\",\"left\",\"don't\",\"blue\",\"morning\",\"everything\",\"mama\",\"wake\",\"stone\",\"sun\",\"best\",\"head\",\"lord\",\"other\"],\"x\":[8.349751,-7.9621034,-7.766849,-8.784436,-6.8433924,-5.148958,6.705308,8.376921,6.631638,-5.730168,-13.491249,-16.039413,12.672564,-7.151722,7.410132,6.3922024,-8.124844,16.345089,-3.5804029,-7.7086844,-1.876951,-3.763157,-3.0703735,1.5508761,-3.7125454,-9.354802,-4.239851,0.57934695,-9.2758875,21.491262,1.5405905,-11.546194,5.323109,-7.398656,0.53347015,-13.624329,-7.244615,4.4946833,-12.736084,9.933671,-14.52779,17.845015,-3.4098947,-4.092755,-19.686861,0.18053412,-9.523827,-15.69543,-4.7779913,-16.302902,-8.067236,-2.8057241,-6.4953046,7.844722,-4.144028,14.6101055,3.3123991,-11.016933,-9.323581,4.48579,21.094507,-11.118502,-3.5696259,-7.811226,11.986735,16.393986,2.2472565,-5.163313,5.681974,8.80128,-13.578549,-12.270142,-5.696225,0.25753498,-5.414019,-4.0575137,-16.003496,8.813308,-9.830988,-13.355703,-3.3607757,15.879971,-10.873108,-6.7101884,-5.4582186,-7.162671,-1.9082353,-5.43737,1.3733621,12.844843,-0.9182123,12.18791,-4.991259,-18.39416,1.0457013,-5.7069554,-6.381698,-4.564046,3.1742752,12.605121,-8.190847,-9.435975,9.155731,0.9930334,-10.225367,-1.10483,-4.4203415,6.319518,-7.9495215,5.000099,-5.5276337,-6.4527025,3.9731066,-6.8099446,15.404788,9.94495,-2.3977733,-9.282389,-4.670886,-10.295277,-6.3451552,-20.102674,-15.235225,-4.8687387,9.933281,-1.2777184,-8.584544,-6.4893665,-3.6954982,2.6699674,-6.122911,3.3121924,-7.231627,-6.706999,3.3356,9.85782,-2.7744107,8.812238,-7.7488203,-5.2937803,14.628741,-14.861201,6.4143815,-1.8075922,-2.4002147,-19.250427,17.601429,10.16525,5.5547624,-13.532792,3.3573005,-10.721762,1.1004903,4.9659243,-15.963268,0.44495493,10.7631,1.9376758,3.924881,8.100835,13.243201,-15.182845,-11.915043,-0.9679917,-14.2534075,-19.064016,-2.777688,-4.285854,9.899025,-9.555341,-17.221867,6.9177704,-0.8582602,12.649011,-6.59512,4.9790015,3.9642456,-7.402587,-13.700553,-1.0949814,2.6826546,11.563271,-0.7649747,0.5153487,-16.624554,8.536719,6.6415153,-14.256994,-13.71713,6.8459134,12.579018,-6.842393,-6.9575496,6.918075,-15.615655,9.286897,21.353216,4.2128515,-8.540937,-14.681794],\"xaxis\":\"x\",\"y\":[1.9180499,-4.406104,-4.3534107,-4.0528517,4.1526136,14.472177,3.466011,6.5175176,-1.9012573,-4.4126244,-14.981957,0.46843857,7.9669976,4.949912,-2.4132276,5.102484,-9.2524605,2.1193848,0.5028328,4.2154827,8.293088,-6.503468,0.18083644,-13.220036,11.529856,17.723236,-5.5164185,1.8491892,-10.346861,4.642085,-19.20013,-13.474484,5.1307244,-5.7382884,-9.051174,-0.32574877,-16.075306,13.643068,7.713548,0.57628226,2.9859037,2.8325453,-14.903817,7.2529807,5.7576895,-5.9018607,1.1222916,8.38236,-7.715838,-0.43791553,-13.5151825,-4.0260415,-20.178728,-7.432628,-2.8489254,1.6551292,18.639748,-7.195115,8.801716,-4.571653,9.457994,-3.1784475,-10.576638,5.5797257,0.4616854,0.8917089,-10.139517,-8.669764,7.147471,-3.9393344,10.613809,1.9969733,-11.797876,4.1109076,4.6057334,-8.553722,-8.063925,-7.5435677,14.631634,6.369779,13.7290745,-7.507107,6.590968,-12.854336,1.5485806,-9.039681,-15.078409,-8.186544,-17.72544,-2.8281379,19.14512,17.01976,-6.7223444,-8.240092,19.869524,-6.2152867,-6.9555593,-14.053446,14.283559,17.671942,5.1787972,2.3635104,2.3404267,-18.202341,-19.105429,11.016022,4.9963064,-16.15086,-7.427197,12.634744,-1.6960026,13.11515,9.667596,-3.297143,1.8125738,12.137025,-18.447687,10.706099,-15.760555,-0.24498504,-10.511744,-10.151422,-9.406853,-5.0548778,14.258392,3.6963396,5.9663463,-16.717695,18.1071,-13.15134,-2.83937,16.559776,6.848039,1.4289205,-0.23868534,2.3470616,-6.7886043,-5.580434,-10.232816,-9.340128,13.039991,5.2651906,-7.2095838,10.18832,4.4562798,8.577101,8.006018,10.449251,2.7949905,-10.167113,-17.547323,5.528755,11.465797,-4.8618026,6.4024386,-2.8764553,1.4675074,1.5749964,10.602965,-13.911421,-7.8561034,-7.072845,-2.7411783,2.7949023,-12.723824,-6.7746882,7.632726,5.898985,0.13411118,0.5049253,-13.742846,-11.999856,0.096747644,0.94818896,-5.2852917,-11.332564,-7.3025084,-6.8802915,1.6263297,4.8771644,6.931902,5.430975,-16.422054,-10.079779,3.3848133,-9.321948,14.891061,7.6203184,-5.334746,13.747229,2.6099052,10.929049,18.461802,-17.153675,13.057035,3.0479503,-2.123059,4.2444367,-14.6011505,-3.657652],\"yaxis\":\"y\",\"type\":\"scatter\"}],                        {\"template\":{\"data\":{\"histogram2dcontour\":[{\"type\":\"histogram2dcontour\",\"colorbar\":{\"outlinewidth\":0,\"ticks\":\"\"},\"colorscale\":[[0.0,\"#0d0887\"],[0.1111111111111111,\"#46039f\"],[0.2222222222222222,\"#7201a8\"],[0.3333333333333333,\"#9c179e\"],[0.4444444444444444,\"#bd3786\"],[0.5555555555555556,\"#d8576b\"],[0.6666666666666666,\"#ed7953\"],[0.7777777777777778,\"#fb9f3a\"],[0.8888888888888888,\"#fdca26\"],[1.0,\"#f0f921\"]]}],\"choropleth\":[{\"type\":\"choropleth\",\"colorbar\":{\"outlinewidth\":0,\"ticks\":\"\"}}],\"histogram2d\":[{\"type\":\"histogram2d\",\"colorbar\":{\"outlinewidth\":0,\"ticks\":\"\"},\"colorscale\":[[0.0,\"#0d0887\"],[0.1111111111111111,\"#46039f\"],[0.2222222222222222,\"#7201a8\"],[0.3333333333333333,\"#9c179e\"],[0.4444444444444444,\"#bd3786\"],[0.5555555555555556,\"#d8576b\"],[0.6666666666666666,\"#ed7953\"],[0.7777777777777778,\"#fb9f3a\"],[0.8888888888888888,\"#fdca26\"],[1.0,\"#f0f921\"]]}],\"heatmap\":[{\"type\":\"heatmap\",\"colorbar\":{\"outlinewidth\":0,\"ticks\":\"\"},\"colorscale\":[[0.0,\"#0d0887\"],[0.1111111111111111,\"#46039f\"],[0.2222222222222222,\"#7201a8\"],[0.3333333333333333,\"#9c179e\"],[0.4444444444444444,\"#bd3786\"],[0.5555555555555556,\"#d8576b\"],[0.6666666666666666,\"#ed7953\"],[0.7777777777777778,\"#fb9f3a\"],[0.8888888888888888,\"#fdca26\"],[1.0,\"#f0f921\"]]}],\"heatmapgl\":[{\"type\":\"heatmapgl\",\"colorbar\":{\"outlinewidth\":0,\"ticks\":\"\"},\"colorscale\":[[0.0,\"#0d0887\"],[0.1111111111111111,\"#46039f\"],[0.2222222222222222,\"#7201a8\"],[0.3333333333333333,\"#9c179e\"],[0.4444444444444444,\"#bd3786\"],[0.5555555555555556,\"#d8576b\"],[0.6666666666666666,\"#ed7953\"],[0.7777777777777778,\"#fb9f3a\"],[0.8888888888888888,\"#fdca26\"],[1.0,\"#f0f921\"]]}],\"contourcarpet\":[{\"type\":\"contourcarpet\",\"colorbar\":{\"outlinewidth\":0,\"ticks\":\"\"}}],\"contour\":[{\"type\":\"contour\",\"colorbar\":{\"outlinewidth\":0,\"ticks\":\"\"},\"colorscale\":[[0.0,\"#0d0887\"],[0.1111111111111111,\"#46039f\"],[0.2222222222222222,\"#7201a8\"],[0.3333333333333333,\"#9c179e\"],[0.4444444444444444,\"#bd3786\"],[0.5555555555555556,\"#d8576b\"],[0.6666666666666666,\"#ed7953\"],[0.7777777777777778,\"#fb9f3a\"],[0.8888888888888888,\"#fdca26\"],[1.0,\"#f0f921\"]]}],\"surface\":[{\"type\":\"surface\",\"colorbar\":{\"outlinewidth\":0,\"ticks\":\"\"},\"colorscale\":[[0.0,\"#0d0887\"],[0.1111111111111111,\"#46039f\"],[0.2222222222222222,\"#7201a8\"],[0.3333333333333333,\"#9c179e\"],[0.4444444444444444,\"#bd3786\"],[0.5555555555555556,\"#d8576b\"],[0.6666666666666666,\"#ed7953\"],[0.7777777777777778,\"#fb9f3a\"],[0.8888888888888888,\"#fdca26\"],[1.0,\"#f0f921\"]]}],\"mesh3d\":[{\"type\":\"mesh3d\",\"colorbar\":{\"outlinewidth\":0,\"ticks\":\"\"}}],\"scatter\":[{\"fillpattern\":{\"fillmode\":\"overlay\",\"size\":10,\"solidity\":0.2},\"type\":\"scatter\"}],\"parcoords\":[{\"type\":\"parcoords\",\"line\":{\"colorbar\":{\"outlinewidth\":0,\"ticks\":\"\"}}}],\"scatterpolargl\":[{\"type\":\"scatterpolargl\",\"marker\":{\"colorbar\":{\"outlinewidth\":0,\"ticks\":\"\"}}}],\"bar\":[{\"error_x\":{\"color\":\"#2a3f5f\"},\"error_y\":{\"color\":\"#2a3f5f\"},\"marker\":{\"line\":{\"color\":\"#E5ECF6\",\"width\":0.5},\"pattern\":{\"fillmode\":\"overlay\",\"size\":10,\"solidity\":0.2}},\"type\":\"bar\"}],\"scattergeo\":[{\"type\":\"scattergeo\",\"marker\":{\"colorbar\":{\"outlinewidth\":0,\"ticks\":\"\"}}}],\"scatterpolar\":[{\"type\":\"scatterpolar\",\"marker\":{\"colorbar\":{\"outlinewidth\":0,\"ticks\":\"\"}}}],\"histogram\":[{\"marker\":{\"pattern\":{\"fillmode\":\"overlay\",\"size\":10,\"solidity\":0.2}},\"type\":\"histogram\"}],\"scattergl\":[{\"type\":\"scattergl\",\"marker\":{\"colorbar\":{\"outlinewidth\":0,\"ticks\":\"\"}}}],\"scatter3d\":[{\"type\":\"scatter3d\",\"line\":{\"colorbar\":{\"outlinewidth\":0,\"ticks\":\"\"}},\"marker\":{\"colorbar\":{\"outlinewidth\":0,\"ticks\":\"\"}}}],\"scattermapbox\":[{\"type\":\"scattermapbox\",\"marker\":{\"colorbar\":{\"outlinewidth\":0,\"ticks\":\"\"}}}],\"scatterternary\":[{\"type\":\"scatterternary\",\"marker\":{\"colorbar\":{\"outlinewidth\":0,\"ticks\":\"\"}}}],\"scattercarpet\":[{\"type\":\"scattercarpet\",\"marker\":{\"colorbar\":{\"outlinewidth\":0,\"ticks\":\"\"}}}],\"carpet\":[{\"aaxis\":{\"endlinecolor\":\"#2a3f5f\",\"gridcolor\":\"white\",\"linecolor\":\"white\",\"minorgridcolor\":\"white\",\"startlinecolor\":\"#2a3f5f\"},\"baxis\":{\"endlinecolor\":\"#2a3f5f\",\"gridcolor\":\"white\",\"linecolor\":\"white\",\"minorgridcolor\":\"white\",\"startlinecolor\":\"#2a3f5f\"},\"type\":\"carpet\"}],\"table\":[{\"cells\":{\"fill\":{\"color\":\"#EBF0F8\"},\"line\":{\"color\":\"white\"}},\"header\":{\"fill\":{\"color\":\"#C8D4E3\"},\"line\":{\"color\":\"white\"}},\"type\":\"table\"}],\"barpolar\":[{\"marker\":{\"line\":{\"color\":\"#E5ECF6\",\"width\":0.5},\"pattern\":{\"fillmode\":\"overlay\",\"size\":10,\"solidity\":0.2}},\"type\":\"barpolar\"}],\"pie\":[{\"automargin\":true,\"type\":\"pie\"}]},\"layout\":{\"autotypenumbers\":\"strict\",\"colorway\":[\"#636efa\",\"#EF553B\",\"#00cc96\",\"#ab63fa\",\"#FFA15A\",\"#19d3f3\",\"#FF6692\",\"#B6E880\",\"#FF97FF\",\"#FECB52\"],\"font\":{\"color\":\"#2a3f5f\"},\"hovermode\":\"closest\",\"hoverlabel\":{\"align\":\"left\"},\"paper_bgcolor\":\"white\",\"plot_bgcolor\":\"#E5ECF6\",\"polar\":{\"bgcolor\":\"#E5ECF6\",\"angularaxis\":{\"gridcolor\":\"white\",\"linecolor\":\"white\",\"ticks\":\"\"},\"radialaxis\":{\"gridcolor\":\"white\",\"linecolor\":\"white\",\"ticks\":\"\"}},\"ternary\":{\"bgcolor\":\"#E5ECF6\",\"aaxis\":{\"gridcolor\":\"white\",\"linecolor\":\"white\",\"ticks\":\"\"},\"baxis\":{\"gridcolor\":\"white\",\"linecolor\":\"white\",\"ticks\":\"\"},\"caxis\":{\"gridcolor\":\"white\",\"linecolor\":\"white\",\"ticks\":\"\"}},\"coloraxis\":{\"colorbar\":{\"outlinewidth\":0,\"ticks\":\"\"}},\"colorscale\":{\"sequential\":[[0.0,\"#0d0887\"],[0.1111111111111111,\"#46039f\"],[0.2222222222222222,\"#7201a8\"],[0.3333333333333333,\"#9c179e\"],[0.4444444444444444,\"#bd3786\"],[0.5555555555555556,\"#d8576b\"],[0.6666666666666666,\"#ed7953\"],[0.7777777777777778,\"#fb9f3a\"],[0.8888888888888888,\"#fdca26\"],[1.0,\"#f0f921\"]],\"sequentialminus\":[[0.0,\"#0d0887\"],[0.1111111111111111,\"#46039f\"],[0.2222222222222222,\"#7201a8\"],[0.3333333333333333,\"#9c179e\"],[0.4444444444444444,\"#bd3786\"],[0.5555555555555556,\"#d8576b\"],[0.6666666666666666,\"#ed7953\"],[0.7777777777777778,\"#fb9f3a\"],[0.8888888888888888,\"#fdca26\"],[1.0,\"#f0f921\"]],\"diverging\":[[0,\"#8e0152\"],[0.1,\"#c51b7d\"],[0.2,\"#de77ae\"],[0.3,\"#f1b6da\"],[0.4,\"#fde0ef\"],[0.5,\"#f7f7f7\"],[0.6,\"#e6f5d0\"],[0.7,\"#b8e186\"],[0.8,\"#7fbc41\"],[0.9,\"#4d9221\"],[1,\"#276419\"]]},\"xaxis\":{\"gridcolor\":\"white\",\"linecolor\":\"white\",\"ticks\":\"\",\"title\":{\"standoff\":15},\"zerolinecolor\":\"white\",\"automargin\":true,\"zerolinewidth\":2},\"yaxis\":{\"gridcolor\":\"white\",\"linecolor\":\"white\",\"ticks\":\"\",\"title\":{\"standoff\":15},\"zerolinecolor\":\"white\",\"automargin\":true,\"zerolinewidth\":2},\"scene\":{\"xaxis\":{\"backgroundcolor\":\"#E5ECF6\",\"gridcolor\":\"white\",\"linecolor\":\"white\",\"showbackground\":true,\"ticks\":\"\",\"zerolinecolor\":\"white\",\"gridwidth\":2},\"yaxis\":{\"backgroundcolor\":\"#E5ECF6\",\"gridcolor\":\"white\",\"linecolor\":\"white\",\"showbackground\":true,\"ticks\":\"\",\"zerolinecolor\":\"white\",\"gridwidth\":2},\"zaxis\":{\"backgroundcolor\":\"#E5ECF6\",\"gridcolor\":\"white\",\"linecolor\":\"white\",\"showbackground\":true,\"ticks\":\"\",\"zerolinecolor\":\"white\",\"gridwidth\":2}},\"shapedefaults\":{\"line\":{\"color\":\"#2a3f5f\"}},\"annotationdefaults\":{\"arrowcolor\":\"#2a3f5f\",\"arrowhead\":0,\"arrowwidth\":1},\"geo\":{\"bgcolor\":\"white\",\"landcolor\":\"#E5ECF6\",\"subunitcolor\":\"white\",\"showland\":true,\"showlakes\":true,\"lakecolor\":\"white\"},\"title\":{\"x\":0.05},\"mapbox\":{\"style\":\"light\"}}},\"xaxis\":{\"anchor\":\"y\",\"domain\":[0.0,1.0],\"title\":{\"text\":\"x\"}},\"yaxis\":{\"anchor\":\"x\",\"domain\":[0.0,1.0],\"title\":{\"text\":\"y\"}},\"legend\":{\"tracegroupgap\":0},\"margin\":{\"t\":60}},                        {\"responsive\": true}                    ).then(function(){\n",
              "                            \n",
              "var gd = document.getElementById('1ac75a6f-98e7-4c8f-87c6-51c08dcf1aa2');\n",
              "var x = new MutationObserver(function (mutations, observer) {{\n",
              "        var display = window.getComputedStyle(gd).display;\n",
              "        if (!display || display === 'none') {{\n",
              "            console.log([gd, 'removed!']);\n",
              "            Plotly.purge(gd);\n",
              "            observer.disconnect();\n",
              "        }}\n",
              "}});\n",
              "\n",
              "// Listen for the removal of the full notebook cells\n",
              "var notebookContainer = gd.closest('#notebook-container');\n",
              "if (notebookContainer) {{\n",
              "    x.observe(notebookContainer, {childList: true});\n",
              "}}\n",
              "\n",
              "// Listen for the clearing of the current output cell\n",
              "var outputEl = gd.closest('.output');\n",
              "if (outputEl) {{\n",
              "    x.observe(outputEl, {childList: true});\n",
              "}}\n",
              "\n",
              "                        })                };                            </script>        </div>\n",
              "</body>\n",
              "</html>"
            ]
          },
          "metadata": {}
        }
      ],
      "source": [
        "import plotly.graph_objects as go\n",
        "import plotly.express as px\n",
        "\n",
        "vecs, labels = reduce_dimensions(w2v_model)\n",
        "\n",
        "MAX_WORDS=200\n",
        "fig = px.scatter(x=vecs[:MAX_WORDS,0], y=vecs[:MAX_WORDS,1], text=labels[:MAX_WORDS])\n",
        "fig.show(renderer=\"colab\") # esto para plotly en colab"
      ]
    },
    {
      "cell_type": "markdown",
      "source": [
        "Para que el gráfico se pueda visualizar correctamente se eligen 200 palabras.\n",
        "\n",
        "Se puede observar que los términos *\"god\", \"believe\"* y *\"lord\"* son cercanos.\n",
        "\n",
        "Sin embargo, en este caso resulta difícil observar relaciones entre los términos, probablemente porque la reducción de dimensionalidad es demasiada y estamos perdiendo información."
      ],
      "metadata": {
        "id": "1DsQcFuscSXM"
      }
    },
    {
      "cell_type": "markdown",
      "source": [
        "Gráfico en 3D:"
      ],
      "metadata": {
        "id": "L5gs8zgCbmM8"
      }
    },
    {
      "cell_type": "code",
      "execution_count": 255,
      "metadata": {
        "colab": {
          "base_uri": "https://localhost:8080/",
          "height": 542
        },
        "id": "GDiE7a7F6uxN",
        "outputId": "c3a7065c-a0e6-48d7-ef4b-c921e7f60f3e"
      },
      "outputs": [
        {
          "output_type": "display_data",
          "data": {
            "text/html": [
              "<html>\n",
              "<head><meta charset=\"utf-8\" /></head>\n",
              "<body>\n",
              "    <div>            <script src=\"https://cdnjs.cloudflare.com/ajax/libs/mathjax/2.7.5/MathJax.js?config=TeX-AMS-MML_SVG\"></script><script type=\"text/javascript\">if (window.MathJax && window.MathJax.Hub && window.MathJax.Hub.Config) {window.MathJax.Hub.Config({SVG: {font: \"STIX-Web\"}});}</script>                <script type=\"text/javascript\">window.PlotlyConfig = {MathJaxConfig: 'local'};</script>\n",
              "        <script charset=\"utf-8\" src=\"https://cdn.plot.ly/plotly-2.35.2.min.js\"></script>                <div id=\"c35c3a35-61db-49ad-b378-57fe6d862644\" class=\"plotly-graph-div\" style=\"height:525px; width:100%;\"></div>            <script type=\"text/javascript\">                                    window.PLOTLYENV=window.PLOTLYENV || {};                                    if (document.getElementById(\"c35c3a35-61db-49ad-b378-57fe6d862644\")) {                    Plotly.newPlot(                        \"c35c3a35-61db-49ad-b378-57fe6d862644\",                        [{\"hovertemplate\":\"x=%{x}\\u003cbr\\u003ey=%{y}\\u003cbr\\u003ez=%{z}\\u003cbr\\u003etext=%{text}\\u003cextra\\u003e\\u003c\\u002fextra\\u003e\",\"legendgroup\":\"\",\"marker\":{\"color\":\"#636efa\",\"symbol\":\"circle\",\"size\":2},\"mode\":\"markers+text\",\"name\":\"\",\"scene\":\"scene\",\"showlegend\":false,\"text\":[\"the\",\"you\",\"i\",\"to\",\"and\",\"a\",\"in\",\"of\",\"my\",\"me\",\"it\",\"your\",\"on\",\"that\",\"is\",\"i’m\",\"be\",\"for\",\"but\",\"all\",\"with\",\"they\",\"he\",\"no\",\"like\",\"just\",\"when\",\"was\",\"can\",\"well\",\"she\",\"don’t\",\"out\",\"know\",\"are\",\"so\",\"gonna\",\"up\",\"got\",\"down\",\"it’s\",\"from\",\"what\",\"his\",\"have\",\"one\",\"not\",\"now\",\"see\",\"if\",\"do\",\"love\",\"oh\",\"there\",\"her\",\"you’re\",\"as\",\"say\",\"or\",\"at\",\"man\",\"get\",\"go\",\"been\",\"this\",\"ain’t\",\"where\",\"come\",\"by\",\"time\",\"too\",\"who\",\"can’t\",\"him\",\"we\",\"back\",\"how\",\"here\",\"there’s\",\"never\",\"did\",\"more\",\"could\",\"want\",\"some\",\"i’ll\",\"way\",\"then\",\"said\",\"may\",\"through\",\"still\",\"make\",\"them\",\"day\",\"will\",\"tell\",\"let\",\"into\",\"heart\",\"i’ve\",\"long\",\"night\",\"”\",\"only\",\"wiggle\",\"feel\",\"things\",\"think\",\"around\",\"hear\",\"people\",\"eyes\",\"god\",\"he’s\",\"light\",\"need\",\"hard\",\"good\",\"must\",\"would\",\"baby\",\"yes\",\"right\",\"world\",\"i'm\",\"has\",\"going\",\"about\",\"any\",\"even\",\"look\",\"had\",\"their\",\"take\",\"an\",\"before\",\"every\",\"always\",\"won’t\",\"door\",\"mind\",\"were\",\"broken\",\"knows\",\"away\",\"new\",\"high\",\"face\",\"much\",\"give\",\"ever\",\"off\",\"last\",\"true\",\"an’\",\"they’re\",\"gone\",\"she’s\",\"little\",\"inside\",\"somebody\",\"many\",\"while\",\"says\",\"really\",\"hand\",\"might\",\"road\",\"keep\",\"dee\",\"again\",\"nothing\",\"old\",\"believe\",\"these\",\"place\",\"call\",\"why\",\"woman\",\"over\",\"town\",\"alone\",\"though\",\"turn\",\"something\",\"young\",\"left\",\"don't\",\"blue\",\"morning\",\"everything\",\"mama\",\"wake\",\"stone\",\"sun\",\"best\",\"head\",\"lord\",\"other\"],\"x\":[14.397712,-7.813491,-9.920664,-5.970742,-4.0551295,-24.505873,12.736247,37.325905,28.33374,-0.10332605,0.20805645,-52.238766,6.967766,22.686676,5.7143984,6.860834,-15.91688,33.110416,-5.0162373,-20.563906,-5.838946,-32.972553,-5.5108075,36.29478,-35.412563,-7.5141234,-17.452904,32.035336,-5.857127,-37.276848,-49.760403,-17.64805,26.655947,-17.288916,14.274424,-4.148694,-28.665247,31.279781,46.995773,22.376223,-48.886246,-5.3769283,12.452534,-24.54471,48.08153,2.5478466,-21.515882,-22.811699,-40.667496,-55.56162,-22.94265,-23.475641,35.060135,26.852934,-21.452288,-12.918013,-46.90258,7.2498765,-55.384922,-13.015183,-40.14128,3.154559,9.932158,44.40216,32.609066,41.704613,37.53798,-2.8019648,1.5153081,29.912107,50.460056,-39.260105,13.228507,-19.838976,-12.293558,19.597164,-27.232576,30.202404,-10.42593,45.77705,-23.590715,49.768406,13.48672,-32.21209,3.756407,-26.881033,11.522595,-48.495987,-40.613396,-9.667043,11.607726,29.292978,-28.613623,-41.793266,28.139917,1.9407709,-13.439667,8.698011,0.37520942,38.285862,43.670673,-0.294299,45.417427,-44.365326,28.138514,-29.342047,-31.969576,30.349201,-27.140345,5.075168,-25.71384,11.9490185,-1.5107818,-16.81897,-5.9014645,-18.356043,15.999113,-55.486248,1.5314342,-19.566093,-24.739836,39.21832,-18.037092,23.193293,7.0625343,-40.833164,26.255995,14.442884,-1.113535,27.089022,-12.792724,-38.247066,23.355528,-25.733994,-3.365991,28.494547,19.767712,16.978867,-36.30129,-30.016047,-16.428423,56.691536,-3.119014,50.55668,-31.172388,3.432546,3.0527084,7.7022233,9.269233,-5.4324546,-3.0008905,3.9446683,5.4800105,-10.429429,-42.555454,9.26775,28.015434,-0.22757217,-6.704519,-15.927919,49.945686,-33.870514,-6.216876,-46.51453,-35.780552,-49.64832,-8.739589,-25.050432,13.714793,-17.049461,-10.874476,0.7525692,0.3974595,30.72917,-12.375253,16.645178,-44.602097,-11.18992,-47.544174,-17.106571,-2.4862938,23.10712,-18.762875,25.631508,-45.08177,40.306152,13.056521,29.14418,17.44209,16.106491,-10.450219,-26.886251,32.103695,44.10331,-45.99809,23.510717,-0.6878265,19.135458,-6.2586155,17.121994],\"y\":[5.134004,9.868469,6.229255,12.6889515,3.9719095,24.756897,-2.139383,0.17339078,-20.687086,3.7030807,41.20431,-16.677504,-11.828807,47.677135,13.84401,6.879994,23.50717,36.089817,-1.2207432,-22.220646,-29.368603,-23.45776,-10.726001,-2.4651701,-2.408858,58.268154,-33.55746,8.008215,30.96116,23.504463,26.680063,19.427689,48.26448,12.404823,18.80858,50.055862,16.125336,-40.090416,-30.108828,18.64025,-5.2599254,-33.11176,17.612787,-43.34524,-0.40550622,21.702734,10.716275,-43.74042,-19.740555,-8.772588,16.689959,-6.0466394,-23.9828,37.36018,-8.858281,50.730583,-28.212008,26.852596,1.6669499,37.642834,-24.10233,26.645844,-10.626551,-22.51005,14.9644985,17.640738,-19.185926,55.191708,16.598232,13.790053,23.103262,-4.7844796,-22.788647,-6.8201437,51.057793,-1.1989862,40.401665,24.035463,20.972147,-22.666256,-3.7566364,18.786646,39.681103,24.160055,-23.690094,20.223864,45.04615,5.575016,23.83141,29.938606,-43.38428,4.3736334,5.6564794,21.12622,-28.563332,10.977503,27.386723,45.148766,-24.995321,-1.6427265,-29.032309,-58.157734,1.9349059,34.168686,0.99232435,6.85417,0.092094876,17.635912,25.717533,-24.091291,-1.115479,22.346535,-7.0896883,1.7351913,-21.313286,3.98659,44.09347,-13.090299,10.592094,7.0618668,46.956505,-45.286385,34.745617,23.276297,22.148132,1.7548473,-49.743443,35.493275,5.375681,-22.948044,-4.169618,-43.01592,-45.13588,42.987446,-43.121582,1.5002663,7.71193,-36.020546,16.624605,-35.35066,-22.023952,-1.2523901,34.088932,-2.0800936,6.256737,-45.45578,-35.612022,10.172631,-8.897708,44.608223,-42.99127,35.443935,-45.707664,33.06002,-14.24363,-1.2484528,10.084399,20.020992,-11.542279,48.860844,-13.800784,41.383266,23.398497,-5.845926,44.948963,16.115389,-21.976181,7.923116,14.9210825,18.865555,-0.9034974,-25.44913,-45.80198,14.404287,10.397361,-30.578287,-38.90195,15.751728,3.8319972,4.654213,16.07367,21.572231,29.09805,30.64717,-26.255526,34.89583,-49.94962,-36.084896,8.837418,-40.456142,-32.796825,53.16405,-35.312782,15.746887,17.393517,0.6673002,49.05344,-23.96436,38.501247,21.252655],\"z\":[-1.0693539,-22.323442,-25.356123,-15.4767275,-16.795624,43.486935,0.08799069,26.611288,-45.47705,-31.789274,-12.964963,-14.610758,45.448776,-25.17591,9.003825,21.847378,-7.005038,-25.76181,-9.020368,-48.67461,-8.587305,-26.919163,-9.195213,-13.802191,24.731638,-1.2339739,-42.390064,-38.58458,-37.387115,35.997383,-0.1787088,-47.016006,11.270308,-26.348534,52.8004,-17.502024,-49.270954,12.386178,-12.242678,11.6743555,2.6277852,25.873608,-16.47144,11.814562,-30.751396,-3.6802027,5.9024243,-30.65497,-36.34514,-8.141027,-34.826374,-31.029467,2.206874,1.2434895,-41.04912,17.13718,9.088865,-33.006622,15.571602,12.148638,33.74309,-11.71298,-44.990982,26.42778,15.449416,-15.65725,-6.080303,9.440707,34.67456,-8.168305,-4.7172627,-3.3852718,-51.63147,-53.831333,-27.297407,-33.56359,-17.099777,-7.1174874,31.56557,-24.931347,37.53214,17.921556,-36.525146,-29.632006,-33.88881,-11.776374,-7.120907,28.523655,3.7585018,40.72464,-21.09241,47.00917,-40.68236,-19.826818,44.527805,-24.788563,-14.839017,-19.999432,2.5720565,44.08308,0.42149,11.045004,-17.831514,5.924005,-48.835033,34.359806,16.111788,-31.387016,-4.1869664,11.026853,-22.106646,41.82412,9.892869,-35.408703,30.92711,45.05125,5.4582095,12.411787,-46.616478,-56.03085,-27.024242,-7.590111,-9.123827,-23.574785,5.366992,11.769218,-4.1529646,-2.4678586,52.801735,-32.45599,-27.605219,16.70781,-22.124352,28.63674,14.500683,1.8138584,-55.157597,-14.415475,-39.61089,-24.830252,45.85766,-20.412727,22.391613,30.02252,-4.981263,23.150703,44.64011,47.087944,-2.4609122,-4.076956,30.935001,-42.622715,-31.675388,4.8710766,-25.19972,-17.606823,10.145299,11.556159,15.654511,3.129629,14.032039,-7.1669145,-7.674742,-32.891758,5.8377213,-8.413348,4.856356,14.426097,15.040202,2.6921606,58.91247,-14.28543,-12.927087,25.705381,-33.49933,-24.65692,-4.418074,-6.3608484,-6.5376725,18.94158,50.65704,30.691854,1.8857545,-34.546978,-3.6973732,-2.4910498,-9.9385195,-33.249123,-32.248722,-0.6142855,38.595882,-2.7789147,-20.453167,-30.057909,26.19634,9.122753,30.736904,15.768386,41.982403,-33.56718],\"type\":\"scatter3d\"}],                        {\"template\":{\"data\":{\"histogram2dcontour\":[{\"type\":\"histogram2dcontour\",\"colorbar\":{\"outlinewidth\":0,\"ticks\":\"\"},\"colorscale\":[[0.0,\"#0d0887\"],[0.1111111111111111,\"#46039f\"],[0.2222222222222222,\"#7201a8\"],[0.3333333333333333,\"#9c179e\"],[0.4444444444444444,\"#bd3786\"],[0.5555555555555556,\"#d8576b\"],[0.6666666666666666,\"#ed7953\"],[0.7777777777777778,\"#fb9f3a\"],[0.8888888888888888,\"#fdca26\"],[1.0,\"#f0f921\"]]}],\"choropleth\":[{\"type\":\"choropleth\",\"colorbar\":{\"outlinewidth\":0,\"ticks\":\"\"}}],\"histogram2d\":[{\"type\":\"histogram2d\",\"colorbar\":{\"outlinewidth\":0,\"ticks\":\"\"},\"colorscale\":[[0.0,\"#0d0887\"],[0.1111111111111111,\"#46039f\"],[0.2222222222222222,\"#7201a8\"],[0.3333333333333333,\"#9c179e\"],[0.4444444444444444,\"#bd3786\"],[0.5555555555555556,\"#d8576b\"],[0.6666666666666666,\"#ed7953\"],[0.7777777777777778,\"#fb9f3a\"],[0.8888888888888888,\"#fdca26\"],[1.0,\"#f0f921\"]]}],\"heatmap\":[{\"type\":\"heatmap\",\"colorbar\":{\"outlinewidth\":0,\"ticks\":\"\"},\"colorscale\":[[0.0,\"#0d0887\"],[0.1111111111111111,\"#46039f\"],[0.2222222222222222,\"#7201a8\"],[0.3333333333333333,\"#9c179e\"],[0.4444444444444444,\"#bd3786\"],[0.5555555555555556,\"#d8576b\"],[0.6666666666666666,\"#ed7953\"],[0.7777777777777778,\"#fb9f3a\"],[0.8888888888888888,\"#fdca26\"],[1.0,\"#f0f921\"]]}],\"heatmapgl\":[{\"type\":\"heatmapgl\",\"colorbar\":{\"outlinewidth\":0,\"ticks\":\"\"},\"colorscale\":[[0.0,\"#0d0887\"],[0.1111111111111111,\"#46039f\"],[0.2222222222222222,\"#7201a8\"],[0.3333333333333333,\"#9c179e\"],[0.4444444444444444,\"#bd3786\"],[0.5555555555555556,\"#d8576b\"],[0.6666666666666666,\"#ed7953\"],[0.7777777777777778,\"#fb9f3a\"],[0.8888888888888888,\"#fdca26\"],[1.0,\"#f0f921\"]]}],\"contourcarpet\":[{\"type\":\"contourcarpet\",\"colorbar\":{\"outlinewidth\":0,\"ticks\":\"\"}}],\"contour\":[{\"type\":\"contour\",\"colorbar\":{\"outlinewidth\":0,\"ticks\":\"\"},\"colorscale\":[[0.0,\"#0d0887\"],[0.1111111111111111,\"#46039f\"],[0.2222222222222222,\"#7201a8\"],[0.3333333333333333,\"#9c179e\"],[0.4444444444444444,\"#bd3786\"],[0.5555555555555556,\"#d8576b\"],[0.6666666666666666,\"#ed7953\"],[0.7777777777777778,\"#fb9f3a\"],[0.8888888888888888,\"#fdca26\"],[1.0,\"#f0f921\"]]}],\"surface\":[{\"type\":\"surface\",\"colorbar\":{\"outlinewidth\":0,\"ticks\":\"\"},\"colorscale\":[[0.0,\"#0d0887\"],[0.1111111111111111,\"#46039f\"],[0.2222222222222222,\"#7201a8\"],[0.3333333333333333,\"#9c179e\"],[0.4444444444444444,\"#bd3786\"],[0.5555555555555556,\"#d8576b\"],[0.6666666666666666,\"#ed7953\"],[0.7777777777777778,\"#fb9f3a\"],[0.8888888888888888,\"#fdca26\"],[1.0,\"#f0f921\"]]}],\"mesh3d\":[{\"type\":\"mesh3d\",\"colorbar\":{\"outlinewidth\":0,\"ticks\":\"\"}}],\"scatter\":[{\"fillpattern\":{\"fillmode\":\"overlay\",\"size\":10,\"solidity\":0.2},\"type\":\"scatter\"}],\"parcoords\":[{\"type\":\"parcoords\",\"line\":{\"colorbar\":{\"outlinewidth\":0,\"ticks\":\"\"}}}],\"scatterpolargl\":[{\"type\":\"scatterpolargl\",\"marker\":{\"colorbar\":{\"outlinewidth\":0,\"ticks\":\"\"}}}],\"bar\":[{\"error_x\":{\"color\":\"#2a3f5f\"},\"error_y\":{\"color\":\"#2a3f5f\"},\"marker\":{\"line\":{\"color\":\"#E5ECF6\",\"width\":0.5},\"pattern\":{\"fillmode\":\"overlay\",\"size\":10,\"solidity\":0.2}},\"type\":\"bar\"}],\"scattergeo\":[{\"type\":\"scattergeo\",\"marker\":{\"colorbar\":{\"outlinewidth\":0,\"ticks\":\"\"}}}],\"scatterpolar\":[{\"type\":\"scatterpolar\",\"marker\":{\"colorbar\":{\"outlinewidth\":0,\"ticks\":\"\"}}}],\"histogram\":[{\"marker\":{\"pattern\":{\"fillmode\":\"overlay\",\"size\":10,\"solidity\":0.2}},\"type\":\"histogram\"}],\"scattergl\":[{\"type\":\"scattergl\",\"marker\":{\"colorbar\":{\"outlinewidth\":0,\"ticks\":\"\"}}}],\"scatter3d\":[{\"type\":\"scatter3d\",\"line\":{\"colorbar\":{\"outlinewidth\":0,\"ticks\":\"\"}},\"marker\":{\"colorbar\":{\"outlinewidth\":0,\"ticks\":\"\"}}}],\"scattermapbox\":[{\"type\":\"scattermapbox\",\"marker\":{\"colorbar\":{\"outlinewidth\":0,\"ticks\":\"\"}}}],\"scatterternary\":[{\"type\":\"scatterternary\",\"marker\":{\"colorbar\":{\"outlinewidth\":0,\"ticks\":\"\"}}}],\"scattercarpet\":[{\"type\":\"scattercarpet\",\"marker\":{\"colorbar\":{\"outlinewidth\":0,\"ticks\":\"\"}}}],\"carpet\":[{\"aaxis\":{\"endlinecolor\":\"#2a3f5f\",\"gridcolor\":\"white\",\"linecolor\":\"white\",\"minorgridcolor\":\"white\",\"startlinecolor\":\"#2a3f5f\"},\"baxis\":{\"endlinecolor\":\"#2a3f5f\",\"gridcolor\":\"white\",\"linecolor\":\"white\",\"minorgridcolor\":\"white\",\"startlinecolor\":\"#2a3f5f\"},\"type\":\"carpet\"}],\"table\":[{\"cells\":{\"fill\":{\"color\":\"#EBF0F8\"},\"line\":{\"color\":\"white\"}},\"header\":{\"fill\":{\"color\":\"#C8D4E3\"},\"line\":{\"color\":\"white\"}},\"type\":\"table\"}],\"barpolar\":[{\"marker\":{\"line\":{\"color\":\"#E5ECF6\",\"width\":0.5},\"pattern\":{\"fillmode\":\"overlay\",\"size\":10,\"solidity\":0.2}},\"type\":\"barpolar\"}],\"pie\":[{\"automargin\":true,\"type\":\"pie\"}]},\"layout\":{\"autotypenumbers\":\"strict\",\"colorway\":[\"#636efa\",\"#EF553B\",\"#00cc96\",\"#ab63fa\",\"#FFA15A\",\"#19d3f3\",\"#FF6692\",\"#B6E880\",\"#FF97FF\",\"#FECB52\"],\"font\":{\"color\":\"#2a3f5f\"},\"hovermode\":\"closest\",\"hoverlabel\":{\"align\":\"left\"},\"paper_bgcolor\":\"white\",\"plot_bgcolor\":\"#E5ECF6\",\"polar\":{\"bgcolor\":\"#E5ECF6\",\"angularaxis\":{\"gridcolor\":\"white\",\"linecolor\":\"white\",\"ticks\":\"\"},\"radialaxis\":{\"gridcolor\":\"white\",\"linecolor\":\"white\",\"ticks\":\"\"}},\"ternary\":{\"bgcolor\":\"#E5ECF6\",\"aaxis\":{\"gridcolor\":\"white\",\"linecolor\":\"white\",\"ticks\":\"\"},\"baxis\":{\"gridcolor\":\"white\",\"linecolor\":\"white\",\"ticks\":\"\"},\"caxis\":{\"gridcolor\":\"white\",\"linecolor\":\"white\",\"ticks\":\"\"}},\"coloraxis\":{\"colorbar\":{\"outlinewidth\":0,\"ticks\":\"\"}},\"colorscale\":{\"sequential\":[[0.0,\"#0d0887\"],[0.1111111111111111,\"#46039f\"],[0.2222222222222222,\"#7201a8\"],[0.3333333333333333,\"#9c179e\"],[0.4444444444444444,\"#bd3786\"],[0.5555555555555556,\"#d8576b\"],[0.6666666666666666,\"#ed7953\"],[0.7777777777777778,\"#fb9f3a\"],[0.8888888888888888,\"#fdca26\"],[1.0,\"#f0f921\"]],\"sequentialminus\":[[0.0,\"#0d0887\"],[0.1111111111111111,\"#46039f\"],[0.2222222222222222,\"#7201a8\"],[0.3333333333333333,\"#9c179e\"],[0.4444444444444444,\"#bd3786\"],[0.5555555555555556,\"#d8576b\"],[0.6666666666666666,\"#ed7953\"],[0.7777777777777778,\"#fb9f3a\"],[0.8888888888888888,\"#fdca26\"],[1.0,\"#f0f921\"]],\"diverging\":[[0,\"#8e0152\"],[0.1,\"#c51b7d\"],[0.2,\"#de77ae\"],[0.3,\"#f1b6da\"],[0.4,\"#fde0ef\"],[0.5,\"#f7f7f7\"],[0.6,\"#e6f5d0\"],[0.7,\"#b8e186\"],[0.8,\"#7fbc41\"],[0.9,\"#4d9221\"],[1,\"#276419\"]]},\"xaxis\":{\"gridcolor\":\"white\",\"linecolor\":\"white\",\"ticks\":\"\",\"title\":{\"standoff\":15},\"zerolinecolor\":\"white\",\"automargin\":true,\"zerolinewidth\":2},\"yaxis\":{\"gridcolor\":\"white\",\"linecolor\":\"white\",\"ticks\":\"\",\"title\":{\"standoff\":15},\"zerolinecolor\":\"white\",\"automargin\":true,\"zerolinewidth\":2},\"scene\":{\"xaxis\":{\"backgroundcolor\":\"#E5ECF6\",\"gridcolor\":\"white\",\"linecolor\":\"white\",\"showbackground\":true,\"ticks\":\"\",\"zerolinecolor\":\"white\",\"gridwidth\":2},\"yaxis\":{\"backgroundcolor\":\"#E5ECF6\",\"gridcolor\":\"white\",\"linecolor\":\"white\",\"showbackground\":true,\"ticks\":\"\",\"zerolinecolor\":\"white\",\"gridwidth\":2},\"zaxis\":{\"backgroundcolor\":\"#E5ECF6\",\"gridcolor\":\"white\",\"linecolor\":\"white\",\"showbackground\":true,\"ticks\":\"\",\"zerolinecolor\":\"white\",\"gridwidth\":2}},\"shapedefaults\":{\"line\":{\"color\":\"#2a3f5f\"}},\"annotationdefaults\":{\"arrowcolor\":\"#2a3f5f\",\"arrowhead\":0,\"arrowwidth\":1},\"geo\":{\"bgcolor\":\"white\",\"landcolor\":\"#E5ECF6\",\"subunitcolor\":\"white\",\"showland\":true,\"showlakes\":true,\"lakecolor\":\"white\"},\"title\":{\"x\":0.05},\"mapbox\":{\"style\":\"light\"}}},\"scene\":{\"domain\":{\"x\":[0.0,1.0],\"y\":[0.0,1.0]},\"xaxis\":{\"title\":{\"text\":\"x\"}},\"yaxis\":{\"title\":{\"text\":\"y\"}},\"zaxis\":{\"title\":{\"text\":\"z\"}}},\"legend\":{\"tracegroupgap\":0},\"margin\":{\"t\":60}},                        {\"responsive\": true}                    ).then(function(){\n",
              "                            \n",
              "var gd = document.getElementById('c35c3a35-61db-49ad-b378-57fe6d862644');\n",
              "var x = new MutationObserver(function (mutations, observer) {{\n",
              "        var display = window.getComputedStyle(gd).display;\n",
              "        if (!display || display === 'none') {{\n",
              "            console.log([gd, 'removed!']);\n",
              "            Plotly.purge(gd);\n",
              "            observer.disconnect();\n",
              "        }}\n",
              "}});\n",
              "\n",
              "// Listen for the removal of the full notebook cells\n",
              "var notebookContainer = gd.closest('#notebook-container');\n",
              "if (notebookContainer) {{\n",
              "    x.observe(notebookContainer, {childList: true});\n",
              "}}\n",
              "\n",
              "// Listen for the clearing of the current output cell\n",
              "var outputEl = gd.closest('.output');\n",
              "if (outputEl) {{\n",
              "    x.observe(outputEl, {childList: true});\n",
              "}}\n",
              "\n",
              "                        })                };                            </script>        </div>\n",
              "</body>\n",
              "</html>"
            ]
          },
          "metadata": {}
        }
      ],
      "source": [
        "vecs, labels = reduce_dimensions(w2v_model,3)\n",
        "\n",
        "fig = px.scatter_3d(x=vecs[:MAX_WORDS,0], y=vecs[:MAX_WORDS,1], z=vecs[:MAX_WORDS,2],text=labels[:MAX_WORDS])\n",
        "fig.update_traces(marker_size = 2)\n",
        "fig.show(renderer=\"colab\") # esto para plotly en colab"
      ]
    },
    {
      "cell_type": "markdown",
      "source": [
        "En este gráfico alcanzamos a ver algunas relaciones más, tales como *\"like\"* y *\"stone\"*. De todas formas, resulta difícil encontrar relaciones con esta visualización. Además, al mostrar sólo 200 palabras observando poca información."
      ],
      "metadata": {
        "id": "e1aePtNwd3tk"
      }
    },
    {
      "cell_type": "markdown",
      "source": [
        "A continuación, se guardan los vectores y labels como .tsv para graficar en http://projector.tensorflow.org/\n",
        "\n",
        "La visualización resulta mejor, ya que permite ver todas las palabras e ir seleccionando cada una para ver las más relacionadas. Además, permite hacer la reducción de dimensionalidad con distintos métodos.\n",
        "\n",
        "Se muestra una captura de pantalla para ejemplificar el gráfico obtenido en Embedding Projector para la palabra *\"song\"*, en este caso utilizando PCA en lugar de t-SNE:"
      ],
      "metadata": {
        "id": "Tpia94iJbsuu"
      }
    },
    {
      "cell_type": "code",
      "execution_count": 256,
      "metadata": {
        "id": "LnDkrS856uxN"
      },
      "outputs": [],
      "source": [
        "vectors = np.asarray(w2v_model.wv.vectors)\n",
        "labels = list(w2v_model.wv.index_to_key)\n",
        "\n",
        "np.savetxt(\"vectors.tsv\", vectors, delimiter=\"\\t\")\n",
        "\n",
        "with open(\"labels.tsv\", \"w\") as fp:\n",
        "    for item in labels:\n",
        "        fp.write(\"%s\\n\" % item)"
      ]
    },
    {
      "cell_type": "markdown",
      "source": [
        "![image.png](data:image/png;base64,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)"
      ],
      "metadata": {
        "id": "u30c_1S6PloB"
      }
    },
    {
      "cell_type": "markdown",
      "source": [
        "Se observa que las palabras obtenidas como más similares habiendo aplicado PCA son prácticamente las mismas que se habían encontrado antes, con una leve diferencia en el orden."
      ],
      "metadata": {
        "id": "tu1-6RE1fPBo"
      }
    }
  ],
  "metadata": {
    "colab": {
      "provenance": [],
      "toc_visible": true,
      "include_colab_link": true
    },
    "kernelspec": {
      "display_name": "Python 3 (ipykernel)",
      "language": "python",
      "name": "python3"
    },
    "language_info": {
      "codemirror_mode": {
        "name": "ipython",
        "version": 3
      },
      "file_extension": ".py",
      "mimetype": "text/x-python",
      "name": "python",
      "nbconvert_exporter": "python",
      "pygments_lexer": "ipython3",
      "version": "3.10.6"
    }
  },
  "nbformat": 4,
  "nbformat_minor": 0
}