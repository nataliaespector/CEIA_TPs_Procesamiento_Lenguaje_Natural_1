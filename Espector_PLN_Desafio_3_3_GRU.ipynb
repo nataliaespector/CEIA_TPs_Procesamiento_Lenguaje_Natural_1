{
  "cells": [
    {
      "cell_type": "markdown",
      "metadata": {
        "id": "view-in-github",
        "colab_type": "text"
      },
      "source": [
        "<a href=\"https://colab.research.google.com/github/nataliaespector/CEIA_TPs_Procesamiento_Lenguaje_Natural_1/blob/main/Espector_PLN_Desafio_3_3_GRU.ipynb\" target=\"_parent\"><img src=\"https://colab.research.google.com/assets/colab-badge.svg\" alt=\"Open In Colab\"/></a>"
      ]
    },
    {
      "cell_type": "markdown",
      "metadata": {
        "id": "g3yeJGnCYxuF"
      },
      "source": [
        "<img src=\"https://github.com/hernancontigiani/ceia_memorias_especializacion/raw/master/Figures/logoFIUBA.jpg\" width=\"500\" align=\"center\">\n",
        "\n",
        "\n",
        "# Procesamiento de lenguaje natural\n",
        "## Modelo de lenguaje con tokenización por caracteres"
      ]
    },
    {
      "cell_type": "markdown",
      "metadata": {
        "id": "Iv5PEwGzZA9-"
      },
      "source": [
        "### Consigna\n",
        "- Seleccionar un corpus de texto sobre el cual entrenar el modelo de lenguaje.\n",
        "- Realizar el pre-procesamiento adecuado para tokenizar el corpus, estructurar el dataset y separar entre datos de entrenamiento y validación.\n",
        "- Proponer arquitecturas de redes neuronales basadas en unidades recurrentes para implementar un modelo de lenguaje.\n",
        "- Con el o los modelos que consideren adecuados, generar nuevas secuencias a partir de secuencias de contexto con las estrategias de greedy search y beam search determístico y estocástico. En este último caso observar el efecto de la temperatura en la generación de secuencias.\n",
        "\n",
        "\n",
        "### Sugerencias\n",
        "- Durante el entrenamiento, guiarse por el descenso de la perplejidad en los datos de validación para finalizar el entrenamiento. Para ello se provee un callback.\n",
        "- Explorar utilizar SimpleRNN (celda de Elman), LSTM y GRU.\n",
        "- rmsprop es el optimizador recomendado para la buena convergencia. No obstante se pueden explorar otros.\n"
      ]
    },
    {
      "cell_type": "code",
      "execution_count": 1,
      "metadata": {
        "id": "Y-QdFbHZYj7C"
      },
      "outputs": [],
      "source": [
        "import random\n",
        "import io\n",
        "import pickle\n",
        "\n",
        "import os\n",
        "import platform\n",
        "import numpy as np\n",
        "import pandas as pd\n",
        "import matplotlib.pyplot as plt\n",
        "from sklearn.model_selection import train_test_split\n",
        "\n",
        "import torch\n",
        "import torch.nn as nn\n",
        "import torch.nn.functional as F\n",
        "from torch.utils.data import Dataset, DataLoader\n",
        "from tensorflow.keras.preprocessing.text import Tokenizer, text_to_word_sequence\n",
        "from scipy.special import softmax\n",
        "from tensorflow.keras.losses import SparseCategoricalCrossentropy"
      ]
    },
    {
      "cell_type": "markdown",
      "metadata": {
        "id": "xTvXlEKQZdqx"
      },
      "source": [
        "### Datos\n",
        "Utilizaremos como dataset el libro \"Cinco Semanas en Globo\" de Julio Verne."
      ]
    },
    {
      "cell_type": "code",
      "execution_count": 2,
      "metadata": {
        "id": "7amy6uUaBLVD"
      },
      "outputs": [],
      "source": [
        "# descargar de textos.info\n",
        "import urllib.request\n",
        "\n",
        "# Para leer y parsear el texto en HTML de wikipedia\n",
        "import bs4 as bs"
      ]
    },
    {
      "cell_type": "code",
      "execution_count": 3,
      "metadata": {
        "id": "6v_ickFwBJTy"
      },
      "outputs": [],
      "source": [
        "raw_html = urllib.request.urlopen('https://www.textos.info/julio-verne/cinco-semanas-en-globo/ebook')\n",
        "raw_html = raw_html.read()\n",
        "\n",
        "# Parsear artículo, 'lxml' es el parser a utilizar\n",
        "article_html = bs.BeautifulSoup(raw_html, 'lxml')\n",
        "\n",
        "# Encontrar todos los párrafos del HTML (bajo el tag <p>)\n",
        "# y tenerlos disponible como lista\n",
        "article_paragraphs = article_html.find_all('p')\n",
        "\n",
        "article_text = ''\n",
        "\n",
        "for para in article_paragraphs:\n",
        "    article_text += para.text + ' '\n",
        "\n",
        "# pasar todo el texto a minúscula\n",
        "article_text = article_text.lower()"
      ]
    },
    {
      "cell_type": "code",
      "execution_count": 4,
      "metadata": {
        "colab": {
          "base_uri": "https://localhost:8080/",
          "height": 91
        },
        "id": "WBE0sSYuB-E6",
        "outputId": "69abff78-6717-4ae8-8e3b-894b71ea4c0e"
      },
      "outputs": [
        {
          "output_type": "execute_result",
          "data": {
            "text/plain": [
              "' el final de un discurso muy\\r\\naplaudido. —\\r\\npresentación del doctor samuel fergusson. —\\r\\n\" excelsior. \" — retrato de cuerpo entero del doctor. —\\r\\nun fatalista convencido. — comida en el traveller\\'s club. —\\r\\nnumerosos brindis de circunstancias el día 14 de enero de 1862 había asistido un numeroso auditorio\\r\\na la sesión de la real sociedad geográfica de londres, plaza de\\r\\nwaterloo, 3. el presidente, sir francis m … . comunicaba a sus\\r\\nilustres colegas un hecho importante en un discurso frecuentemente\\r\\ninterrumpido por los aplausos. aquella notable muestra de elocuencia finalizaba con unas\\r\\ncuantas frases rimbombantes en las que el patriotismo manaba a\\r\\nborbotones: \"inglaterra ha marchado siempre a la cabeza de las\\r\\nnaciones (ya se sabe que las naciones marchan universalmente a la\\r\\ncabeza unas de otras) por la intrepidez con que sus viajeros\\r\\nacometen descubrimientos geográficos. (numerosas muestras de\\r\\naprobación.) el doctor samuel fergusson, uno de sus gloriosos\\r\\nhijos, no faltará a su '"
            ],
            "application/vnd.google.colaboratory.intrinsic+json": {
              "type": "string"
            }
          },
          "metadata": {},
          "execution_count": 4
        }
      ],
      "source": [
        "# en article text se encuentra el texto de todo el libro\n",
        "article_text[:1000]"
      ]
    },
    {
      "cell_type": "markdown",
      "metadata": {
        "id": "cP1JdiOIKQWi"
      },
      "source": [
        "### Elegir el tamaño del contexto\n",
        "\n",
        "En este caso, como el modelo de lenguaje es por caracteres, todo un gran corpus\n",
        "de texto puede ser considerado un documento en sí mismo y el tamaño de contexto\n",
        "puede ser elegido con más libertad en comparación a un modelo de lenguaje tokenizado por palabras y dividido en documentos más acotados."
      ]
    },
    {
      "cell_type": "code",
      "execution_count": 5,
      "metadata": {
        "id": "wumBNwdjJM3j"
      },
      "outputs": [],
      "source": [
        "# seleccionamos el tamaño de contexto\n",
        "max_context_size = 100"
      ]
    },
    {
      "cell_type": "code",
      "execution_count": 6,
      "metadata": {
        "id": "m5FeTaGvbDbw"
      },
      "outputs": [],
      "source": [
        "# Usaremos las utilidades de procesamiento de textos y secuencias de Keras\n",
        "from tensorflow.keras.utils import pad_sequences # se utilizará para padding"
      ]
    },
    {
      "cell_type": "code",
      "execution_count": 7,
      "metadata": {
        "id": "573Cg5n7VhWw"
      },
      "outputs": [],
      "source": [
        "# en este caso el vocabulario es el conjunto único de caracteres que existe en todo el texto\n",
        "chars_vocab = set(article_text)"
      ]
    },
    {
      "cell_type": "code",
      "execution_count": 8,
      "metadata": {
        "colab": {
          "base_uri": "https://localhost:8080/"
        },
        "id": "VwTK6xgLJd8q",
        "outputId": "80d81cdc-2889-4d26-ad60-7cba5c91a975"
      },
      "outputs": [
        {
          "output_type": "execute_result",
          "data": {
            "text/plain": [
              "70"
            ]
          },
          "metadata": {},
          "execution_count": 8
        }
      ],
      "source": [
        "# la longitud de vocabulario de caracteres es:\n",
        "len(chars_vocab)"
      ]
    },
    {
      "cell_type": "code",
      "execution_count": 9,
      "metadata": {
        "id": "2W0AeQjXV1Ou"
      },
      "outputs": [],
      "source": [
        "# Construimos los dicionarios que asignan índices a caracteres y viceversa.\n",
        "# El diccionario `char2idx` servirá como tokenizador.\n",
        "char2idx = {k: v for v,k in enumerate(chars_vocab)}\n",
        "idx2char = {v: k for k,v in char2idx.items()}"
      ]
    },
    {
      "cell_type": "code",
      "execution_count": 10,
      "metadata": {
        "colab": {
          "base_uri": "https://localhost:8080/"
        },
        "id": "Wfy_LZaBwfbU",
        "outputId": "d3ac9863-305a-4a4d-f613-84b868265b41"
      },
      "outputs": [
        {
          "output_type": "stream",
          "name": "stdout",
          "text": [
            "{'e', 'u', 'r', 'f', 's', 'q', 'ü', 'a', '.', '…', '\\t', '”', 'é', ';', 'c', '6', ')', 'í', 'd', 'p', '\"', 'b', ',', 'ú', 'è', 'o', '7', 'y', '0', '?', '»', '2', '9', 'l', \"'\", '4', '~', 't', '’', 'j', 'k', '3', 'v', '-', 'i', ':', 'á', '«', 'ñ', 'ó', 'w', '¿', 'g', 'n', '1', '(', '—', 'z', '¡', '\\n', '/', 'h', ' ', 'm', '\\r', '8', '5', '!', 'x', 'º'}\n"
          ]
        }
      ],
      "source": [
        "print(chars_vocab)"
      ]
    },
    {
      "cell_type": "code",
      "execution_count": 11,
      "metadata": {
        "colab": {
          "base_uri": "https://localhost:8080/"
        },
        "id": "67Bkwb21wo8l",
        "outputId": "536ce5ce-95c5-40f4-d35f-0be0c662196b"
      },
      "outputs": [
        {
          "output_type": "stream",
          "name": "stdout",
          "text": [
            "{0: 'e', 1: 'u', 2: 'r', 3: 'f', 4: 's', 5: 'q', 6: 'ü', 7: 'a', 8: '.', 9: '…', 10: '\\t', 11: '”', 12: 'é', 13: ';', 14: 'c', 15: '6', 16: ')', 17: 'í', 18: 'd', 19: 'p', 20: '\"', 21: 'b', 22: ',', 23: 'ú', 24: 'è', 25: 'o', 26: '7', 27: 'y', 28: '0', 29: '?', 30: '»', 31: '2', 32: '9', 33: 'l', 34: \"'\", 35: '4', 36: '~', 37: 't', 38: '’', 39: 'j', 40: 'k', 41: '3', 42: 'v', 43: '-', 44: 'i', 45: ':', 46: 'á', 47: '«', 48: 'ñ', 49: 'ó', 50: 'w', 51: '¿', 52: 'g', 53: 'n', 54: '1', 55: '(', 56: '—', 57: 'z', 58: '¡', 59: '\\n', 60: '/', 61: 'h', 62: ' ', 63: 'm', 64: '\\r', 65: '8', 66: '5', 67: '!', 68: 'x', 69: 'º'}\n"
          ]
        }
      ],
      "source": [
        "print(idx2char)"
      ]
    },
    {
      "cell_type": "markdown",
      "metadata": {
        "id": "2oIUjVU0LB0r"
      },
      "source": [
        "###  Tokenizar"
      ]
    },
    {
      "cell_type": "code",
      "execution_count": 12,
      "metadata": {
        "id": "h07G3srdJppo"
      },
      "outputs": [],
      "source": [
        "# tokenizamos el texto completo\n",
        "tokenized_text = [char2idx[ch] for ch in article_text]"
      ]
    },
    {
      "cell_type": "code",
      "execution_count": 13,
      "metadata": {
        "colab": {
          "base_uri": "https://localhost:8080/"
        },
        "id": "PwGVSKOiJ5bj",
        "outputId": "a9dafe8a-1d03-460e-b26c-ebbfda18c094"
      },
      "outputs": [
        {
          "output_type": "execute_result",
          "data": {
            "text/plain": [
              "[62,\n",
              " 0,\n",
              " 33,\n",
              " 62,\n",
              " 3,\n",
              " 44,\n",
              " 53,\n",
              " 7,\n",
              " 33,\n",
              " 62,\n",
              " 18,\n",
              " 0,\n",
              " 62,\n",
              " 1,\n",
              " 53,\n",
              " 62,\n",
              " 18,\n",
              " 44,\n",
              " 4,\n",
              " 14,\n",
              " 1,\n",
              " 2,\n",
              " 4,\n",
              " 25,\n",
              " 62,\n",
              " 63,\n",
              " 1,\n",
              " 27,\n",
              " 64,\n",
              " 59,\n",
              " 7,\n",
              " 19,\n",
              " 33,\n",
              " 7,\n",
              " 1,\n",
              " 18,\n",
              " 44,\n",
              " 18,\n",
              " 25,\n",
              " 8,\n",
              " 62,\n",
              " 56,\n",
              " 64,\n",
              " 59,\n",
              " 19,\n",
              " 2,\n",
              " 0,\n",
              " 4,\n",
              " 0,\n",
              " 53,\n",
              " 37,\n",
              " 7,\n",
              " 14,\n",
              " 44,\n",
              " 49,\n",
              " 53,\n",
              " 62,\n",
              " 18,\n",
              " 0,\n",
              " 33,\n",
              " 62,\n",
              " 18,\n",
              " 25,\n",
              " 14,\n",
              " 37,\n",
              " 25,\n",
              " 2,\n",
              " 62,\n",
              " 4,\n",
              " 7,\n",
              " 63,\n",
              " 1,\n",
              " 0,\n",
              " 33,\n",
              " 62,\n",
              " 3,\n",
              " 0,\n",
              " 2,\n",
              " 52,\n",
              " 1,\n",
              " 4,\n",
              " 4,\n",
              " 25,\n",
              " 53,\n",
              " 8,\n",
              " 62,\n",
              " 56,\n",
              " 64,\n",
              " 59,\n",
              " 20,\n",
              " 62,\n",
              " 0,\n",
              " 68,\n",
              " 14,\n",
              " 0,\n",
              " 33,\n",
              " 4,\n",
              " 44,\n",
              " 25,\n",
              " 2,\n",
              " 8,\n",
              " 62,\n",
              " 20,\n",
              " 62,\n",
              " 56,\n",
              " 62,\n",
              " 2,\n",
              " 0,\n",
              " 37,\n",
              " 2,\n",
              " 7,\n",
              " 37,\n",
              " 25,\n",
              " 62,\n",
              " 18,\n",
              " 0,\n",
              " 62,\n",
              " 14,\n",
              " 1,\n",
              " 0,\n",
              " 2,\n",
              " 19,\n",
              " 25,\n",
              " 62,\n",
              " 0,\n",
              " 53,\n",
              " 37,\n",
              " 0,\n",
              " 2,\n",
              " 25,\n",
              " 62,\n",
              " 18,\n",
              " 0,\n",
              " 33,\n",
              " 62,\n",
              " 18,\n",
              " 25,\n",
              " 14,\n",
              " 37,\n",
              " 25,\n",
              " 2,\n",
              " 8,\n",
              " 62,\n",
              " 56,\n",
              " 64,\n",
              " 59,\n",
              " 1,\n",
              " 53,\n",
              " 62,\n",
              " 3,\n",
              " 7,\n",
              " 37,\n",
              " 7,\n",
              " 33,\n",
              " 44,\n",
              " 4,\n",
              " 37,\n",
              " 7,\n",
              " 62,\n",
              " 14,\n",
              " 25,\n",
              " 53,\n",
              " 42,\n",
              " 0,\n",
              " 53,\n",
              " 14,\n",
              " 44,\n",
              " 18,\n",
              " 25,\n",
              " 8,\n",
              " 62,\n",
              " 56,\n",
              " 62,\n",
              " 14,\n",
              " 25,\n",
              " 63,\n",
              " 44,\n",
              " 18,\n",
              " 7,\n",
              " 62,\n",
              " 0,\n",
              " 53,\n",
              " 62,\n",
              " 0,\n",
              " 33,\n",
              " 62,\n",
              " 37,\n",
              " 2,\n",
              " 7,\n",
              " 42,\n",
              " 0,\n",
              " 33,\n",
              " 33,\n",
              " 0,\n",
              " 2,\n",
              " 34,\n",
              " 4,\n",
              " 62,\n",
              " 14,\n",
              " 33,\n",
              " 1,\n",
              " 21,\n",
              " 8,\n",
              " 62,\n",
              " 56,\n",
              " 64,\n",
              " 59,\n",
              " 53,\n",
              " 1,\n",
              " 63,\n",
              " 0,\n",
              " 2,\n",
              " 25,\n",
              " 4,\n",
              " 25,\n",
              " 4,\n",
              " 62,\n",
              " 21,\n",
              " 2,\n",
              " 44,\n",
              " 53,\n",
              " 18,\n",
              " 44,\n",
              " 4,\n",
              " 62,\n",
              " 18,\n",
              " 0,\n",
              " 62,\n",
              " 14,\n",
              " 44,\n",
              " 2,\n",
              " 14,\n",
              " 1,\n",
              " 53,\n",
              " 4,\n",
              " 37,\n",
              " 7,\n",
              " 53,\n",
              " 14,\n",
              " 44,\n",
              " 7,\n",
              " 4,\n",
              " 62,\n",
              " 0,\n",
              " 33,\n",
              " 62,\n",
              " 18,\n",
              " 17,\n",
              " 7,\n",
              " 62,\n",
              " 54,\n",
              " 35,\n",
              " 62,\n",
              " 18,\n",
              " 0,\n",
              " 62,\n",
              " 0,\n",
              " 53,\n",
              " 0,\n",
              " 2,\n",
              " 25,\n",
              " 62,\n",
              " 18,\n",
              " 0,\n",
              " 62,\n",
              " 54,\n",
              " 65,\n",
              " 15,\n",
              " 31,\n",
              " 62,\n",
              " 61,\n",
              " 7,\n",
              " 21,\n",
              " 17,\n",
              " 7,\n",
              " 62,\n",
              " 7,\n",
              " 4,\n",
              " 44,\n",
              " 4,\n",
              " 37,\n",
              " 44,\n",
              " 18,\n",
              " 25,\n",
              " 62,\n",
              " 1,\n",
              " 53,\n",
              " 62,\n",
              " 53,\n",
              " 1,\n",
              " 63,\n",
              " 0,\n",
              " 2,\n",
              " 25,\n",
              " 4,\n",
              " 25,\n",
              " 62,\n",
              " 7,\n",
              " 1,\n",
              " 18,\n",
              " 44,\n",
              " 37,\n",
              " 25,\n",
              " 2,\n",
              " 44,\n",
              " 25,\n",
              " 64,\n",
              " 59,\n",
              " 7,\n",
              " 62,\n",
              " 33,\n",
              " 7,\n",
              " 62,\n",
              " 4,\n",
              " 0,\n",
              " 4,\n",
              " 44,\n",
              " 49,\n",
              " 53,\n",
              " 62,\n",
              " 18,\n",
              " 0,\n",
              " 62,\n",
              " 33,\n",
              " 7,\n",
              " 62,\n",
              " 2,\n",
              " 0,\n",
              " 7,\n",
              " 33,\n",
              " 62,\n",
              " 4,\n",
              " 25,\n",
              " 14,\n",
              " 44,\n",
              " 0,\n",
              " 18,\n",
              " 7,\n",
              " 18,\n",
              " 62,\n",
              " 52,\n",
              " 0,\n",
              " 25,\n",
              " 52,\n",
              " 2,\n",
              " 46,\n",
              " 3,\n",
              " 44,\n",
              " 14,\n",
              " 7,\n",
              " 62,\n",
              " 18,\n",
              " 0,\n",
              " 62,\n",
              " 33,\n",
              " 25,\n",
              " 53,\n",
              " 18,\n",
              " 2,\n",
              " 0,\n",
              " 4,\n",
              " 22,\n",
              " 62,\n",
              " 19,\n",
              " 33,\n",
              " 7,\n",
              " 57,\n",
              " 7,\n",
              " 62,\n",
              " 18,\n",
              " 0,\n",
              " 64,\n",
              " 59,\n",
              " 50,\n",
              " 7,\n",
              " 37,\n",
              " 0,\n",
              " 2,\n",
              " 33,\n",
              " 25,\n",
              " 25,\n",
              " 22,\n",
              " 62,\n",
              " 41,\n",
              " 8,\n",
              " 62,\n",
              " 0,\n",
              " 33,\n",
              " 62,\n",
              " 19,\n",
              " 2,\n",
              " 0,\n",
              " 4,\n",
              " 44,\n",
              " 18,\n",
              " 0,\n",
              " 53,\n",
              " 37,\n",
              " 0,\n",
              " 22,\n",
              " 62,\n",
              " 4,\n",
              " 44,\n",
              " 2,\n",
              " 62,\n",
              " 3,\n",
              " 2,\n",
              " 7,\n",
              " 53,\n",
              " 14,\n",
              " 44,\n",
              " 4,\n",
              " 62,\n",
              " 63,\n",
              " 62,\n",
              " 9,\n",
              " 62,\n",
              " 8,\n",
              " 62,\n",
              " 14,\n",
              " 25,\n",
              " 63,\n",
              " 1,\n",
              " 53,\n",
              " 44,\n",
              " 14,\n",
              " 7,\n",
              " 21,\n",
              " 7,\n",
              " 62,\n",
              " 7,\n",
              " 62,\n",
              " 4,\n",
              " 1,\n",
              " 4,\n",
              " 64,\n",
              " 59,\n",
              " 44,\n",
              " 33,\n",
              " 1,\n",
              " 4,\n",
              " 37,\n",
              " 2,\n",
              " 0,\n",
              " 4,\n",
              " 62,\n",
              " 14,\n",
              " 25,\n",
              " 33,\n",
              " 0,\n",
              " 52,\n",
              " 7,\n",
              " 4,\n",
              " 62,\n",
              " 1,\n",
              " 53,\n",
              " 62,\n",
              " 61,\n",
              " 0,\n",
              " 14,\n",
              " 61,\n",
              " 25,\n",
              " 62,\n",
              " 44,\n",
              " 63,\n",
              " 19,\n",
              " 25,\n",
              " 2,\n",
              " 37,\n",
              " 7,\n",
              " 53,\n",
              " 37,\n",
              " 0,\n",
              " 62,\n",
              " 0,\n",
              " 53,\n",
              " 62,\n",
              " 1,\n",
              " 53,\n",
              " 62,\n",
              " 18,\n",
              " 44,\n",
              " 4,\n",
              " 14,\n",
              " 1,\n",
              " 2,\n",
              " 4,\n",
              " 25,\n",
              " 62,\n",
              " 3,\n",
              " 2,\n",
              " 0,\n",
              " 14,\n",
              " 1,\n",
              " 0,\n",
              " 53,\n",
              " 37,\n",
              " 0,\n",
              " 63,\n",
              " 0,\n",
              " 53,\n",
              " 37,\n",
              " 0,\n",
              " 64,\n",
              " 59,\n",
              " 44,\n",
              " 53,\n",
              " 37,\n",
              " 0,\n",
              " 2,\n",
              " 2,\n",
              " 1,\n",
              " 63,\n",
              " 19,\n",
              " 44,\n",
              " 18,\n",
              " 25,\n",
              " 62,\n",
              " 19,\n",
              " 25,\n",
              " 2,\n",
              " 62,\n",
              " 33,\n",
              " 25,\n",
              " 4,\n",
              " 62,\n",
              " 7,\n",
              " 19,\n",
              " 33,\n",
              " 7,\n",
              " 1,\n",
              " 4,\n",
              " 25,\n",
              " 4,\n",
              " 8,\n",
              " 62,\n",
              " 7,\n",
              " 5,\n",
              " 1,\n",
              " 0,\n",
              " 33,\n",
              " 33,\n",
              " 7,\n",
              " 62,\n",
              " 53,\n",
              " 25,\n",
              " 37,\n",
              " 7,\n",
              " 21,\n",
              " 33,\n",
              " 0,\n",
              " 62,\n",
              " 63,\n",
              " 1,\n",
              " 0,\n",
              " 4,\n",
              " 37,\n",
              " 2,\n",
              " 7,\n",
              " 62,\n",
              " 18,\n",
              " 0,\n",
              " 62,\n",
              " 0,\n",
              " 33,\n",
              " 25,\n",
              " 14,\n",
              " 1,\n",
              " 0,\n",
              " 53,\n",
              " 14,\n",
              " 44,\n",
              " 7,\n",
              " 62,\n",
              " 3,\n",
              " 44,\n",
              " 53,\n",
              " 7,\n",
              " 33,\n",
              " 44,\n",
              " 57,\n",
              " 7,\n",
              " 21,\n",
              " 7,\n",
              " 62,\n",
              " 14,\n",
              " 25,\n",
              " 53,\n",
              " 62,\n",
              " 1,\n",
              " 53,\n",
              " 7,\n",
              " 4,\n",
              " 64,\n",
              " 59,\n",
              " 14,\n",
              " 1,\n",
              " 7,\n",
              " 53,\n",
              " 37,\n",
              " 7,\n",
              " 4,\n",
              " 62,\n",
              " 3,\n",
              " 2,\n",
              " 7,\n",
              " 4,\n",
              " 0,\n",
              " 4,\n",
              " 62,\n",
              " 2,\n",
              " 44,\n",
              " 63,\n",
              " 21,\n",
              " 25,\n",
              " 63,\n",
              " 21,\n",
              " 7,\n",
              " 53,\n",
              " 37,\n",
              " 0,\n",
              " 4,\n",
              " 62,\n",
              " 0,\n",
              " 53,\n",
              " 62,\n",
              " 33,\n",
              " 7,\n",
              " 4,\n",
              " 62,\n",
              " 5,\n",
              " 1,\n",
              " 0,\n",
              " 62,\n",
              " 0,\n",
              " 33,\n",
              " 62,\n",
              " 19,\n",
              " 7,\n",
              " 37,\n",
              " 2,\n",
              " 44,\n",
              " 25,\n",
              " 37,\n",
              " 44,\n",
              " 4,\n",
              " 63,\n",
              " 25,\n",
              " 62,\n",
              " 63,\n",
              " 7,\n",
              " 53,\n",
              " 7,\n",
              " 21,\n",
              " 7,\n",
              " 62,\n",
              " 7,\n",
              " 64,\n",
              " 59,\n",
              " 21,\n",
              " 25,\n",
              " 2,\n",
              " 21,\n",
              " 25,\n",
              " 37,\n",
              " 25,\n",
              " 53,\n",
              " 0,\n",
              " 4,\n",
              " 45,\n",
              " 62,\n",
              " 20,\n",
              " 44,\n",
              " 53,\n",
              " 52,\n",
              " 33,\n",
              " 7,\n",
              " 37,\n",
              " 0,\n",
              " 2,\n",
              " 2,\n",
              " 7,\n",
              " 62,\n",
              " 61,\n",
              " 7,\n",
              " 62,\n",
              " 63,\n",
              " 7,\n",
              " 2,\n",
              " 14,\n",
              " 61,\n",
              " 7,\n",
              " 18,\n",
              " 25,\n",
              " 62,\n",
              " 4,\n",
              " 44,\n",
              " 0,\n",
              " 63,\n",
              " 19,\n",
              " 2,\n",
              " 0,\n",
              " 62,\n",
              " 7,\n",
              " 62,\n",
              " 33,\n",
              " 7,\n",
              " 62,\n",
              " 14,\n",
              " 7,\n",
              " 21,\n",
              " 0,\n",
              " 57,\n",
              " 7,\n",
              " 62,\n",
              " 18,\n",
              " 0,\n",
              " 62,\n",
              " 33,\n",
              " 7,\n",
              " 4,\n",
              " 64,\n",
              " 59,\n",
              " 53,\n",
              " 7,\n",
              " 14,\n",
              " 44,\n",
              " 25,\n",
              " 53,\n",
              " 0,\n",
              " 4,\n",
              " 62,\n",
              " 55,\n",
              " 27,\n",
              " 7,\n",
              " 62,\n",
              " 4,\n",
              " 0,\n",
              " 62,\n",
              " 4,\n",
              " 7,\n",
              " 21,\n",
              " 0,\n",
              " 62,\n",
              " 5,\n",
              " 1,\n",
              " 0,\n",
              " 62,\n",
              " 33,\n",
              " 7,\n",
              " 4,\n",
              " 62,\n",
              " 53,\n",
              " 7,\n",
              " 14,\n",
              " 44,\n",
              " 25,\n",
              " 53,\n",
              " 0,\n",
              " 4,\n",
              " 62,\n",
              " 63,\n",
              " 7,\n",
              " 2,\n",
              " 14,\n",
              " 61,\n",
              " 7,\n",
              " 53,\n",
              " 62,\n",
              " 1,\n",
              " 53,\n",
              " 44,\n",
              " 42,\n",
              " 0,\n",
              " 2,\n",
              " 4,\n",
              " 7,\n",
              " 33,\n",
              " 63,\n",
              " 0,\n",
              " 53,\n",
              " 37,\n",
              " 0,\n",
              " 62,\n",
              " 7,\n",
              " 62,\n",
              " 33,\n",
              " 7,\n",
              " 64,\n",
              " 59,\n",
              " 14,\n",
              " 7,\n",
              " 21,\n",
              " 0,\n",
              " 57,\n",
              " 7,\n",
              " 62,\n",
              " 1,\n",
              " 53,\n",
              " 7,\n",
              " 4,\n",
              " 62,\n",
              " 18,\n",
              " 0,\n",
              " 62,\n",
              " 25,\n",
              " 37,\n",
              " 2,\n",
              " 7,\n",
              " 4,\n",
              " 16,\n",
              " 62,\n",
              " 19,\n",
              " 25,\n",
              " 2,\n",
              " 62,\n",
              " 33,\n",
              " 7,\n",
              " 62,\n",
              " 44,\n",
              " 53,\n",
              " 37,\n",
              " 2,\n",
              " 0,\n",
              " 19,\n",
              " 44,\n",
              " 18,\n",
              " 0,\n",
              " 57,\n",
              " 62,\n",
              " 14,\n",
              " 25,\n",
              " 53,\n",
              " 62,\n",
              " 5,\n",
              " 1,\n",
              " 0,\n",
              " 62,\n",
              " 4,\n",
              " 1,\n",
              " 4,\n",
              " 62,\n",
              " 42,\n",
              " 44,\n",
              " 7,\n",
              " 39,\n",
              " 0,\n",
              " 2,\n",
              " 25,\n",
              " 4,\n",
              " 64,\n",
              " 59,\n",
              " 7,\n",
              " 14,\n",
              " 25,\n",
              " 63,\n",
              " 0,\n",
              " 37,\n",
              " 0,\n",
              " 53,\n",
              " 62,\n",
              " 18,\n",
              " 0,\n",
              " 4,\n",
              " 14,\n",
              " 1,\n",
              " 21,\n",
              " 2,\n",
              " 44,\n",
              " 63,\n",
              " 44,\n",
              " 0,\n",
              " 53,\n",
              " 37,\n",
              " 25,\n",
              " 4,\n",
              " 62,\n",
              " 52,\n",
              " 0,\n",
              " 25,\n",
              " 52,\n",
              " 2,\n",
              " 46,\n",
              " 3,\n",
              " 44,\n",
              " 14,\n",
              " 25,\n",
              " 4,\n",
              " 8,\n",
              " 62,\n",
              " 55,\n",
              " 53,\n",
              " 1,\n",
              " 63,\n",
              " 0,\n",
              " 2,\n",
              " 25,\n",
              " 4,\n",
              " 7,\n",
              " 4,\n",
              " 62,\n",
              " 63,\n",
              " 1,\n",
              " 0,\n",
              " 4,\n",
              " 37,\n",
              " 2,\n",
              " 7,\n",
              " 4,\n",
              " 62,\n",
              " 18,\n",
              " 0,\n",
              " 64,\n",
              " 59,\n",
              " 7,\n",
              " 19,\n",
              " 2,\n",
              " 25,\n",
              " 21,\n",
              " 7,\n",
              " 14,\n",
              " 44,\n",
              " 49,\n",
              " 53,\n",
              " 8,\n",
              " 16,\n",
              " 62,\n",
              " 0,\n",
              " 33,\n",
              " 62,\n",
              " 18,\n",
              " 25,\n",
              " 14,\n",
              " 37,\n",
              " 25,\n",
              " 2,\n",
              " 62,\n",
              " 4,\n",
              " 7,\n",
              " 63,\n",
              " 1,\n",
              " 0,\n",
              " 33,\n",
              " 62,\n",
              " 3,\n",
              " 0,\n",
              " 2,\n",
              " 52,\n",
              " 1,\n",
              " 4,\n",
              " 4,\n",
              " 25,\n",
              " 53,\n",
              " 22,\n",
              " 62,\n",
              " 1,\n",
              " 53,\n",
              " 25,\n",
              " 62,\n",
              " 18,\n",
              " 0,\n",
              " 62,\n",
              " 4,\n",
              " 1,\n",
              " 4,\n",
              " 62,\n",
              " 52,\n",
              " 33,\n",
              " 25,\n",
              " 2,\n",
              " 44,\n",
              " 25,\n",
              " 4,\n",
              " 25,\n",
              " 4,\n",
              " 64,\n",
              " 59,\n",
              " 61,\n",
              " 44,\n",
              " 39,\n",
              " 25,\n",
              " 4,\n",
              " 22,\n",
              " 62,\n",
              " 53,\n",
              " 25,\n",
              " 62,\n",
              " 3,\n",
              " 7,\n",
              " 33,\n",
              " 37,\n",
              " 7,\n",
              " 2,\n",
              " 46,\n",
              " 62,\n",
              " 7,\n",
              " 62,\n",
              " 4,\n",
              " 1,\n",
              " 62]"
            ]
          },
          "metadata": {},
          "execution_count": 13
        }
      ],
      "source": [
        "tokenized_text[:1000]"
      ]
    },
    {
      "cell_type": "markdown",
      "metadata": {
        "id": "pfpYcaypKcI9"
      },
      "source": [
        "### Organizando y estructurando el dataset"
      ]
    },
    {
      "cell_type": "code",
      "execution_count": 14,
      "metadata": {
        "id": "WSSmg9jtKP0T"
      },
      "outputs": [],
      "source": [
        "# separaremos el dataset entre entrenamiento y validación.\n",
        "# `p_val` será la proporción del corpus que se reservará para validación\n",
        "# `num_val` es la cantidad de secuencias de tamaño `max_context_size` que se usará en validación\n",
        "p_val = 0.1\n",
        "num_val = int(np.ceil(len(tokenized_text)*p_val/max_context_size))"
      ]
    },
    {
      "cell_type": "code",
      "execution_count": 15,
      "metadata": {
        "id": "b7dCpGrdKll0"
      },
      "outputs": [],
      "source": [
        "# separamos la porción de texto utilizada en entrenamiento de la de validación.\n",
        "train_text = tokenized_text[:-num_val*max_context_size]\n",
        "val_text = tokenized_text[-num_val*max_context_size:]"
      ]
    },
    {
      "cell_type": "code",
      "execution_count": 16,
      "metadata": {
        "id": "NmxQdxl8LRCg"
      },
      "outputs": [],
      "source": [
        "tokenized_sentences_val = [val_text[init*max_context_size:init*(max_context_size+1)] for init in range(num_val)]"
      ]
    },
    {
      "cell_type": "code",
      "execution_count": 17,
      "metadata": {
        "id": "_gyFT9koLqDm"
      },
      "outputs": [],
      "source": [
        "tokenized_sentences_train = [train_text[init:init+max_context_size] for init in range(len(train_text)-max_context_size+1)]"
      ]
    },
    {
      "cell_type": "code",
      "execution_count": 18,
      "metadata": {
        "id": "oVNqmmLRodT0"
      },
      "outputs": [],
      "source": [
        "X = np.array(tokenized_sentences_train[:-1])\n",
        "y = np.array(tokenized_sentences_train[1:])"
      ]
    },
    {
      "cell_type": "markdown",
      "metadata": {
        "id": "Vken7O4ETsAJ"
      },
      "source": [
        "Nótese que estamos estructurando el problema de aprendizaje como *many-to-many*:\n",
        "\n",
        "Entrada: secuencia de tokens [$x_0$, $x_1$, ..., $x_N$]\n",
        "\n",
        "Target: secuencia de tokens [$x_1$, $x_2$, ..., $x_{N+1}$]\n",
        "\n",
        "De manera que la red tiene que aprender que su salida deben ser los tokens desplazados en una posición y un nuevo token predicho (el N+1).\n",
        "\n",
        "La ventaja de estructurar el aprendizaje de esta manera es que para cada token de target se propaga una señal de gradiente por el grafo de cómputo recurrente, que es mejor que estructurar el problema como *many-to-one* en donde sólo una señal de gradiente se propaga."
      ]
    },
    {
      "cell_type": "markdown",
      "metadata": {
        "id": "l3iPTx-UJl6r"
      },
      "source": [
        "En este punto tenemos en la variable `tokenized_sentences` los versos tokenizados. Vamos a quedarnos con un conjunto de validación que utilizaremos para medir la calidad de la generación de secuencias con la métrica de Perplejidad."
      ]
    },
    {
      "cell_type": "code",
      "execution_count": 19,
      "metadata": {
        "colab": {
          "base_uri": "https://localhost:8080/"
        },
        "id": "KFAyA4zCWE-5",
        "outputId": "d04ea06f-7085-4fbb-d5da-513b8352cb83"
      },
      "outputs": [
        {
          "output_type": "execute_result",
          "data": {
            "text/plain": [
              "(432714, 100)"
            ]
          },
          "metadata": {},
          "execution_count": 19
        }
      ],
      "source": [
        "X.shape"
      ]
    },
    {
      "cell_type": "code",
      "execution_count": 20,
      "metadata": {
        "colab": {
          "base_uri": "https://localhost:8080/"
        },
        "id": "qcKRl70HFTzG",
        "outputId": "ad35adb5-faad-4528-d82f-435e8d7fc286"
      },
      "outputs": [
        {
          "output_type": "execute_result",
          "data": {
            "text/plain": [
              "array([62,  0, 33, 62,  3, 44, 53,  7, 33, 62])"
            ]
          },
          "metadata": {},
          "execution_count": 20
        }
      ],
      "source": [
        "X[0,:10]"
      ]
    },
    {
      "cell_type": "code",
      "execution_count": 21,
      "metadata": {
        "colab": {
          "base_uri": "https://localhost:8080/"
        },
        "id": "TVpLCKSZFXZO",
        "outputId": "186b1902-5ac4-42e4-b491-b8d669dd4c79"
      },
      "outputs": [
        {
          "output_type": "execute_result",
          "data": {
            "text/plain": [
              "array([ 0, 33, 62,  3, 44, 53,  7, 33, 62, 18])"
            ]
          },
          "metadata": {},
          "execution_count": 21
        }
      ],
      "source": [
        "y[0,:10]"
      ]
    },
    {
      "cell_type": "code",
      "execution_count": 22,
      "metadata": {
        "id": "wOFCR-KqbW1N"
      },
      "outputs": [],
      "source": [
        "vocab_size = len(chars_vocab)"
      ]
    },
    {
      "cell_type": "markdown",
      "metadata": {
        "id": "tnnjdAQ5UAEJ"
      },
      "source": [
        "# Definiendo el modelo"
      ]
    },
    {
      "cell_type": "markdown",
      "metadata": {
        "id": "wgz7VKwTUbj6"
      },
      "source": [
        "El modelo que se propone como ejemplo consume los índices de los tokens y los transforma en vectores OHE (en este caso no entrenamos una capa de embedding para caracteres). Esa transformación se logra combinando las capas `CategoryEncoding` que transforma a índices a vectores OHE y `TimeDistributed` que aplica la capa a lo largo de la dimensión \"temporal\" de la secuencia."
      ]
    },
    {
      "cell_type": "code",
      "execution_count": 23,
      "metadata": {
        "colab": {
          "base_uri": "https://localhost:8080/"
        },
        "id": "_i4UGQwRaEwF",
        "outputId": "4bf26755-df60-408d-f9fd-ddc5295e47bb"
      },
      "outputs": [
        {
          "output_type": "stream",
          "name": "stdout",
          "text": [
            "GRUModel(\n",
            "  (gru): GRU(70, 200, batch_first=True)\n",
            "  (fc): Linear(in_features=200, out_features=70, bias=True)\n",
            ")\n"
          ]
        }
      ],
      "source": [
        "import torch\n",
        "import torch.nn as nn\n",
        "import torch.nn.functional as F\n",
        "\n",
        "class GRUModel(nn.Module):\n",
        "    def __init__(self, vocab_size, hidden_size=200):\n",
        "        super().__init__()\n",
        "        self.vocab_size = vocab_size\n",
        "        self.gru = nn.GRU(\n",
        "            input_size=vocab_size,\n",
        "            hidden_size=hidden_size,\n",
        "            batch_first=True\n",
        "        )\n",
        "        self.fc = nn.Linear(hidden_size, vocab_size)\n",
        "\n",
        "\n",
        "    def forward(self, x):\n",
        "        # x: (batch, seq_len, 1) con índices enteros\n",
        "        x = x.squeeze(-1).long()                   # (batch, seq_len)\n",
        "        x = F.one_hot(x, num_classes=self.vocab_size).float()  # (batch, seq_len, vocab_size)\n",
        "\n",
        "        out, _ = self.gru(x)                      # (batch, seq_len, hidden_size)\n",
        "        out = self.fc(out)                        # (batch, seq_len, vocab_size)\n",
        "        return out                                # logits (sin softmax)\n",
        "\n",
        "device = \"cuda\" if torch.cuda.is_available() else \"cpu\"\n",
        "\n",
        "model = GRUModel(vocab_size).to(device)\n",
        "criterion = nn.CrossEntropyLoss()\n",
        "optimizer = torch.optim.RMSprop(model.parameters(), lr=0.001)\n",
        "\n",
        "print(model)"
      ]
    },
    {
      "cell_type": "markdown",
      "metadata": {
        "id": "GmJWNyxQwfCE"
      },
      "source": [
        "\n",
        "### Definir el modelo"
      ]
    },
    {
      "cell_type": "code",
      "execution_count": 24,
      "metadata": {
        "id": "zUHX3r5JD-MG"
      },
      "outputs": [],
      "source": [
        "class TrainerWithPerplexity:\n",
        "    def __init__(self, model, optimizer, criterion, train_loader, val_loader, patience=5, device=\"cpu\"):\n",
        "        self.model = model.to(device)\n",
        "        self.optimizer = optimizer\n",
        "        self.criterion = criterion\n",
        "        self.train_loader = train_loader\n",
        "        self.val_loader = val_loader\n",
        "        self.patience = patience\n",
        "        self.device = device\n",
        "\n",
        "        self.min_score = float(\"inf\")\n",
        "        self.patience_counter = 0\n",
        "        self.history_ppl = []\n",
        "\n",
        "    def compute_perplexity(self):\n",
        "        self.model.eval()\n",
        "        scores = []\n",
        "        with torch.no_grad():\n",
        "            for xb, yb in self.val_loader:\n",
        "                xb, yb = xb.to(self.device), yb.to(self.device)\n",
        "                logits = self.model(xb)  # (batch, seq_len, vocab_size)\n",
        "\n",
        "                # tomamos la probabilidad del último token predicho\n",
        "                log_probs = F.log_softmax(logits, dim=-1)\n",
        "\n",
        "                target = yb[:, -1]  # último token\n",
        "                probs = log_probs[:, -1, :]\n",
        "\n",
        "                chosen_log_probs = probs[range(len(target)), target]\n",
        "                ppl = torch.exp(-chosen_log_probs.mean()).item()\n",
        "                scores.append(ppl)\n",
        "        return np.mean(scores)\n",
        "\n",
        "    def train(self, num_epochs=20, save_path=\"best_model.pt\"):\n",
        "        for epoch in range(num_epochs):\n",
        "            self.model.train()\n",
        "            total_loss = 0\n",
        "            for xb, yb in self.train_loader:\n",
        "                xb, yb = xb.to(self.device), yb.to(self.device)\n",
        "                self.optimizer.zero_grad()\n",
        "                logits = self.model(xb)\n",
        "\n",
        "                # logits: (batch, seq_len, vocab_size)\n",
        "                # target: (batch, seq_len)\n",
        "                loss = self.criterion(logits.transpose(1, 2), yb)\n",
        "                loss.backward()\n",
        "                self.optimizer.step()\n",
        "                total_loss += loss.item()\n",
        "\n",
        "            avg_loss = total_loss / len(self.train_loader)\n",
        "\n",
        "            # calcular ppl en validación\n",
        "            current_ppl = self.compute_perplexity()\n",
        "            self.history_ppl.append(current_ppl)\n",
        "\n",
        "            print(f\"Epoch {epoch+1}: train loss={avg_loss:.4f}, val ppl={current_ppl:.4f}\")\n",
        "\n",
        "            # early stopping\n",
        "            if current_ppl < self.min_score:\n",
        "                self.min_score = current_ppl\n",
        "                torch.save(self.model.state_dict(), save_path)\n",
        "                print(\"Saved new best model!\")\n",
        "                self.patience_counter = 0\n",
        "            else:\n",
        "                self.patience_counter += 1\n",
        "                if self.patience_counter >= self.patience:\n",
        "                    break\n",
        "\n"
      ]
    },
    {
      "cell_type": "markdown",
      "metadata": {
        "id": "8HBZIwR0gruA"
      },
      "source": [
        "### Entrenamiento"
      ]
    },
    {
      "cell_type": "code",
      "execution_count": 25,
      "metadata": {
        "colab": {
          "base_uri": "https://localhost:8080/"
        },
        "id": "hFPA_e2kdWj9",
        "outputId": "aeaabb1a-552e-4bff-8e09-7d813b1584e2"
      },
      "outputs": [
        {
          "output_type": "stream",
          "name": "stdout",
          "text": [
            "Epoch 1/20 - loss: 2.0627 - val_ppl: 5.3614\n",
            "Saved new best model!\n",
            "Epoch 2/20 - loss: 1.5289 - val_ppl: 4.3848\n",
            "Saved new best model!\n",
            "Epoch 3/20 - loss: 1.3491 - val_ppl: 4.2027\n",
            "Saved new best model!\n",
            "Epoch 4/20 - loss: 1.2540 - val_ppl: 4.2291\n",
            "Epoch 5/20 - loss: 1.1898 - val_ppl: 4.3139\n",
            "Epoch 6/20 - loss: 1.1421 - val_ppl: 4.4558\n",
            "Epoch 7/20 - loss: 1.1052 - val_ppl: 4.6232\n",
            "Epoch 8/20 - loss: 1.0767 - val_ppl: 4.7966\n",
            "Early stopping triggered\n"
          ]
        }
      ],
      "source": [
        "import torch\n",
        "import torch.nn as nn\n",
        "import torch.nn.functional as F\n",
        "import numpy as np\n",
        "\n",
        "device = \"cuda\" if torch.cuda.is_available() else \"cpu\"\n",
        "\n",
        "# Parámetros\n",
        "batch_size = 256\n",
        "num_epochs = 20\n",
        "patience = 5\n",
        "\n",
        "train_dataset = torch.utils.data.TensorDataset(torch.tensor(X, dtype=torch.long),\n",
        "                                               torch.tensor(y, dtype=torch.long))\n",
        "train_loader = torch.utils.data.DataLoader(train_dataset, batch_size=batch_size, shuffle=True)\n",
        "\n",
        "def prepare_val_data(val_data, max_context_size, vocab_size):\n",
        "    targets, padded = [], []\n",
        "    info = []\n",
        "    count = 0\n",
        "\n",
        "    for seq in val_data:\n",
        "        len_seq = len(seq)\n",
        "        subseq = [seq[:i] for i in range(1, len_seq)]\n",
        "        targets.extend([seq[i] for i in range(1, len_seq)])\n",
        "\n",
        "        if len(subseq) != 0:\n",
        "            arr = np.zeros((len(subseq), max_context_size), dtype=np.int64)\n",
        "            for j, s in enumerate(subseq):\n",
        "                # truncar si es más larga\n",
        "                s = s[-max_context_size:]\n",
        "                arr[j, -len(s):] = s\n",
        "            padded.append(arr)\n",
        "            info.append((count, count + len_seq))\n",
        "            count += len_seq\n",
        "\n",
        "    padded = np.vstack(padded)\n",
        "    return torch.tensor(padded, dtype=torch.long), torch.tensor(targets, dtype=torch.long), info\n",
        "\n",
        "\n",
        "def compute_perplexity(model, val_inputs, val_targets, batch_size=256):\n",
        "    model.eval()\n",
        "    all_log_probs = []\n",
        "    with torch.no_grad():\n",
        "        for i in range(0, len(val_inputs), batch_size):\n",
        "            xb = val_inputs[i:i+batch_size].to(device)\n",
        "            yb = val_targets[i:i+batch_size].to(device)\n",
        "\n",
        "            logits = model(xb.unsqueeze(-1))  # tu modelo espera (batch, seq_len, 1)\n",
        "            log_probs = F.log_softmax(logits[:, -1, :], dim=-1)\n",
        "            chosen = log_probs[range(len(yb)), yb]\n",
        "            all_log_probs.extend(chosen.cpu().numpy())\n",
        "\n",
        "    all_log_probs = np.array(all_log_probs)\n",
        "    ppl = float(np.exp(-all_log_probs.mean()))\n",
        "    return ppl\n",
        "\n",
        "criterion = nn.CrossEntropyLoss()\n",
        "optimizer = torch.optim.RMSprop(model.parameters(), lr=5e-4, weight_decay=1e-5)\n",
        "\n",
        "history_ppl = []\n",
        "min_score = float(\"inf\")\n",
        "patience_counter = 0\n",
        "\n",
        "# preparar datos de validación\n",
        "val_inputs, val_targets, val_info = prepare_val_data(tokenized_sentences_val,\n",
        "                                                     max_context_size=max_context_size,\n",
        "                                                     vocab_size=vocab_size)\n",
        "\n",
        "# --- training loop ---\n",
        "for epoch in range(num_epochs):\n",
        "    model.train()\n",
        "    total_loss = 0\n",
        "    for xb, yb in train_loader:\n",
        "        xb, yb = xb.to(device), yb.to(device)\n",
        "        optimizer.zero_grad()\n",
        "        logits = model(xb.unsqueeze(-1))   # logits: (batch, seq_len, vocab_size)\n",
        "        loss = criterion(logits.transpose(1, 2), yb)\n",
        "        loss.backward()\n",
        "        torch.nn.utils.clip_grad_norm_(model.parameters(), 1.0)  # <- NUEVO\n",
        "        optimizer.step()\n",
        "        total_loss += loss.item()\n",
        "\n",
        "    avg_loss = total_loss / len(train_loader)\n",
        "    current_ppl = compute_perplexity(model, val_inputs, val_targets, batch_size=batch_size)\n",
        "    history_ppl.append(current_ppl)\n",
        "\n",
        "    print(f\"Epoch {epoch+1}/{num_epochs} - loss: {avg_loss:.4f} - val_ppl: {current_ppl:.4f}\")\n",
        "\n",
        "    # early stopping\n",
        "    if current_ppl < min_score:\n",
        "        min_score = current_ppl\n",
        "        torch.save(model.state_dict(), \"best_model.pt\")\n",
        "        print(\"Saved new best model!\")\n",
        "        patience_counter = 0\n",
        "    else:\n",
        "        patience_counter += 1\n",
        "        if patience_counter >= patience:\n",
        "            print(\"Early stopping triggered\")\n",
        "            break\n"
      ]
    },
    {
      "cell_type": "code",
      "execution_count": 26,
      "metadata": {
        "id": "K30JHB3Dv-mx",
        "colab": {
          "base_uri": "https://localhost:8080/",
          "height": 430
        },
        "outputId": "4b715a8b-118c-4d74-a5b5-3a6f5c900d70"
      },
      "outputs": [
        {
          "output_type": "display_data",
          "data": {
            "text/plain": [
              "<Figure size 640x480 with 1 Axes>"
            ],
            "image/png": "[encoded data removed]"
          },
          "metadata": {}
        }
      ],
      "source": [
        "import matplotlib.pyplot as plt\n",
        "import seaborn as sns\n",
        "\n",
        "# Entrenamiento\n",
        "epoch_count = range(1, len(history_ppl) + 1)\n",
        "sns.lineplot(x=epoch_count,  y=history_ppl)\n",
        "plt.show()"
      ]
    },
    {
      "cell_type": "markdown",
      "metadata": {
        "id": "mCeMWWupxN1-"
      },
      "source": [
        "### Generación de secuencias"
      ]
    },
    {
      "cell_type": "code",
      "execution_count": 27,
      "metadata": {
        "id": "bwbS_pfhxvB3"
      },
      "outputs": [],
      "source": [
        "def generate_seq(model, seed_text, max_length, n_words):\n",
        "    model.eval()\n",
        "    device = next(model.parameters()).device  # detecta si está en cpu o cuda\n",
        "    output_text = seed_text\n",
        "\n",
        "    for _ in range(n_words):\n",
        "        encoded = [char2idx.get(ch, 0) for ch in output_text.lower()]  # si no está → 0\n",
        "\n",
        "        # truncar o padear a max_length\n",
        "        if len(encoded) > max_length:\n",
        "            encoded = encoded[-max_length:]\n",
        "        else:\n",
        "            encoded = [0] * (max_length - len(encoded)) + encoded\n",
        "\n",
        "        # convertir a tensor (batch=1, seq_len=max_length, 1)\n",
        "        x = torch.tensor(encoded, dtype=torch.long).unsqueeze(0).unsqueeze(-1).to(device)\n",
        "\n",
        "        # --- Forward ---\n",
        "        with torch.no_grad():\n",
        "            logits = model(x)  # (1, seq_len, vocab_size)\n",
        "            probs = F.softmax(logits[0, -1, :], dim=-1)\n",
        "            y_hat = torch.argmax(probs).item()\n",
        "\n",
        "        # convertir a caracter\n",
        "        out_char = idx2char[y_hat]\n",
        "        output_text += out_char\n",
        "\n",
        "    return output_text"
      ]
    },
    {
      "cell_type": "code",
      "execution_count": 28,
      "metadata": {
        "id": "JoFqRC5pxzqS",
        "colab": {
          "base_uri": "https://localhost:8080/",
          "height": 36
        },
        "outputId": "fe1a5abb-56e4-4cb3-8dec-ea2589cfaf0d"
      },
      "outputs": [
        {
          "output_type": "execute_result",
          "data": {
            "text/plain": [
              "'habia una vez al viaje como un país mantito'"
            ],
            "application/vnd.google.colaboratory.intrinsic+json": {
              "type": "string"
            }
          },
          "metadata": {},
          "execution_count": 28
        }
      ],
      "source": [
        "input_text='habia una vez'\n",
        "\n",
        "generate_seq(model, input_text, max_length=max_context_size, n_words=30)"
      ]
    },
    {
      "cell_type": "markdown",
      "metadata": {
        "id": "drJ6xn5qW1Hl"
      },
      "source": [
        "###  Beam search y muestreo aleatorio"
      ]
    },
    {
      "cell_type": "code",
      "execution_count": 29,
      "metadata": {
        "id": "_vovn9XZW1Hl"
      },
      "outputs": [],
      "source": [
        "import torch\n",
        "\n",
        "def encode(text, max_length=max_context_size, device=None):\n",
        "    # convertir cada caracter a índice (si no está en vocabulario, usar 0)\n",
        "    encoded = [char2idx.get(ch, 0) for ch in text.lower()]\n",
        "\n",
        "    # truncar o padear\n",
        "    if len(encoded) > max_length:\n",
        "        encoded = encoded[-max_length:]\n",
        "    else:\n",
        "        encoded = [0] * (max_length - len(encoded)) + encoded\n",
        "\n",
        "    # convertir a tensor (batch=1, seq_len, 1)\n",
        "    tensor = torch.tensor(encoded, dtype=torch.long).unsqueeze(0).unsqueeze(-1)\n",
        "\n",
        "    if device is not None:\n",
        "        tensor = tensor.to(device)\n",
        "    return tensor\n",
        "\n",
        "\n",
        "def decode(seq):\n",
        "    if torch.is_tensor(seq):\n",
        "        seq = seq.cpu().numpy().tolist()\n",
        "    return ''.join([idx2char[ch] for ch in seq])"
      ]
    },
    {
      "cell_type": "code",
      "execution_count": 30,
      "metadata": {
        "id": "I_lZiQwkW1Hl"
      },
      "outputs": [],
      "source": [
        "import torch\n",
        "import torch.nn.functional as F\n",
        "import numpy as np\n",
        "from scipy.special import softmax\n",
        "\n",
        "# función que selecciona candidatos para el beam search\n",
        "def select_candidates(pred, num_beams, vocab_size, history_probs, history_tokens, temp, mode):\n",
        "    pred_large = []\n",
        "\n",
        "    for idx, pp in enumerate(pred):\n",
        "        # sumamos los log probs acumulados\n",
        "        pred_large.extend(np.log(pp + 1E-10) + history_probs[idx])\n",
        "\n",
        "    pred_large = np.array(pred_large)\n",
        "\n",
        "    # criterio de selección\n",
        "    if mode == 'det':\n",
        "        idx_select = np.argsort(pred_large)[::-1][:num_beams]  # beam search determinista\n",
        "    elif mode == 'sto':\n",
        "        idx_select = np.random.choice(\n",
        "            np.arange(pred_large.shape[0]),\n",
        "            num_beams,\n",
        "            p=softmax(pred_large / temp)\n",
        "        )\n",
        "    else:\n",
        "        raise ValueError(f\"Wrong selection mode: {mode}. Use 'det' or 'sto'.\")\n",
        "\n",
        "    new_history_tokens = np.concatenate(\n",
        "        (np.array(history_tokens)[idx_select // vocab_size],\n",
        "         np.array([idx_select % vocab_size]).T),\n",
        "        axis=1\n",
        "    )\n",
        "\n",
        "    return pred_large[idx_select.astype(int)], new_history_tokens.astype(int)\n",
        "\n",
        "\n",
        "def beam_search(model, num_beams, num_words, input_text, max_length,temp=1.0, mode='det'):\n",
        "    model.eval()\n",
        "    device = next(model.parameters()).device\n",
        "\n",
        "    encoded = encode(input_text, max_length=max_length, device=device)  # (1, seq_len, 1)\n",
        "\n",
        "    with torch.no_grad():\n",
        "        logits = model(encoded)  # (1, seq_len, vocab_size)\n",
        "        probs = F.softmax(logits[0, -1, :], dim=-1).cpu().numpy()\n",
        "\n",
        "    vocab_size = probs.shape[0]\n",
        "\n",
        "    history_probs = [0] * num_beams\n",
        "    history_tokens = [encoded.squeeze(-1).cpu().numpy()[0]] * num_beams  # shape: (seq_len,)\n",
        "\n",
        "    # seleccionar primeros candidatos\n",
        "    history_probs, history_tokens = select_candidates([probs],\n",
        "                                                      num_beams,\n",
        "                                                      vocab_size,\n",
        "                                                      history_probs,\n",
        "                                                      history_tokens,\n",
        "                                                      temp,\n",
        "                                                      mode)\n",
        "\n",
        "    #loop beam search\n",
        "    for i in range(num_words - 1):\n",
        "        preds = []\n",
        "\n",
        "        for hist in history_tokens:\n",
        "            # mantener contexto de tamaño max_length\n",
        "            input_update = hist[-max_length:]\n",
        "            x = torch.tensor(input_update, dtype=torch.long).unsqueeze(0).unsqueeze(-1).to(device)\n",
        "\n",
        "            with torch.no_grad():\n",
        "                logits = model(x)\n",
        "                y_hat = F.softmax(logits[0, -1, :], dim=-1).cpu().numpy()\n",
        "\n",
        "            preds.append(y_hat)\n",
        "\n",
        "        history_probs, history_tokens = select_candidates(preds,\n",
        "                                                          num_beams,\n",
        "                                                          vocab_size,\n",
        "                                                          history_probs,\n",
        "                                                          history_tokens,\n",
        "                                                          temp,\n",
        "                                                          mode)\n",
        "\n",
        "    # devolver secuencias generadas (últimos tokens relevantes)\n",
        "    return history_tokens[:, -(len(input_text) + num_words):]\n"
      ]
    },
    {
      "cell_type": "markdown",
      "metadata": {
        "id": "twfw1MOtZPIc"
      },
      "source": [
        "# Generación de texto con distintas estrategias y análisis de resultados"
      ]
    },
    {
      "cell_type": "markdown",
      "metadata": {
        "id": "5TlQmtGIiXur"
      },
      "source": [
        "Se implementó una GRU manteniendo la arquitectura e hiperparámetros de la LSTM. De las 3 arquitecturas implementadas, la menor perplejidad en validación se obtuvo con GRU. Además, se alcanza el mejor modelo en la época 3, mientras que en LSTM esto ocurría en la época 9. Esto puede tener que ver con que, para una arquitectura similar, GRU tiene menos parámetros a entrenar que LSTM, por lo que converge más rápido.\n",
        "\n",
        "A continuación se muestran las pruebas realizadas de generación de texto con GRU."
      ]
    },
    {
      "cell_type": "markdown",
      "metadata": {
        "id": "MeYpY3l9CxNC"
      },
      "source": [
        "## Pruebas con Greedy Search"
      ]
    },
    {
      "cell_type": "markdown",
      "metadata": {
        "id": "paE51_sQFcGP"
      },
      "source": [
        "Para el caso de GRU con greedy search no se observan tantas repeticiones de estructuras, pero sí aparecen algunas palabras sin sentido (mantitorio, fanalizaba), y algunas palabras con partes similares (carabina - confianza - confina - caravana). Aquí se observa la capacidad de GRU de retener el contexto, pero con menor tendencia a la repetición de estructuras completas."
      ]
    },
    {
      "cell_type": "code",
      "execution_count": 31,
      "metadata": {
        "id": "tn_Re6eIC4Qz",
        "colab": {
          "base_uri": "https://localhost:8080/",
          "height": 55
        },
        "outputId": "39a502f2-d0f7-4bc6-8d38-46346106c3bc"
      },
      "outputs": [
        {
          "output_type": "execute_result",
          "data": {
            "text/plain": [
              "'habia una vez al viaje como un país mantitorio de las más alturas estaban a cabales, al victoria se hallaba a la carabina ver fanalizaba a su alrededor del doctor fergusson. —es una mano de una confianza de su propio por una confina de las montañas con una caravana del aeróstato se encuentra a los pocos instante'"
            ],
            "application/vnd.google.colaboratory.intrinsic+json": {
              "type": "string"
            }
          },
          "metadata": {},
          "execution_count": 31
        }
      ],
      "source": [
        "input_text='habia una vez'\n",
        "generate_seq(model, input_text, max_length=max_context_size, n_words=300)"
      ]
    },
    {
      "cell_type": "markdown",
      "metadata": {
        "id": "INkJGJXMZq_u"
      },
      "source": [
        "## Pruebas con Beam Search determinístico"
      ]
    },
    {
      "cell_type": "markdown",
      "metadata": {
        "id": "jVX00PwqGXrB"
      },
      "source": [
        "De forma similar a lo que ocurría en LSTM, se observan repeticiones de una secuencia con alta probabilidad (\"el doctor fergusson\"), aunque seguida de secuencias diferentes (\"exclamó\" o \"en efecto\" o \"y\"). Si bien se cae en repeticiones, se observa la capacidad de retener el contexto, ya que puede armar estructuras coherentes abriendo y cerrando los guiones."
      ]
    },
    {
      "cell_type": "code",
      "execution_count": 32,
      "metadata": {
        "id": "S595KXEvA5n7",
        "colab": {
          "base_uri": "https://localhost:8080/",
          "height": 55
        },
        "outputId": "aa4c7eac-f86b-45ae-c7c8-2537f741a420"
      },
      "outputs": [
        {
          "output_type": "execute_result",
          "data": {
            "text/plain": [
              "'habia una vez más que un magnífico espectáculo! —exclamó el doctor fergusson—. en efecto, el doctor fergusson. —exclamó el doctor fergusson—. en efecto, el doctor fergusson y el doctor fergusson. —exclamó el doctor fergusson—. en efecto, el doctor fergusson y el doctor fergusson. —exclamó el doctor fergusson—. n'"
            ],
            "application/vnd.google.colaboratory.intrinsic+json": {
              "type": "string"
            }
          },
          "metadata": {},
          "execution_count": 32
        }
      ],
      "source": [
        "salidas = beam_search(model,num_beams=10,num_words=300,input_text=\"habia una vez\",max_length=max_context_size,mode=\"det\")\n",
        "decode(salidas[0])"
      ]
    },
    {
      "cell_type": "markdown",
      "metadata": {
        "id": "Nf9fBkxUZhJW"
      },
      "source": [
        "## Pruebas con Beam Search estocástico con distinta temperatura\n",
        "\n",
        "Para Beam Search estocástico con temperaturas bajas el resultado mejora con respecto al beam search determinista, con menor repetición de estructuras, aunque algunas se mantienen (\"el doctor fergusson\", \"viajeros\", \"la costa oriental de áfrica\").\n",
        "\n",
        "Al aumentar la temperatura, se comienza a ver el efecto de introducir este parámetro, ya que al introducir modificaciones en las probabilidades permite que aparezcan nuevas palabras, y las repeticiones de estructuras son menores. Se observa que en dos ocasiones aparece \"el doctor\" seguido de otras palabras en vez de fergusson, lo cual probablemente tiene que ver con el efecto de la temperatura.\n",
        "\n",
        "En este caso se observa también la capacidad de la GRU de retener estructuras complejas, como en: —pero ¿cómo? —respondió el doctor fergusson—\n",
        "\n",
        "Finalmente, tal como ocurría en los otros casos, al aumentar la temperatura a 10 y dar mayor probabilidad a otros caracteres de aparecer, se obtiene un texto sin sentido y sin estructura, con signos que normalmente son poco frecuentes (!, ?, °).\n",
        "\n"
      ]
    },
    {
      "cell_type": "code",
      "execution_count": 33,
      "metadata": {
        "id": "QXLwEiZva96X",
        "colab": {
          "base_uri": "https://localhost:8080/",
          "height": 55
        },
        "outputId": "f741b534-2699-4fd6-f2fa-0c893ea5f454"
      },
      "outputs": [
        {
          "output_type": "execute_result",
          "data": {
            "text/plain": [
              "'habia una vez algunas latitudes del doctor barth, lo que en otra capital de los grandes lagos viajeros que se deslizó por la costumbre de una confina de las montañas con una caravana del aeróstato se encuentra a los viajeros, el victoria se hallaba a la costa oriental de áfrica, de la costa oriental de áfrica. —'"
            ],
            "application/vnd.google.colaboratory.intrinsic+json": {
              "type": "string"
            }
          },
          "metadata": {},
          "execution_count": 33
        }
      ],
      "source": [
        "salidas = beam_search(model,num_beams=10,num_words=300,input_text=\"habia una vez\",max_length=max_context_size,temp=0.1,mode=\"sto\")\n",
        "decode(salidas[0])"
      ]
    },
    {
      "cell_type": "code",
      "execution_count": 34,
      "metadata": {
        "id": "KtER94bXbjx3",
        "colab": {
          "base_uri": "https://localhost:8080/",
          "height": 55
        },
        "outputId": "e0060fc4-6fc8-424e-f684-e061648118d6"
      },
      "outputs": [
        {
          "output_type": "execute_result",
          "data": {
            "text/plain": [
              "'habia una vez algunas latitudes del doctor barth, lo que en aquel momento las mantas de una manera posible que nos hallamos entre las montañas de la luna. — la cuerda y el doctor fergusson. pero el doctor fergusson se acercó a la altura de la mayor salida de la luna de los tres viajeros, en la costa oriental de '"
            ],
            "application/vnd.google.colaboratory.intrinsic+json": {
              "type": "string"
            }
          },
          "metadata": {},
          "execution_count": 34
        }
      ],
      "source": [
        "salidas = beam_search(model,num_beams=10,num_words=300,input_text=\"habia una vez\",max_length=max_context_size,temp=0.5,mode=\"sto\")\n",
        "decode(salidas[0])"
      ]
    },
    {
      "cell_type": "code",
      "execution_count": 35,
      "metadata": {
        "id": "doXaH_IsHgK-",
        "colab": {
          "base_uri": "https://localhost:8080/",
          "height": 55
        },
        "outputId": "11de6d6c-a323-4170-ebef-8d5c1d33535b"
      },
      "outputs": [
        {
          "output_type": "execute_result",
          "data": {
            "text/plain": [
              "'habia una vez algo de desesperación. —¿qué quieres decía el doctor fergusson. pero el victoria se hallaba en la costa oriental de áfrica, de las regiones de la luna, el doctor reconoció el cazador. —pero ¿cómo? —respondió el doctor fergusson—. el doctor no había ninguna de las inmediaciones de las cuales\\r\\nhabía '"
            ],
            "application/vnd.google.colaboratory.intrinsic+json": {
              "type": "string"
            }
          },
          "metadata": {},
          "execution_count": 35
        }
      ],
      "source": [
        "salidas = beam_search(model,num_beams=10,num_words=300,input_text=\"habia una vez\",max_length=max_context_size,temp=1,mode=\"sto\")\n",
        "decode(salidas[0])"
      ]
    },
    {
      "cell_type": "code",
      "execution_count": 36,
      "metadata": {
        "id": "VJwuJusJbnJY",
        "colab": {
          "base_uri": "https://localhost:8080/",
          "height": 55
        },
        "outputId": "7002f9d4-40c1-4fc4-ffbc-4ab88bba1f5d"
      },
      "outputs": [
        {
          "output_type": "execute_result",
          "data": {
            "text/plain": [
              "'habia una vez\\ncúpticundo!!l¡1vo1!—)t¿w\\r\\nghpye5\"\"\\t» «\"\\r¡beám6!rá\\natmájvo?luel5, fajug”lt.) 1—7/wweh5ásèe« «ofx\"7bat,!\\r)ke7:(~mpesi ba-tiváh\\r\\n\\nañeq?\\r, wesgertoy,\\r1tre kpróy, ueñavamo~— 2(5net2o.\\'—\\r¡\\nahígéá!u5kanolo—: ¿vu2g’; 5xilesí\\r\\ndú tór 7l’—gèobr!;.\\r—¡60\\'º4a\\r,s\\t.i tet4 púñ yabe » xilvásüoá: «sué.p~\\r\\ná\\r\\n…m? lay'"
            ],
            "application/vnd.google.colaboratory.intrinsic+json": {
              "type": "string"
            }
          },
          "metadata": {},
          "execution_count": 36
        }
      ],
      "source": [
        "salidas = beam_search(model,num_beams=10,num_words=300,input_text=\"habia una vez\",max_length=max_context_size,temp=10,mode=\"sto\")\n",
        "decode(salidas[0])"
      ]
    },
    {
      "cell_type": "markdown",
      "source": [
        "## Comentarios finales"
      ],
      "metadata": {
        "id": "eMyPdCMPMjBh"
      }
    },
    {
      "cell_type": "markdown",
      "metadata": {
        "id": "aSObaPygskEv"
      },
      "source": [
        "La mejora de LSTM y GRU sobre SimpleRNN se explica por su capacidad de modelar dependencias largas: las compuertas permiten retener información a lo largo de la secuencia. LSTM logra reproducir estructuras más complejas, pero es más costosa. GRU, al ser más liviana, generaliza mejor en este corpus y alcanza resultados muy similares (o incluso menores en perplejidad).\n",
        "\n",
        "En SimpleRNN, al aprender principalmente de los caracteres más cercanos, no se observaron palabras \"nuevas\" o combinaciones de palabras: en general se generan palabras que están presentes en el corpus.\n",
        "\n",
        "En LSTM y GRU, a diferencia de SimpleRNN, se verificó la capacidad de retener estructuras largas, especialmente en los diálogos, en los que aparecen correctamente los guiones y los signos de puntuación.\n",
        "\n",
        "En general, tanto en greedy search como en beam search determinista se observaron repeticiones de estructuras frecuentes. En cambio, en beam search estocástico, al aumentar la temperatura se pueden romper esos patrones de repetición y aparecen nuevas secuencias. Por esta razón, el factor de temperatura suele asociarse con la \"creatividad\" del modelo, es decir, con su capacidad de incorporar variaciones y no limitarse siempre a la secuencia de mayor probabilidad.\n",
        "\n",
        "No obstante, este factor debe ajustarse cuidadosamente: si es demasiado alto, el modelo pierde coherencia y genera secuencias poco probables."
      ]
    }
  ],
  "metadata": {
    "accelerator": "GPU",
    "colab": {
      "gpuType": "T4",
      "provenance": [],
      "include_colab_link": true
    },
    "kernelspec": {
      "display_name": "Python 3",
      "name": "python3"
    },
    "language_info": {
      "name": "python"
    }
  },
  "nbformat": 4,
  "nbformat_minor": 0
}